{
 "cells": [
  {
   "cell_type": "code",
   "execution_count": 1,
   "metadata": {},
   "outputs": [],
   "source": [
    "import warnings \n",
    "import math\n",
    "import pandas as pd\n",
    "import numpy as np\n",
    "import matplotlib.pyplot as plt \n",
    "import seaborn as sns\n",
    "\n",
    "from sklearn.preprocessing import StandardScaler, LabelEncoder\n",
    "from sklearn.model_selection import train_test_split\n",
    "from sklearn.linear_model import LinearRegression\n",
    "from sklearn.tree import DecisionTreeRegressor\n",
    "from sklearn.ensemble import RandomForestRegressor\n",
    "import xgboost as xgb\n",
    "import torch \n",
    "import torch.nn as nn\n",
    "\n",
    "warnings.filterwarnings('ignore')\n",
    "pd.set_option('display.max_columns', None)\n",
    "plt.style.use(style='ggplot')\n",
    "%matplotlib inline"
   ]
  },
  {
   "cell_type": "code",
   "execution_count": 2,
   "metadata": {},
   "outputs": [
    {
     "name": "stdout",
     "output_type": "stream",
     "text": [
      "(6019, 14)\n",
      "<class 'pandas.core.frame.DataFrame'>\n",
      "RangeIndex: 6019 entries, 0 to 6018\n",
      "Data columns (total 14 columns):\n",
      " #   Column             Non-Null Count  Dtype  \n",
      "---  ------             --------------  -----  \n",
      " 0   Unnamed: 0         6019 non-null   int64  \n",
      " 1   Name               6019 non-null   object \n",
      " 2   Location           6019 non-null   object \n",
      " 3   Year               6019 non-null   int64  \n",
      " 4   Kilometers_Driven  6019 non-null   int64  \n",
      " 5   Fuel_Type          6019 non-null   object \n",
      " 6   Transmission       6019 non-null   object \n",
      " 7   Owner_Type         6019 non-null   object \n",
      " 8   Mileage            6017 non-null   object \n",
      " 9   Engine             5983 non-null   object \n",
      " 10  Power              5983 non-null   object \n",
      " 11  Seats              5977 non-null   float64\n",
      " 12  New_Price          824 non-null    object \n",
      " 13  Price              6019 non-null   float64\n",
      "dtypes: float64(2), int64(3), object(9)\n",
      "memory usage: 658.5+ KB\n",
      "None\n",
      "(1234, 13)\n",
      "<class 'pandas.core.frame.DataFrame'>\n",
      "RangeIndex: 1234 entries, 0 to 1233\n",
      "Data columns (total 13 columns):\n",
      " #   Column             Non-Null Count  Dtype  \n",
      "---  ------             --------------  -----  \n",
      " 0   Unnamed: 0         1234 non-null   int64  \n",
      " 1   Name               1234 non-null   object \n",
      " 2   Location           1234 non-null   object \n",
      " 3   Year               1234 non-null   int64  \n",
      " 4   Kilometers_Driven  1234 non-null   int64  \n",
      " 5   Fuel_Type          1234 non-null   object \n",
      " 6   Transmission       1234 non-null   object \n",
      " 7   Owner_Type         1234 non-null   object \n",
      " 8   Mileage            1234 non-null   object \n",
      " 9   Engine             1224 non-null   object \n",
      " 10  Power              1224 non-null   object \n",
      " 11  Seats              1223 non-null   float64\n",
      " 12  New_Price          182 non-null    object \n",
      "dtypes: float64(1), int64(3), object(9)\n",
      "memory usage: 125.5+ KB\n",
      "None\n"
     ]
    }
   ],
   "source": [
    "train = pd.read_csv('train-data.csv')\n",
    "test = pd.read_csv('test-data.csv')\n",
    "print(train.shape)\n",
    "print(train.info())\n",
    "print(test.shape)\n",
    "print(test.info())"
   ]
  },
  {
   "cell_type": "code",
   "execution_count": 3,
   "metadata": {},
   "outputs": [
    {
     "data": {
      "text/html": [
       "<div>\n",
       "<style scoped>\n",
       "    .dataframe tbody tr th:only-of-type {\n",
       "        vertical-align: middle;\n",
       "    }\n",
       "\n",
       "    .dataframe tbody tr th {\n",
       "        vertical-align: top;\n",
       "    }\n",
       "\n",
       "    .dataframe thead th {\n",
       "        text-align: right;\n",
       "    }\n",
       "</style>\n",
       "<table border=\"1\" class=\"dataframe\">\n",
       "  <thead>\n",
       "    <tr style=\"text-align: right;\">\n",
       "      <th></th>\n",
       "      <th>Unnamed: 0</th>\n",
       "      <th>Name</th>\n",
       "      <th>Location</th>\n",
       "      <th>Year</th>\n",
       "      <th>Kilometers_Driven</th>\n",
       "      <th>Fuel_Type</th>\n",
       "      <th>Transmission</th>\n",
       "      <th>Owner_Type</th>\n",
       "      <th>Mileage</th>\n",
       "      <th>Engine</th>\n",
       "      <th>Power</th>\n",
       "      <th>Seats</th>\n",
       "      <th>New_Price</th>\n",
       "      <th>Price</th>\n",
       "    </tr>\n",
       "  </thead>\n",
       "  <tbody>\n",
       "    <tr>\n",
       "      <th>0</th>\n",
       "      <td>0</td>\n",
       "      <td>Maruti Wagon R LXI CNG</td>\n",
       "      <td>Mumbai</td>\n",
       "      <td>2010</td>\n",
       "      <td>72000</td>\n",
       "      <td>CNG</td>\n",
       "      <td>Manual</td>\n",
       "      <td>First</td>\n",
       "      <td>26.6 km/kg</td>\n",
       "      <td>998 CC</td>\n",
       "      <td>58.16 bhp</td>\n",
       "      <td>5.0</td>\n",
       "      <td>NaN</td>\n",
       "      <td>1.75</td>\n",
       "    </tr>\n",
       "    <tr>\n",
       "      <th>1</th>\n",
       "      <td>1</td>\n",
       "      <td>Hyundai Creta 1.6 CRDi SX Option</td>\n",
       "      <td>Pune</td>\n",
       "      <td>2015</td>\n",
       "      <td>41000</td>\n",
       "      <td>Diesel</td>\n",
       "      <td>Manual</td>\n",
       "      <td>First</td>\n",
       "      <td>19.67 kmpl</td>\n",
       "      <td>1582 CC</td>\n",
       "      <td>126.2 bhp</td>\n",
       "      <td>5.0</td>\n",
       "      <td>NaN</td>\n",
       "      <td>12.50</td>\n",
       "    </tr>\n",
       "    <tr>\n",
       "      <th>2</th>\n",
       "      <td>2</td>\n",
       "      <td>Honda Jazz V</td>\n",
       "      <td>Chennai</td>\n",
       "      <td>2011</td>\n",
       "      <td>46000</td>\n",
       "      <td>Petrol</td>\n",
       "      <td>Manual</td>\n",
       "      <td>First</td>\n",
       "      <td>18.2 kmpl</td>\n",
       "      <td>1199 CC</td>\n",
       "      <td>88.7 bhp</td>\n",
       "      <td>5.0</td>\n",
       "      <td>8.61 Lakh</td>\n",
       "      <td>4.50</td>\n",
       "    </tr>\n",
       "    <tr>\n",
       "      <th>3</th>\n",
       "      <td>3</td>\n",
       "      <td>Maruti Ertiga VDI</td>\n",
       "      <td>Chennai</td>\n",
       "      <td>2012</td>\n",
       "      <td>87000</td>\n",
       "      <td>Diesel</td>\n",
       "      <td>Manual</td>\n",
       "      <td>First</td>\n",
       "      <td>20.77 kmpl</td>\n",
       "      <td>1248 CC</td>\n",
       "      <td>88.76 bhp</td>\n",
       "      <td>7.0</td>\n",
       "      <td>NaN</td>\n",
       "      <td>6.00</td>\n",
       "    </tr>\n",
       "    <tr>\n",
       "      <th>4</th>\n",
       "      <td>4</td>\n",
       "      <td>Audi A4 New 2.0 TDI Multitronic</td>\n",
       "      <td>Coimbatore</td>\n",
       "      <td>2013</td>\n",
       "      <td>40670</td>\n",
       "      <td>Diesel</td>\n",
       "      <td>Automatic</td>\n",
       "      <td>Second</td>\n",
       "      <td>15.2 kmpl</td>\n",
       "      <td>1968 CC</td>\n",
       "      <td>140.8 bhp</td>\n",
       "      <td>5.0</td>\n",
       "      <td>NaN</td>\n",
       "      <td>17.74</td>\n",
       "    </tr>\n",
       "  </tbody>\n",
       "</table>\n",
       "</div>"
      ],
      "text/plain": [
       "   Unnamed: 0                              Name    Location  Year  \\\n",
       "0           0            Maruti Wagon R LXI CNG      Mumbai  2010   \n",
       "1           1  Hyundai Creta 1.6 CRDi SX Option        Pune  2015   \n",
       "2           2                      Honda Jazz V     Chennai  2011   \n",
       "3           3                 Maruti Ertiga VDI     Chennai  2012   \n",
       "4           4   Audi A4 New 2.0 TDI Multitronic  Coimbatore  2013   \n",
       "\n",
       "   Kilometers_Driven Fuel_Type Transmission Owner_Type     Mileage   Engine  \\\n",
       "0              72000       CNG       Manual      First  26.6 km/kg   998 CC   \n",
       "1              41000    Diesel       Manual      First  19.67 kmpl  1582 CC   \n",
       "2              46000    Petrol       Manual      First   18.2 kmpl  1199 CC   \n",
       "3              87000    Diesel       Manual      First  20.77 kmpl  1248 CC   \n",
       "4              40670    Diesel    Automatic     Second   15.2 kmpl  1968 CC   \n",
       "\n",
       "       Power  Seats  New_Price  Price  \n",
       "0  58.16 bhp    5.0        NaN   1.75  \n",
       "1  126.2 bhp    5.0        NaN  12.50  \n",
       "2   88.7 bhp    5.0  8.61 Lakh   4.50  \n",
       "3  88.76 bhp    7.0        NaN   6.00  \n",
       "4  140.8 bhp    5.0        NaN  17.74  "
      ]
     },
     "execution_count": 3,
     "metadata": {},
     "output_type": "execute_result"
    }
   ],
   "source": [
    "train.head()"
   ]
  },
  {
   "cell_type": "code",
   "execution_count": 4,
   "metadata": {},
   "outputs": [
    {
     "data": {
      "text/html": [
       "<div>\n",
       "<style scoped>\n",
       "    .dataframe tbody tr th:only-of-type {\n",
       "        vertical-align: middle;\n",
       "    }\n",
       "\n",
       "    .dataframe tbody tr th {\n",
       "        vertical-align: top;\n",
       "    }\n",
       "\n",
       "    .dataframe thead th {\n",
       "        text-align: right;\n",
       "    }\n",
       "</style>\n",
       "<table border=\"1\" class=\"dataframe\">\n",
       "  <thead>\n",
       "    <tr style=\"text-align: right;\">\n",
       "      <th></th>\n",
       "      <th>Unnamed: 0</th>\n",
       "      <th>Name</th>\n",
       "      <th>Location</th>\n",
       "      <th>Year</th>\n",
       "      <th>Kilometers_Driven</th>\n",
       "      <th>Fuel_Type</th>\n",
       "      <th>Transmission</th>\n",
       "      <th>Owner_Type</th>\n",
       "      <th>Mileage</th>\n",
       "      <th>Engine</th>\n",
       "      <th>Power</th>\n",
       "      <th>Seats</th>\n",
       "      <th>New_Price</th>\n",
       "    </tr>\n",
       "  </thead>\n",
       "  <tbody>\n",
       "    <tr>\n",
       "      <th>0</th>\n",
       "      <td>0</td>\n",
       "      <td>Maruti Alto K10 LXI CNG</td>\n",
       "      <td>Delhi</td>\n",
       "      <td>2014</td>\n",
       "      <td>40929</td>\n",
       "      <td>CNG</td>\n",
       "      <td>Manual</td>\n",
       "      <td>First</td>\n",
       "      <td>32.26 km/kg</td>\n",
       "      <td>998 CC</td>\n",
       "      <td>58.2 bhp</td>\n",
       "      <td>4.0</td>\n",
       "      <td>NaN</td>\n",
       "    </tr>\n",
       "    <tr>\n",
       "      <th>1</th>\n",
       "      <td>1</td>\n",
       "      <td>Maruti Alto 800 2016-2019 LXI</td>\n",
       "      <td>Coimbatore</td>\n",
       "      <td>2013</td>\n",
       "      <td>54493</td>\n",
       "      <td>Petrol</td>\n",
       "      <td>Manual</td>\n",
       "      <td>Second</td>\n",
       "      <td>24.7 kmpl</td>\n",
       "      <td>796 CC</td>\n",
       "      <td>47.3 bhp</td>\n",
       "      <td>5.0</td>\n",
       "      <td>NaN</td>\n",
       "    </tr>\n",
       "    <tr>\n",
       "      <th>2</th>\n",
       "      <td>2</td>\n",
       "      <td>Toyota Innova Crysta Touring Sport 2.4 MT</td>\n",
       "      <td>Mumbai</td>\n",
       "      <td>2017</td>\n",
       "      <td>34000</td>\n",
       "      <td>Diesel</td>\n",
       "      <td>Manual</td>\n",
       "      <td>First</td>\n",
       "      <td>13.68 kmpl</td>\n",
       "      <td>2393 CC</td>\n",
       "      <td>147.8 bhp</td>\n",
       "      <td>7.0</td>\n",
       "      <td>25.27 Lakh</td>\n",
       "    </tr>\n",
       "    <tr>\n",
       "      <th>3</th>\n",
       "      <td>3</td>\n",
       "      <td>Toyota Etios Liva GD</td>\n",
       "      <td>Hyderabad</td>\n",
       "      <td>2012</td>\n",
       "      <td>139000</td>\n",
       "      <td>Diesel</td>\n",
       "      <td>Manual</td>\n",
       "      <td>First</td>\n",
       "      <td>23.59 kmpl</td>\n",
       "      <td>1364 CC</td>\n",
       "      <td>null bhp</td>\n",
       "      <td>5.0</td>\n",
       "      <td>NaN</td>\n",
       "    </tr>\n",
       "    <tr>\n",
       "      <th>4</th>\n",
       "      <td>4</td>\n",
       "      <td>Hyundai i20 Magna</td>\n",
       "      <td>Mumbai</td>\n",
       "      <td>2014</td>\n",
       "      <td>29000</td>\n",
       "      <td>Petrol</td>\n",
       "      <td>Manual</td>\n",
       "      <td>First</td>\n",
       "      <td>18.5 kmpl</td>\n",
       "      <td>1197 CC</td>\n",
       "      <td>82.85 bhp</td>\n",
       "      <td>5.0</td>\n",
       "      <td>NaN</td>\n",
       "    </tr>\n",
       "  </tbody>\n",
       "</table>\n",
       "</div>"
      ],
      "text/plain": [
       "   Unnamed: 0                                       Name    Location  Year  \\\n",
       "0           0                    Maruti Alto K10 LXI CNG       Delhi  2014   \n",
       "1           1              Maruti Alto 800 2016-2019 LXI  Coimbatore  2013   \n",
       "2           2  Toyota Innova Crysta Touring Sport 2.4 MT      Mumbai  2017   \n",
       "3           3                       Toyota Etios Liva GD   Hyderabad  2012   \n",
       "4           4                          Hyundai i20 Magna      Mumbai  2014   \n",
       "\n",
       "   Kilometers_Driven Fuel_Type Transmission Owner_Type      Mileage   Engine  \\\n",
       "0              40929       CNG       Manual      First  32.26 km/kg   998 CC   \n",
       "1              54493    Petrol       Manual     Second    24.7 kmpl   796 CC   \n",
       "2              34000    Diesel       Manual      First   13.68 kmpl  2393 CC   \n",
       "3             139000    Diesel       Manual      First   23.59 kmpl  1364 CC   \n",
       "4              29000    Petrol       Manual      First    18.5 kmpl  1197 CC   \n",
       "\n",
       "       Power  Seats   New_Price  \n",
       "0   58.2 bhp    4.0         NaN  \n",
       "1   47.3 bhp    5.0         NaN  \n",
       "2  147.8 bhp    7.0  25.27 Lakh  \n",
       "3   null bhp    5.0         NaN  \n",
       "4  82.85 bhp    5.0         NaN  "
      ]
     },
     "execution_count": 4,
     "metadata": {},
     "output_type": "execute_result"
    }
   ],
   "source": [
    "test.head()"
   ]
  },
  {
   "cell_type": "code",
   "execution_count": 5,
   "metadata": {},
   "outputs": [
    {
     "name": "stdout",
     "output_type": "stream",
     "text": [
      "(6019, 14) (1234, 13)\n",
      "(6019, 13) (1234, 12)\n"
     ]
    }
   ],
   "source": [
    "print(train.shape, test.shape)\n",
    "train.drop('New_Price', axis=1, inplace=True)\n",
    "test.drop('New_Price', axis=1, inplace=True)\n",
    "print(train.shape, test.shape)"
   ]
  },
  {
   "cell_type": "markdown",
   "metadata": {},
   "source": [
    "# Data Cleaning and Feature Engineering"
   ]
  },
  {
   "cell_type": "code",
   "execution_count": 6,
   "metadata": {},
   "outputs": [
    {
     "name": "stdout",
     "output_type": "stream",
     "text": [
      "Unnamed: 0            0\n",
      "Name                  0\n",
      "Location              0\n",
      "Year                  0\n",
      "Kilometers_Driven     0\n",
      "Fuel_Type             0\n",
      "Transmission          0\n",
      "Owner_Type            0\n",
      "Mileage               2\n",
      "Engine               36\n",
      "Power                36\n",
      "Seats                42\n",
      "Price                 0\n",
      "dtype: int64\n",
      "------------------------\n",
      "Unnamed: 0            0\n",
      "Name                  0\n",
      "Location              0\n",
      "Year                  0\n",
      "Kilometers_Driven     0\n",
      "Fuel_Type             0\n",
      "Transmission          0\n",
      "Owner_Type            0\n",
      "Mileage               0\n",
      "Engine               10\n",
      "Power                10\n",
      "Seats                11\n",
      "dtype: int64\n"
     ]
    }
   ],
   "source": [
    "print(train.isnull().sum())\n",
    "print(\"------------------------\")\n",
    "print(test.isnull().sum())"
   ]
  },
  {
   "cell_type": "markdown",
   "metadata": {},
   "source": [
    "## Unnamed"
   ]
  },
  {
   "cell_type": "code",
   "execution_count": 7,
   "metadata": {},
   "outputs": [
    {
     "name": "stdout",
     "output_type": "stream",
     "text": [
      "2047    1\n",
      "2720    1\n",
      "2708    1\n",
      "661     1\n",
      "4759    1\n",
      "       ..\n",
      "5436    1\n",
      "1342    1\n",
      "3391    1\n",
      "5440    1\n",
      "0       1\n",
      "Name: Unnamed: 0, Length: 6019, dtype: int64\n"
     ]
    }
   ],
   "source": [
    "print(train['Unnamed: 0'].value_counts())"
   ]
  },
  {
   "cell_type": "code",
   "execution_count": 8,
   "metadata": {},
   "outputs": [],
   "source": [
    "unnamed_train = list(train['Unnamed: 0'].unique())\n",
    "unnamed_test = list(test['Unnamed: 0'].unique())\n",
    "for i in unnamed_test:\n",
    "    if i not in unnamed_train:\n",
    "        print(i)"
   ]
  },
  {
   "cell_type": "markdown",
   "metadata": {},
   "source": [
    "## Name"
   ]
  },
  {
   "cell_type": "code",
   "execution_count": 9,
   "metadata": {},
   "outputs": [
    {
     "name": "stdout",
     "output_type": "stream",
     "text": [
      "Mahindra XUV500 W8 2WD             49\n",
      "Maruti Swift VDI                   45\n",
      "Maruti Swift Dzire VDI             34\n",
      "Honda City 1.5 S MT                34\n",
      "Maruti Swift VDI BSIV              31\n",
      "                                   ..\n",
      "Tata Manza Aqua Quadrajet           1\n",
      "Ford Endeavour 4x2 XLT              1\n",
      "Ford Ikon 1.3 CLXi                  1\n",
      "Honda City i DTec E                 1\n",
      "Jeep Compass 1.4 Limited Option     1\n",
      "Name: Name, Length: 1876, dtype: int64\n",
      "2047    1\n",
      "2720    1\n",
      "2708    1\n",
      "661     1\n",
      "4759    1\n",
      "       ..\n",
      "5436    1\n",
      "1342    1\n",
      "3391    1\n",
      "5440    1\n",
      "0       1\n",
      "Name: Unnamed: 0, Length: 6019, dtype: int64\n"
     ]
    }
   ],
   "source": [
    "print(train['Name'].value_counts())\n",
    "print(train['Unnamed: 0'].value_counts())"
   ]
  },
  {
   "cell_type": "code",
   "execution_count": 10,
   "metadata": {},
   "outputs": [
    {
     "name": "stdout",
     "output_type": "stream",
     "text": [
      "Maruti Alto LXi                     9\n",
      "Honda City 1.5 V MT                 8\n",
      "Volkswagen Polo 1.2 MPI Highline    8\n",
      "Maruti Swift Dzire VDI              8\n",
      "Maruti Wagon R LXI                  7\n",
      "                                   ..\n",
      "Skoda Octavia 2.0 TDI MT Style      1\n",
      "Maruti A-Star AT Vxi Aktiv          1\n",
      "Mahindra Scorpio VLX 2WD BSIII      1\n",
      "Mahindra Xylo D4                    1\n",
      "Maruti 800 DX                       1\n",
      "Name: Name, Length: 768, dtype: int64\n"
     ]
    }
   ],
   "source": [
    "print(test['Name'].value_counts())"
   ]
  },
  {
   "cell_type": "code",
   "execution_count": 11,
   "metadata": {},
   "outputs": [
    {
     "name": "stdout",
     "output_type": "stream",
     "text": [
      "Toyota Innova Crysta Touring Sport 2.4 MT\n",
      "Maruti Swift AMT ZXI\n",
      "Skoda Laura 1.8 TSI Ambition\n",
      "Honda Civic 2010-2013 1.8 S MT Inspire\n",
      "Toyota Etios Liva 1.4 VXD\n",
      "Maruti Celerio X VXI Option\n",
      "Chevrolet Sail Hatchback 1.2\n",
      "Mahindra Scorpio VLX Special Edition BS-IV\n",
      "Tata Tiago AMT 1.2 Revotron XTA\n",
      "Maruti Ciaz VXi\n",
      "Nissan Teana XL\n",
      "Tata Manza Club Class Safire90 LX\n",
      "Ford Fiesta Classic 1.6 SXI Duratec\n",
      "Mercedes-Benz B Class B180 Sports\n",
      "Nissan Micra XL CVT\n",
      "Tata Indica V2 DiCOR DLG BS-III\n",
      "Tata Indica Vista Quadrajet LX\n",
      "Audi Q3 30 TDI S Edition\n",
      "Honda BRV i-DTEC V MT\n",
      "BMW 3 Series GT 320d Sport Line\n",
      "Toyota Etios Liva VD\n",
      "Datsun GO T Petrol\n",
      "Maruti A-Star Zxi\n",
      "Mahindra KUV 100 mFALCON G80 K4 5str\n",
      "Ford Fiesta 1.4 SXI Duratorq\n",
      "Fiat Avventura FIRE Dynamic\n",
      "Honda CR-V Diesel\n",
      "Mahindra Xylo E9\n",
      "Hyundai Creta 1.6 SX Automatic\n",
      "Honda Mobilio V i VTEC\n",
      "Tata Indica Vista Aqua TDI BSIII\n",
      "Skoda Laura 1.9 TDI MT Elegance\n",
      "Honda City ZX VTEC Plus\n",
      "BMW 7 Series 730Ld DPE Signature\n",
      "Hindustan Motors Contessa 2.0 DSL\n",
      "Fiat Linea Dynamic\n",
      "Tata Sumo EX 10/7 Str BSII\n",
      "Fiat Grande Punto 1.2 Emotion\n",
      "Toyota Etios Cross 1.2L G\n",
      "Mahindra Thar 4X4\n",
      "Hyundai i20 Active SX Diesel\n",
      "Honda BR-V i-DTEC S MT\n",
      "Toyota Camry MT with Moonroof\n",
      "Mahindra Verito Vibe 1.5 dCi D6\n",
      "Volkswagen Jetta 2007-2011 1.6 Trendline\n",
      "Mahindra KUV 100 mFALCON D75 K2\n",
      "Bentley Flying Spur W12\n",
      "Tata Tigor 1.2 Revotron XZ Option\n",
      "Honda Accord 2001-2003 2.3 VTI L MT\n",
      "Land Rover Freelander 2 S Business Edition\n",
      "Ford Endeavour 3.0L AT 4x2\n",
      "Hyundai Santro Xing GLS CNG\n",
      "Toyota Land Cruiser Prado VX L\n",
      "Hyundai Tucson 2.0 e-VGT 4WD AT GLS\n",
      "Toyota Innova 2.5 GX 8 STR\n",
      "Maruti Wagon R VXI AMT Opt\n",
      "Skoda Laura L and K MT\n",
      "Land Rover Range Rover HSE\n",
      "Volkswagen Polo ALLSTAR 1.2 MPI\n",
      "Land Rover Discovery 4 SDV6 SE\n",
      "Honda City i DTec VX Option BL\n",
      "Hyundai Santro LS zipDrive Euro I\n",
      "Mitsubishi Pajero Sport 4X2 AT\n",
      "Hyundai Creta 1.6 SX Diesel\n",
      "Isuzu MU 7 4x2 HIPACK\n",
      "Hyundai Elantra GT\n",
      "Mercedes-Benz B Class B180 Sport\n",
      "Mahindra Bolero SLX\n",
      "Hyundai Xcent 1.2 CRDi SX\n",
      "BMW 5 Series 530i Sport Line\n",
      "Honda Jazz VX CVT\n",
      "Tata Indica Vista Aqua 1.2 Safire\n",
      "Toyota Etios Liva Diesel TRD Sportivo\n",
      "Skoda Rapid Ultima 1.6 TDI Ambition Plus\n",
      "Maruti SX4 ZXI AT\n",
      "Hyundai i20 new Sportz AT 1.4\n",
      "Mahindra Scorpio SLX 2.6 Turbo 8 Str\n",
      "BMW X3 2.5si\n",
      "Hyundai EON 1.0 Kappa Magna Plus\n",
      "Chevrolet Enjoy 1.3 TCDi LTZ 7\n",
      "Hyundai Verna 1.4 CX\n",
      "Mahindra KUV 100 D75 K8 5Str\n",
      "Hyundai EON 1.0 Era Plus\n",
      "Toyota Innova 2.0 V\n",
      "Mahindra Xylo H9\n",
      "Mahindra TUV 300 P4\n",
      "Maruti Ritz VDi ABS\n",
      "Volvo S60 D5 Kinetic\n",
      "Chevrolet Enjoy TCDi LS 7 Seater\n",
      "Mahindra Scorpio S10 8 Seater\n",
      "Renault Pulse RxZ\n",
      "Honda WRV i-DTEC VX\n",
      "Hyundai Accent GLX\n",
      "Mahindra KUV 100 G80 K4 Plus 5Str\n",
      "Tata Indica Vista Terra 1.2 Safire BS IV\n",
      "Volkswagen Vento 1.5 TDI Highline Plus\n",
      "Volkswagen CrossPolo 1.2 TDI\n",
      "Ford Ikon 1.4 ZXi\n",
      "Hyundai Verna Transform SX VGT CRDi BS III\n",
      "Volkswagen Vento 1.5 TDI Highline Plus AT\n",
      "Maruti 800 DX\n",
      "Maruti Ertiga VXI Petrol\n",
      "Fiat Avventura Urban Cross 1.3 Multijet Emotion\n",
      "Skoda Octavia 2.0 TDI MT Style\n",
      "Renault Duster 85PS Diesel RxZ\n",
      "Jaguar XF 2.0 Petrol Portfolio\n",
      "Honda Civic 2010-2013 1.8 V AT\n",
      "Hyundai Elantra SX AT\n",
      "Nissan 370Z AT\n",
      "Ford Classic 1.4 Duratorq CLXI\n",
      "Renault Koleos 4X2 MT\n",
      "Honda Amaze E i-DTEC\n",
      "Maruti Ciaz VDi Option SHVS\n",
      "Tata Indica Vista Terra Quadrajet 1.3L BS IV\n",
      "Mercedes-Benz GLA Class 220 d 4MATIC\n",
      "Mahindra Bolero Power Plus ZLX\n",
      "Fiat Linea Classic 1.3 Multijet\n",
      "Mahindra Scorpio VLS 2.2 mHawk\n",
      "Ford Freestyle Titanium Plus Diesel\n",
      "Maruti Swift VVT ZXI\n",
      "Fiat Punto EVO 1.3 Emotion\n",
      "Fiat Abarth 595 Competizione\n",
      "Hyundai Accent Executive LPG\n",
      "Honda BR-V i-VTEC VX MT\n",
      "Volkswagen Vento 1.6 Trendline\n",
      "Maruti Versa DX2\n",
      "Hyundai Sonata Embera 2.4L MT\n",
      "Honda Amaze VX CVT i-VTEC\n",
      "Honda Jazz 2020 Petrol\n",
      "Hyundai i20 1.4 Asta AT (O) with Sunroof\n",
      "Renault Lodgy 110PS RxL\n",
      "Mercedes-Benz E-Class 250 D W 124\n",
      "Toyota Innova 2.5 LE 2014 Diesel 8 Seater\n",
      "Mercedes-Benz E-Class E240 V6 AT\n",
      "Nissan Terrano XE 85 PS\n",
      "Mahindra TUV 300 2015-2019 T8 AMT\n",
      "Hyundai i20 2015-2017 1.4 CRDi Sportz\n",
      "Hyundai Creta 1.6 VTVT Base\n",
      "Maruti Ignis 1.2 AMT Delta\n",
      "Ford Fiesta Classic 1.6 Duratec LXI\n",
      "Toyota Corolla Altis GL\n",
      "OpelCorsa 1.4Gsi\n",
      "Volkswagen Vento 1.2 TSI Comfortline AT\n",
      "Hyundai Santro Xing XG AT eRLX Euro III\n",
      "Mahindra KUV 100 mFALCON D75 K6 5str AW\n",
      "Mahindra Scorpio VLX 2WD BSIII\n",
      "Chevrolet Enjoy Petrol LTZ 7 Seater\n",
      "Hyundai i20 2015-2017 Magna Optional 1.4 CRDi\n",
      "Mercedes-Benz CLA 45 AMG\n",
      "Audi Q5 2008-2012 3.0 TDI Quattro\n",
      "Chevrolet Spark 1.0 PS\n",
      "Chevrolet Enjoy 1.4 LTZ 8\n",
      "Maruti Vitara Brezza ZDi AMT\n",
      "Mercedes-Benz A Class Edition 1\n",
      "BMW 7 Series 740i Sedan\n",
      "Mercedes-Benz S Class 2005 2013 320 L\n",
      "Maruti Alto XCITE\n",
      "Land Rover Discovery 4 TDV6 Auto Diesel\n",
      "Hyundai Verna Transform VTVT with Audio\n",
      "Maruti Vitara Brezza ZDi Plus AMT\n",
      "Skoda Superb Petrol Ambition\n",
      "Tata Tiago 1.05 Revotorq XT Option\n",
      "Ford EcoSport 1.5 Petrol Ambiente\n",
      "Jeep Compass 1.4 Sport\n",
      "Hyundai Elite i20 Magna Plus\n"
     ]
    }
   ],
   "source": [
    "car_names_train = list(train['Name'].unique())\n",
    "car_names_test = list(test['Name'].unique())\n",
    "for i in car_names_test:\n",
    "    if i not in car_names_train:\n",
    "        print(i)"
   ]
  },
  {
   "cell_type": "markdown",
   "metadata": {},
   "source": [
    "We can not handle all of these values, we have to drop the name column"
   ]
  },
  {
   "cell_type": "code",
   "execution_count": 12,
   "metadata": {},
   "outputs": [
    {
     "name": "stdout",
     "output_type": "stream",
     "text": [
      "(6019, 13) (1234, 12)\n",
      "(6019, 12) (1234, 11)\n"
     ]
    }
   ],
   "source": [
    "print(train.shape, test.shape)\n",
    "train.drop('Name', axis=1, inplace=True)\n",
    "test.drop('Name', axis=1, inplace=True)\n",
    "print(train.shape, test.shape)"
   ]
  },
  {
   "cell_type": "markdown",
   "metadata": {},
   "source": [
    "## Location"
   ]
  },
  {
   "cell_type": "code",
   "execution_count": 13,
   "metadata": {},
   "outputs": [
    {
     "data": {
      "text/plain": [
       "0         Mumbai\n",
       "1           Pune\n",
       "2        Chennai\n",
       "3        Chennai\n",
       "4     Coimbatore\n",
       "5      Hyderabad\n",
       "6         Jaipur\n",
       "7         Mumbai\n",
       "8           Pune\n",
       "9        Chennai\n",
       "10         Kochi\n",
       "11       Kolkata\n",
       "12        Jaipur\n",
       "13         Delhi\n",
       "14          Pune\n",
       "15         Delhi\n",
       "16         Kochi\n",
       "17        Jaipur\n",
       "18         Kochi\n",
       "19     Bangalore\n",
       "Name: Location, dtype: object"
      ]
     },
     "execution_count": 13,
     "metadata": {},
     "output_type": "execute_result"
    }
   ],
   "source": [
    "train['Location'][:20]"
   ]
  },
  {
   "cell_type": "code",
   "execution_count": 14,
   "metadata": {},
   "outputs": [
    {
     "data": {
      "text/plain": [
       "Mumbai        790\n",
       "Hyderabad     742\n",
       "Kochi         651\n",
       "Coimbatore    636\n",
       "Pune          622\n",
       "Delhi         554\n",
       "Kolkata       535\n",
       "Chennai       494\n",
       "Jaipur        413\n",
       "Bangalore     358\n",
       "Ahmedabad     224\n",
       "Name: Location, dtype: int64"
      ]
     },
     "execution_count": 14,
     "metadata": {},
     "output_type": "execute_result"
    }
   ],
   "source": [
    "train['Location'].value_counts()"
   ]
  },
  {
   "cell_type": "code",
   "execution_count": 15,
   "metadata": {},
   "outputs": [
    {
     "data": {
      "text/plain": [
       "Mumbai        159\n",
       "Pune          143\n",
       "Coimbatore    136\n",
       "Hyderabad     134\n",
       "Kochi         121\n",
       "Kolkata       119\n",
       "Delhi         106\n",
       "Chennai        97\n",
       "Jaipur         86\n",
       "Bangalore      82\n",
       "Ahmedabad      51\n",
       "Name: Location, dtype: int64"
      ]
     },
     "execution_count": 15,
     "metadata": {},
     "output_type": "execute_result"
    }
   ],
   "source": [
    "test['Location'].value_counts()"
   ]
  },
  {
   "cell_type": "markdown",
   "metadata": {},
   "source": [
    "## Kilometers_Driven"
   ]
  },
  {
   "cell_type": "code",
   "execution_count": 16,
   "metadata": {},
   "outputs": [
    {
     "data": {
      "image/png": "[encoded data removed]",
      "text/plain": [
       "<Figure size 576x432 with 1 Axes>"
      ]
     },
     "metadata": {
      "needs_background": "light"
     },
     "output_type": "display_data"
    }
   ],
   "source": [
    "plt.figure(figsize=(8, 6))\n",
    "sns.boxplot(train['Kilometers_Driven'])\n",
    "plt.show()"
   ]
  },
  {
   "cell_type": "code",
   "execution_count": 17,
   "metadata": {},
   "outputs": [
    {
     "data": {
      "text/html": [
       "<div>\n",
       "<style scoped>\n",
       "    .dataframe tbody tr th:only-of-type {\n",
       "        vertical-align: middle;\n",
       "    }\n",
       "\n",
       "    .dataframe tbody tr th {\n",
       "        vertical-align: top;\n",
       "    }\n",
       "\n",
       "    .dataframe thead th {\n",
       "        text-align: right;\n",
       "    }\n",
       "</style>\n",
       "<table border=\"1\" class=\"dataframe\">\n",
       "  <thead>\n",
       "    <tr style=\"text-align: right;\">\n",
       "      <th></th>\n",
       "      <th>Unnamed: 0</th>\n",
       "      <th>Location</th>\n",
       "      <th>Year</th>\n",
       "      <th>Kilometers_Driven</th>\n",
       "      <th>Fuel_Type</th>\n",
       "      <th>Transmission</th>\n",
       "      <th>Owner_Type</th>\n",
       "      <th>Mileage</th>\n",
       "      <th>Engine</th>\n",
       "      <th>Power</th>\n",
       "      <th>Seats</th>\n",
       "    </tr>\n",
       "  </thead>\n",
       "  <tbody>\n",
       "  </tbody>\n",
       "</table>\n",
       "</div>"
      ],
      "text/plain": [
       "Empty DataFrame\n",
       "Columns: [Unnamed: 0, Location, Year, Kilometers_Driven, Fuel_Type, Transmission, Owner_Type, Mileage, Engine, Power, Seats]\n",
       "Index: []"
      ]
     },
     "execution_count": 17,
     "metadata": {},
     "output_type": "execute_result"
    }
   ],
   "source": [
    "temp2 = test[test['Kilometers_Driven'] > 400000]\n",
    "temp2"
   ]
  },
  {
   "cell_type": "code",
   "execution_count": 18,
   "metadata": {},
   "outputs": [
    {
     "name": "stdout",
     "output_type": "stream",
     "text": [
      "(6019, 12)\n",
      "(6012, 12)\n"
     ]
    }
   ],
   "source": [
    "print(train.shape)\n",
    "temp = train[train['Kilometers_Driven'] > 400000].index\n",
    "train.drop(temp, axis=0, inplace=True)\n",
    "print(train.shape)"
   ]
  },
  {
   "cell_type": "markdown",
   "metadata": {},
   "source": [
    "## Fuel Type"
   ]
  },
  {
   "cell_type": "code",
   "execution_count": 19,
   "metadata": {},
   "outputs": [
    {
     "data": {
      "text/plain": [
       "0        CNG\n",
       "1     Diesel\n",
       "2     Petrol\n",
       "3     Diesel\n",
       "4     Diesel\n",
       "5        LPG\n",
       "6     Diesel\n",
       "7     Diesel\n",
       "8     Diesel\n",
       "9     Diesel\n",
       "10    Petrol\n",
       "11    Petrol\n",
       "12    Diesel\n",
       "13    Diesel\n",
       "14    Diesel\n",
       "15    Diesel\n",
       "16    Diesel\n",
       "17    Diesel\n",
       "18    Diesel\n",
       "19    Diesel\n",
       "Name: Fuel_Type, dtype: object"
      ]
     },
     "execution_count": 19,
     "metadata": {},
     "output_type": "execute_result"
    }
   ],
   "source": [
    "train['Fuel_Type'][:20]"
   ]
  },
  {
   "cell_type": "code",
   "execution_count": 20,
   "metadata": {},
   "outputs": [
    {
     "data": {
      "text/plain": [
       "Diesel      3201\n",
       "Petrol      2743\n",
       "CNG           56\n",
       "LPG           10\n",
       "Electric       2\n",
       "Name: Fuel_Type, dtype: int64"
      ]
     },
     "execution_count": 20,
     "metadata": {},
     "output_type": "execute_result"
    }
   ],
   "source": [
    "train['Fuel_Type'].value_counts()"
   ]
  },
  {
   "cell_type": "code",
   "execution_count": 21,
   "metadata": {},
   "outputs": [
    {
     "data": {
      "text/plain": [
       "Diesel    647\n",
       "Petrol    579\n",
       "CNG         6\n",
       "LPG         2\n",
       "Name: Fuel_Type, dtype: int64"
      ]
     },
     "execution_count": 21,
     "metadata": {},
     "output_type": "execute_result"
    }
   ],
   "source": [
    "test['Fuel_Type'].value_counts()"
   ]
  },
  {
   "cell_type": "markdown",
   "metadata": {},
   "source": [
    "## Transmission"
   ]
  },
  {
   "cell_type": "code",
   "execution_count": 22,
   "metadata": {},
   "outputs": [
    {
     "data": {
      "text/plain": [
       "0        Manual\n",
       "1        Manual\n",
       "2        Manual\n",
       "3        Manual\n",
       "4     Automatic\n",
       "5        Manual\n",
       "6        Manual\n",
       "7     Automatic\n",
       "8        Manual\n",
       "9        Manual\n",
       "10       Manual\n",
       "11    Automatic\n",
       "12       Manual\n",
       "13    Automatic\n",
       "14    Automatic\n",
       "15       Manual\n",
       "16       Manual\n",
       "17       Manual\n",
       "18       Manual\n",
       "19    Automatic\n",
       "Name: Transmission, dtype: object"
      ]
     },
     "execution_count": 22,
     "metadata": {},
     "output_type": "execute_result"
    }
   ],
   "source": [
    "train['Transmission'][:20]"
   ]
  },
  {
   "cell_type": "code",
   "execution_count": 23,
   "metadata": {},
   "outputs": [
    {
     "data": {
      "text/plain": [
       "Manual       4295\n",
       "Automatic    1717\n",
       "Name: Transmission, dtype: int64"
      ]
     },
     "execution_count": 23,
     "metadata": {},
     "output_type": "execute_result"
    }
   ],
   "source": [
    "train['Transmission'].value_counts()"
   ]
  },
  {
   "cell_type": "code",
   "execution_count": 24,
   "metadata": {},
   "outputs": [
    {
     "data": {
      "text/plain": [
       "Manual       905\n",
       "Automatic    329\n",
       "Name: Transmission, dtype: int64"
      ]
     },
     "execution_count": 24,
     "metadata": {},
     "output_type": "execute_result"
    }
   ],
   "source": [
    "test['Transmission'].value_counts()"
   ]
  },
  {
   "cell_type": "markdown",
   "metadata": {},
   "source": [
    "## Owner_Type"
   ]
  },
  {
   "cell_type": "code",
   "execution_count": 25,
   "metadata": {},
   "outputs": [
    {
     "data": {
      "text/plain": [
       "0      First\n",
       "1      First\n",
       "2      First\n",
       "3      First\n",
       "4     Second\n",
       "5      First\n",
       "6      First\n",
       "7      First\n",
       "8      First\n",
       "9     Second\n",
       "10     First\n",
       "11     First\n",
       "12     First\n",
       "13     First\n",
       "14    Second\n",
       "15     First\n",
       "16     First\n",
       "17     First\n",
       "18     First\n",
       "19     First\n",
       "Name: Owner_Type, dtype: object"
      ]
     },
     "execution_count": 25,
     "metadata": {},
     "output_type": "execute_result"
    }
   ],
   "source": [
    "train['Owner_Type'][:20]"
   ]
  },
  {
   "cell_type": "code",
   "execution_count": 26,
   "metadata": {},
   "outputs": [
    {
     "data": {
      "text/plain": [
       "First             4922\n",
       "Second             968\n",
       "Third              113\n",
       "Fourth & Above       9\n",
       "Name: Owner_Type, dtype: int64"
      ]
     },
     "execution_count": 26,
     "metadata": {},
     "output_type": "execute_result"
    }
   ],
   "source": [
    "train['Owner_Type'].value_counts()"
   ]
  },
  {
   "cell_type": "code",
   "execution_count": 27,
   "metadata": {},
   "outputs": [
    {
     "data": {
      "text/plain": [
       "First             1023\n",
       "Second             184\n",
       "Third               24\n",
       "Fourth & Above       3\n",
       "Name: Owner_Type, dtype: int64"
      ]
     },
     "execution_count": 27,
     "metadata": {},
     "output_type": "execute_result"
    }
   ],
   "source": [
    "test['Owner_Type'].value_counts()"
   ]
  },
  {
   "cell_type": "markdown",
   "metadata": {},
   "source": [
    "## Mileage"
   ]
  },
  {
   "cell_type": "code",
   "execution_count": 28,
   "metadata": {},
   "outputs": [
    {
     "data": {
      "text/plain": [
       "0     26.6 km/kg\n",
       "1     19.67 kmpl\n",
       "2      18.2 kmpl\n",
       "3     20.77 kmpl\n",
       "4      15.2 kmpl\n",
       "5     21.1 km/kg\n",
       "6     23.08 kmpl\n",
       "7     11.36 kmpl\n",
       "8     20.54 kmpl\n",
       "9      22.3 kmpl\n",
       "10    21.56 kmpl\n",
       "11     16.8 kmpl\n",
       "12     25.2 kmpl\n",
       "13     12.7 kmpl\n",
       "14      0.0 kmpl\n",
       "15     13.5 kmpl\n",
       "16     25.8 kmpl\n",
       "17     28.4 kmpl\n",
       "18    20.45 kmpl\n",
       "19    14.84 kmpl\n",
       "Name: Mileage, dtype: object"
      ]
     },
     "execution_count": 28,
     "metadata": {},
     "output_type": "execute_result"
    }
   ],
   "source": [
    "train['Mileage'][:20]"
   ]
  },
  {
   "cell_type": "markdown",
   "metadata": {},
   "source": [
    "- km/kg: Kilometers per Kilogram\n",
    "- kmpl: Kilometers per Litre"
   ]
  },
  {
   "cell_type": "code",
   "execution_count": 29,
   "metadata": {},
   "outputs": [
    {
     "data": {
      "text/plain": [
       "17.0 kmpl     172\n",
       "18.9 kmpl     172\n",
       "18.6 kmpl     119\n",
       "20.36 kmpl     87\n",
       "21.1 kmpl      86\n",
       "             ... \n",
       "21.2 kmpl       1\n",
       "14.9 kmpl       1\n",
       "20.0 km/kg      1\n",
       "19.83 kmpl      1\n",
       "9.1 kmpl        1\n",
       "Name: Mileage, Length: 443, dtype: int64"
      ]
     },
     "execution_count": 29,
     "metadata": {},
     "output_type": "execute_result"
    }
   ],
   "source": [
    "train['Mileage'].value_counts(dropna=False)"
   ]
  },
  {
   "cell_type": "code",
   "execution_count": 30,
   "metadata": {},
   "outputs": [],
   "source": [
    "# Null Values\n",
    "train['Mileage'] = train['Mileage'].fillna('17.0 kmpl')"
   ]
  },
  {
   "cell_type": "markdown",
   "metadata": {},
   "source": [
    "We can make 2 new columns, one for the value and one for the measurement to handle the mile age column, then we drop it."
   ]
  },
  {
   "cell_type": "code",
   "execution_count": 31,
   "metadata": {},
   "outputs": [
    {
     "data": {
      "text/plain": [
       "('26.6', 'km/kg')"
      ]
     },
     "execution_count": 31,
     "metadata": {},
     "output_type": "execute_result"
    }
   ],
   "source": [
    "train['Mileage'][0].split()[0], train['Mileage'][0].split()[1]"
   ]
  },
  {
   "cell_type": "code",
   "execution_count": 32,
   "metadata": {},
   "outputs": [],
   "source": [
    "mile_age_val = pd.DataFrame(columns=['Mileage_value'])\n",
    "mile_age_measure = pd.DataFrame(columns=['Mileage_measure'])\n",
    "train = pd.concat([train, mile_age_val, mile_age_measure], axis=1)\n",
    "test = pd.concat([test, mile_age_val, mile_age_measure], axis=1)\n",
    "\n",
    "for i in train.index:\n",
    "    value = train['Mileage'][i].split()[0]\n",
    "    measure = train['Mileage'][i].split()[1]\n",
    "    train['Mileage_value'][i] = value\n",
    "    train['Mileage_measure'][i] = measure\n",
    "    \n",
    "for i in test.index:\n",
    "    value = test['Mileage'][i].split()[0]\n",
    "    measure = test['Mileage'][i].split()[1]\n",
    "    test['Mileage_value'][i] = value\n",
    "    test['Mileage_measure'][i] = measure\n",
    "    \n",
    "train.drop('Mileage', axis=1, inplace=True)\n",
    "test.drop('Mileage', axis=1, inplace=True)"
   ]
  },
  {
   "cell_type": "markdown",
   "metadata": {},
   "source": [
    "## Engine"
   ]
  },
  {
   "cell_type": "code",
   "execution_count": 33,
   "metadata": {},
   "outputs": [
    {
     "data": {
      "text/plain": [
       "0      998 CC\n",
       "1     1582 CC\n",
       "2     1199 CC\n",
       "3     1248 CC\n",
       "4     1968 CC\n",
       "5      814 CC\n",
       "6     1461 CC\n",
       "7     2755 CC\n",
       "8     1598 CC\n",
       "9     1248 CC\n",
       "10    1462 CC\n",
       "11    1497 CC\n",
       "12    1248 CC\n",
       "13    2179 CC\n",
       "14    2179 CC\n",
       "15    2477 CC\n",
       "16    1498 CC\n",
       "17    1248 CC\n",
       "18    1461 CC\n",
       "19    2143 CC\n",
       "Name: Engine, dtype: object"
      ]
     },
     "execution_count": 33,
     "metadata": {},
     "output_type": "execute_result"
    }
   ],
   "source": [
    "train['Engine'][:20]"
   ]
  },
  {
   "cell_type": "code",
   "execution_count": 34,
   "metadata": {},
   "outputs": [
    {
     "data": {
      "text/plain": [
       "1197 CC    604\n",
       "1248 CC    512\n",
       "1498 CC    304\n",
       "998 CC     259\n",
       "2179 CC    240\n",
       "          ... \n",
       "5998 CC      1\n",
       "2149 CC      1\n",
       "970 CC       1\n",
       "2925 CC      1\n",
       "2706 CC      1\n",
       "Name: Engine, Length: 146, dtype: int64"
      ]
     },
     "execution_count": 34,
     "metadata": {},
     "output_type": "execute_result"
    }
   ],
   "source": [
    "train['Engine'].value_counts()"
   ]
  },
  {
   "cell_type": "code",
   "execution_count": 35,
   "metadata": {},
   "outputs": [
    {
     "data": {
      "text/plain": [
       "1197 CC    126\n",
       "1248 CC     98\n",
       "1498 CC     66\n",
       "1198 CC     54\n",
       "1968 CC     50\n",
       "          ... \n",
       "3498 CC      1\n",
       "1299 CC      1\n",
       "2000 CC      1\n",
       "2198 CC      1\n",
       "2996 CC      1\n",
       "Name: Engine, Length: 104, dtype: int64"
      ]
     },
     "execution_count": 35,
     "metadata": {},
     "output_type": "execute_result"
    }
   ],
   "source": [
    "test['Engine'].value_counts()"
   ]
  },
  {
   "cell_type": "code",
   "execution_count": 36,
   "metadata": {},
   "outputs": [],
   "source": [
    "# Null Values\n",
    "train['Engine'] = train['Engine'].fillna('1197 CC')\n",
    "test['Engine'] = test['Engine'].fillna('1197 CC')"
   ]
  },
  {
   "cell_type": "markdown",
   "metadata": {},
   "source": [
    "We are gonna do the same we did with Mileage"
   ]
  },
  {
   "cell_type": "code",
   "execution_count": 37,
   "metadata": {},
   "outputs": [
    {
     "data": {
      "text/plain": [
       "('998', 'CC')"
      ]
     },
     "execution_count": 37,
     "metadata": {},
     "output_type": "execute_result"
    }
   ],
   "source": [
    "train['Engine'][0].split()[0], train['Engine'][0].split()[1]"
   ]
  },
  {
   "cell_type": "code",
   "execution_count": 38,
   "metadata": {},
   "outputs": [],
   "source": [
    "engine_val = pd.DataFrame(columns=['Engine_value'])\n",
    "engine_measure = pd.DataFrame(columns=['Engine_measure'])\n",
    "train = pd.concat([train, engine_val, engine_measure], axis=1)\n",
    "test = pd.concat([test, engine_val, engine_measure], axis=1)\n",
    "\n",
    "for i in train.index:\n",
    "    value = train['Engine'][i].split()[0]\n",
    "    measure = train['Engine'][i].split()[1]\n",
    "    train['Engine_value'][i] = value\n",
    "    train['Engine_measure'][i] = measure\n",
    "        \n",
    "for i in test.index:\n",
    "    value = test['Engine'][i].split()[0]\n",
    "    measure = test['Engine'][i].split()[1]\n",
    "    test['Engine_value'][i] = value\n",
    "    test['Engine_measure'][i] = measure\n",
    "    \n",
    "train.drop('Engine', axis=1, inplace=True)\n",
    "test.drop('Engine', axis=1, inplace=True)"
   ]
  },
  {
   "cell_type": "code",
   "execution_count": 39,
   "metadata": {},
   "outputs": [
    {
     "data": {
      "text/plain": [
       "CC    6012\n",
       "Name: Engine_measure, dtype: int64"
      ]
     },
     "execution_count": 39,
     "metadata": {},
     "output_type": "execute_result"
    }
   ],
   "source": [
    "train['Engine_measure'].value_counts()"
   ]
  },
  {
   "cell_type": "code",
   "execution_count": 40,
   "metadata": {},
   "outputs": [],
   "source": [
    "train.drop('Engine_measure', axis=1, inplace=True)\n",
    "test.drop('Engine_measure', axis=1, inplace=True)"
   ]
  },
  {
   "cell_type": "code",
   "execution_count": 41,
   "metadata": {},
   "outputs": [
    {
     "data": {
      "text/plain": [
       "((6012, 13), (1234, 12))"
      ]
     },
     "execution_count": 41,
     "metadata": {},
     "output_type": "execute_result"
    }
   ],
   "source": [
    "train.shape, test.shape"
   ]
  },
  {
   "cell_type": "markdown",
   "metadata": {},
   "source": [
    "## Power"
   ]
  },
  {
   "cell_type": "code",
   "execution_count": 42,
   "metadata": {},
   "outputs": [
    {
     "data": {
      "text/plain": [
       "0      58.16 bhp\n",
       "1      126.2 bhp\n",
       "2       88.7 bhp\n",
       "3      88.76 bhp\n",
       "4      140.8 bhp\n",
       "5       55.2 bhp\n",
       "6       63.1 bhp\n",
       "7      171.5 bhp\n",
       "8      103.6 bhp\n",
       "9         74 bhp\n",
       "10    103.25 bhp\n",
       "11     116.3 bhp\n",
       "12        74 bhp\n",
       "13     187.7 bhp\n",
       "14       115 bhp\n",
       "15    175.56 bhp\n",
       "16      98.6 bhp\n",
       "17        74 bhp\n",
       "18      83.8 bhp\n",
       "19    167.62 bhp\n",
       "Name: Power, dtype: object"
      ]
     },
     "execution_count": 42,
     "metadata": {},
     "output_type": "execute_result"
    }
   ],
   "source": [
    "train['Power'][:20]"
   ]
  },
  {
   "cell_type": "code",
   "execution_count": 43,
   "metadata": {},
   "outputs": [
    {
     "data": {
      "text/plain": [
       "74 bhp        235\n",
       "98.6 bhp      131\n",
       "73.9 bhp      125\n",
       "140 bhp       123\n",
       "78.9 bhp      110\n",
       "             ... \n",
       "174.57 bhp      1\n",
       "246.74 bhp      1\n",
       "488.1 bhp       1\n",
       "175.67 bhp      1\n",
       "199.3 bhp       1\n",
       "Name: Power, Length: 372, dtype: int64"
      ]
     },
     "execution_count": 43,
     "metadata": {},
     "output_type": "execute_result"
    }
   ],
   "source": [
    "train['Power'].value_counts()"
   ]
  },
  {
   "cell_type": "code",
   "execution_count": 44,
   "metadata": {},
   "outputs": [
    {
     "data": {
      "text/plain": [
       "74 bhp        45\n",
       "98.6 bhp      35\n",
       "73.9 bhp      27\n",
       "82 bhp        23\n",
       "86.8 bhp      22\n",
       "              ..\n",
       "127 bhp        1\n",
       "224.34 bhp     1\n",
       "76 bhp         1\n",
       "88 bhp         1\n",
       "192 bhp        1\n",
       "Name: Power, Length: 249, dtype: int64"
      ]
     },
     "execution_count": 44,
     "metadata": {},
     "output_type": "execute_result"
    }
   ],
   "source": [
    "test['Power'].value_counts()"
   ]
  },
  {
   "cell_type": "code",
   "execution_count": 45,
   "metadata": {},
   "outputs": [
    {
     "data": {
      "text/plain": [
       "array(['58.16 bhp', '126.2 bhp', '88.7 bhp', '88.76 bhp', '140.8 bhp',\n",
       "       '55.2 bhp', '63.1 bhp', '171.5 bhp', '103.6 bhp', '74 bhp',\n",
       "       '103.25 bhp', '116.3 bhp', '187.7 bhp', '115 bhp', '175.56 bhp',\n",
       "       '98.6 bhp', '83.8 bhp', '167.62 bhp', '190 bhp', '88.5 bhp',\n",
       "       '177.01 bhp', '80 bhp', '67.1 bhp', '102 bhp', '108.45 bhp',\n",
       "       '138.1 bhp', '184 bhp', '179.5 bhp', '103.5 bhp', '64 bhp',\n",
       "       '82 bhp', '254.8 bhp', '73.9 bhp', '46.3 bhp', '37.5 bhp',\n",
       "       '77 bhp', '82.9 bhp', '149.92 bhp', '138.03 bhp', '112.2 bhp',\n",
       "       '163.7 bhp', '71 bhp', '105 bhp', '174.33 bhp', '75 bhp',\n",
       "       '103.2 bhp', '53.3 bhp', '78.9 bhp', '147.6 bhp', '147.8 bhp',\n",
       "       '68 bhp', '186 bhp', '170 bhp', '69 bhp', '140 bhp', '78 bhp',\n",
       "       '194 bhp', '500 bhp', '108.5 bhp', '86.8 bhp', '187.74 bhp',\n",
       "       'null bhp', '132 bhp', '86.7 bhp', '73.94 bhp', '117.3 bhp',\n",
       "       '218 bhp', '168.5 bhp', '89.84 bhp', '110 bhp', '90 bhp',\n",
       "       '82.85 bhp', '67 bhp', '241.4 bhp', '35 bhp', '270.9 bhp',\n",
       "       '126.32 bhp', '73 bhp', '130 bhp', '100.6 bhp', '150 bhp',\n",
       "       '75.94 bhp', '215 bhp', '107.3 bhp', '37.48 bhp', '120 bhp',\n",
       "       '178 bhp', '152 bhp', '91.1 bhp', '85.80 bhp', '362.07 bhp',\n",
       "       '121.3 bhp', '143 bhp', '81.80 bhp', '171 bhp', '76.8 bhp',\n",
       "       '103.52 bhp', '444 bhp', '362.9 bhp', '67.06 bhp', '120.7 bhp',\n",
       "       '258 bhp', '81.86 bhp', '112 bhp', '88.73 bhp', '57.6 bhp',\n",
       "       '157.75 bhp', '102.5 bhp', '201.1 bhp', '83.1 bhp', '68.05 bhp',\n",
       "       '88.50 bhp', nan, '106 bhp', '100 bhp', '81.83 bhp', '85 bhp',\n",
       "       '64.1 bhp', '177.5 bhp', '246.7 bhp', '177.46 bhp', '65 bhp',\n",
       "       '67.04 bhp', '189.08 bhp', '99 bhp', '53.5 bhp', '194.3 bhp',\n",
       "       '70 bhp', '183 bhp', '254.79 bhp', '66.1 bhp', '76 bhp', '60 bhp',\n",
       "       '123.24 bhp', '47.3 bhp', '118 bhp', '88.8 bhp', '177 bhp',\n",
       "       '136 bhp', '201.15 bhp', '93.7 bhp', '177.6 bhp', '313 bhp',\n",
       "       '245 bhp', '125 bhp', '227 bhp', '62 bhp', '141.1 bhp',\n",
       "       '83.14 bhp', '192 bhp', '67.05 bhp', '47 bhp', '235 bhp', '37 bhp',\n",
       "       '87.2 bhp', '203 bhp', '204 bhp', '246.74 bhp', '122 bhp',\n",
       "       '282 bhp', '181 bhp', '224 bhp', '94 bhp', '367 bhp', '98.79 bhp',\n",
       "       '62.1 bhp', '174.3 bhp', '114 bhp', '335.2 bhp', '169 bhp',\n",
       "       '191.34 bhp', '108.49 bhp', '138.02 bhp', '156 bhp', '187.4 bhp',\n",
       "       '66 bhp', '103.3 bhp', '164.7 bhp', '79.4 bhp', '198.5 bhp',\n",
       "       '154 bhp', '73.8 bhp', '181.43 bhp', '85.8 bhp', '207.8 bhp',\n",
       "       '108.4 bhp', '88 bhp', '63 bhp', '82.5 bhp', '364.9 bhp',\n",
       "       '107.2 bhp', '141 bhp', '113.98 bhp', '126.3 bhp', '185 bhp',\n",
       "       '237.4 bhp', '99.6 bhp', '66.7 bhp', '160 bhp', '306 bhp',\n",
       "       '98.59 bhp', '92.7 bhp', '147.51 bhp', '197.2 bhp', '167.6 bhp',\n",
       "       '165 bhp', '110.4 bhp', '73.97 bhp', '147.9 bhp', '116.6 bhp',\n",
       "       '148 bhp', '34.2 bhp', '155 bhp', '197 bhp', '108.62 bhp',\n",
       "       '118.3 bhp', '38.4 bhp', '241.38 bhp', '153.86 bhp', '163.5 bhp',\n",
       "       '226.6 bhp', '84.8 bhp', '53.64 bhp', '158.2 bhp', '69.01 bhp',\n",
       "       '181.03 bhp', '58.2 bhp', '104.68 bhp', '126.24 bhp', '73.75 bhp',\n",
       "       '158 bhp', '130.2 bhp', '57.5 bhp', '97.7 bhp', '121.4 bhp',\n",
       "       '98.96 bhp', '174.5 bhp', '308 bhp', '121.36 bhp', '138 bhp',\n",
       "       '265 bhp', '84 bhp', '321 bhp', '91.72 bhp', '65.3 bhp',\n",
       "       '88.2 bhp', '93 bhp', '35.5 bhp', '86.79 bhp', '157.7 bhp',\n",
       "       '40.3 bhp', '91.7 bhp', '180 bhp', '114.4 bhp', '158.8 bhp',\n",
       "       '157.8 bhp', '123.7 bhp', '56.3 bhp', '189 bhp', '104 bhp',\n",
       "       '210 bhp', '270.88 bhp', '142 bhp', '255 bhp', '236 bhp',\n",
       "       '167.7 bhp', '148.31 bhp', '80.46 bhp', '138.08 bhp', '250 bhp',\n",
       "       '74.9 bhp', '91.2 bhp', '102.57 bhp', '97.6 bhp', '102.53 bhp',\n",
       "       '240 bhp', '254 bhp', '112.4 bhp', '73.74 bhp', '108.495 bhp',\n",
       "       '116.9 bhp', '101 bhp', '320 bhp', '70.02 bhp', '261.49 bhp',\n",
       "       '105.5 bhp', '550 bhp', '168.7 bhp', '55.23 bhp', '94.68 bhp',\n",
       "       '152.88 bhp', '163.2 bhp', '203.2 bhp', '241 bhp', '95 bhp',\n",
       "       '200 bhp', '271.23 bhp', '63.12 bhp', '85.7 bhp', '308.43 bhp',\n",
       "       '118.6 bhp', '199.3 bhp', '83.83 bhp', '55 bhp', '83 bhp',\n",
       "       '300 bhp', '201 bhp', '262.6 bhp', '163 bhp', '58.33 bhp',\n",
       "       '86.76 bhp', '76.9 bhp', '174.57 bhp', '301.73 bhp', '68.1 bhp',\n",
       "       '162 bhp', '394.3 bhp', '80.9 bhp', '147.5 bhp', '272 bhp',\n",
       "       '340 bhp', '120.33 bhp', '82.4 bhp', '231.1 bhp', '335.3 bhp',\n",
       "       '333 bhp', '198.25 bhp', '224.34 bhp', '402 bhp', '261 bhp',\n",
       "       '61 bhp', '144 bhp', '71.01 bhp', '271.72 bhp', '134 bhp',\n",
       "       '135.1 bhp', '92 bhp', '64.08 bhp', '261.5 bhp', '123.37 bhp',\n",
       "       '175.67 bhp', '53 bhp', '110.5 bhp', '178.4 bhp', '193.1 bhp',\n",
       "       '41 bhp', '395 bhp', '48.21 bhp', '450 bhp', '421 bhp',\n",
       "       '89.75 bhp', '387.3 bhp', '130.3 bhp', '281.61 bhp', '52.8 bhp',\n",
       "       '139.01 bhp', '208 bhp', '503 bhp', '168 bhp', '98.82 bhp',\n",
       "       '139.07 bhp', '83.11 bhp', '74.93 bhp', '382 bhp', '74.96 bhp',\n",
       "       '552 bhp', '127 bhp', '560 bhp', '116.4 bhp', '161.6 bhp',\n",
       "       '488.1 bhp', '103 bhp', '181.04 bhp'], dtype=object)"
      ]
     },
     "execution_count": 45,
     "metadata": {},
     "output_type": "execute_result"
    }
   ],
   "source": [
    "train['Power'].unique()"
   ]
  },
  {
   "cell_type": "code",
   "execution_count": 46,
   "metadata": {},
   "outputs": [],
   "source": [
    "# Null Values\n",
    "train['Power'] = train['Power'].fillna('74 bhp')\n",
    "test['Power'] = test['Power'].fillna('74 bhp')"
   ]
  },
  {
   "cell_type": "code",
   "execution_count": 47,
   "metadata": {},
   "outputs": [],
   "source": [
    "power_val = pd.DataFrame(columns=['Power_value'])\n",
    "power_measure = pd.DataFrame(columns=['Power_measure'])\n",
    "train = pd.concat([train, power_val, power_measure], axis=1)\n",
    "test = pd.concat([test, power_val, power_measure], axis=1)\n",
    "\n",
    "for i in train.index:\n",
    "    value = train['Power'][i].split()[0]\n",
    "    measure = train['Power'][i].split()[1]\n",
    "    train['Power_value'][i] = value\n",
    "    train['Power_measure'][i] = measure\n",
    "        \n",
    "for i in test.index:\n",
    "    value = test['Power'][i].split()[0]\n",
    "    measure = test['Power'][i].split()[1]\n",
    "    test['Power_value'][i] = value\n",
    "    test['Power_measure'][i] = measure\n",
    "    \n",
    "train.drop('Power', axis=1, inplace=True)\n",
    "test.drop('Power', axis=1, inplace=True)"
   ]
  },
  {
   "cell_type": "code",
   "execution_count": 48,
   "metadata": {},
   "outputs": [
    {
     "data": {
      "text/plain": [
       "bhp    6012\n",
       "Name: Power_measure, dtype: int64"
      ]
     },
     "execution_count": 48,
     "metadata": {},
     "output_type": "execute_result"
    }
   ],
   "source": [
    "train['Power_measure'].value_counts()"
   ]
  },
  {
   "cell_type": "code",
   "execution_count": 49,
   "metadata": {},
   "outputs": [],
   "source": [
    "t = train[train['Power_value'] == 'null']\n",
    "t['Power_value'] = '74'\n",
    "train[train['Power_value'] == 'null'] = t\n",
    "t = test[test['Power_value'] == 'null']\n",
    "t['Power_value'] = '74'\n",
    "test[test['Power_value'] == 'null'] = t"
   ]
  },
  {
   "cell_type": "code",
   "execution_count": 50,
   "metadata": {},
   "outputs": [],
   "source": [
    "train.drop('Power_measure', axis=1, inplace=True)\n",
    "test.drop('Power_measure', axis=1, inplace=True)"
   ]
  },
  {
   "cell_type": "markdown",
   "metadata": {},
   "source": [
    "## Seats"
   ]
  },
  {
   "cell_type": "code",
   "execution_count": 51,
   "metadata": {},
   "outputs": [
    {
     "data": {
      "text/plain": [
       "0     5.0\n",
       "1     5.0\n",
       "2     5.0\n",
       "3     7.0\n",
       "4     5.0\n",
       "5     5.0\n",
       "6     5.0\n",
       "7     8.0\n",
       "8     5.0\n",
       "9     5.0\n",
       "10    5.0\n",
       "11    5.0\n",
       "12    5.0\n",
       "13    5.0\n",
       "14    5.0\n",
       "15    7.0\n",
       "16    5.0\n",
       "17    5.0\n",
       "18    5.0\n",
       "19    5.0\n",
       "Name: Seats, dtype: float64"
      ]
     },
     "execution_count": 51,
     "metadata": {},
     "output_type": "execute_result"
    }
   ],
   "source": [
    "train['Seats'][:20]"
   ]
  },
  {
   "cell_type": "code",
   "execution_count": 52,
   "metadata": {},
   "outputs": [
    {
     "data": {
      "text/plain": [
       "5.0     5007\n",
       "7.0      674\n",
       "8.0      134\n",
       "4.0       99\n",
       "6.0       31\n",
       "2.0       16\n",
       "10.0       5\n",
       "9.0        3\n",
       "0.0        1\n",
       "Name: Seats, dtype: int64"
      ]
     },
     "execution_count": 52,
     "metadata": {},
     "output_type": "execute_result"
    }
   ],
   "source": [
    "train['Seats'].value_counts()"
   ]
  },
  {
   "cell_type": "code",
   "execution_count": 53,
   "metadata": {},
   "outputs": [
    {
     "data": {
      "text/plain": [
       "5.0     1033\n",
       "7.0      122\n",
       "8.0       36\n",
       "4.0       20\n",
       "6.0        7\n",
       "10.0       3\n",
       "2.0        2\n",
       "Name: Seats, dtype: int64"
      ]
     },
     "execution_count": 53,
     "metadata": {},
     "output_type": "execute_result"
    }
   ],
   "source": [
    "test['Seats'].value_counts()"
   ]
  },
  {
   "cell_type": "code",
   "execution_count": 54,
   "metadata": {},
   "outputs": [],
   "source": [
    "# Null values\n",
    "train['Seats'] = train['Seats'].fillna(5.0)\n",
    "test['Seats'] = test['Seats'].fillna(5.0)"
   ]
  },
  {
   "cell_type": "markdown",
   "metadata": {},
   "source": [
    "# EDA"
   ]
  },
  {
   "cell_type": "markdown",
   "metadata": {},
   "source": [
    "## Unnamed: 0"
   ]
  },
  {
   "cell_type": "code",
   "execution_count": 55,
   "metadata": {},
   "outputs": [
    {
     "name": "stdout",
     "output_type": "stream",
     "text": [
      "6012\n"
     ]
    }
   ],
   "source": [
    "print(len(train['Unnamed: 0'].value_counts()))"
   ]
  },
  {
   "cell_type": "code",
   "execution_count": 56,
   "metadata": {},
   "outputs": [
    {
     "data": {
      "text/plain": [
       "<matplotlib.collections.PathCollection at 0x7f00f4dc2b50>"
      ]
     },
     "execution_count": 56,
     "metadata": {},
     "output_type": "execute_result"
    },
    {
     "data": {
      "image/png": "[encoded data removed]",
      "text/plain": [
       "<Figure size 864x648 with 1 Axes>"
      ]
     },
     "metadata": {
      "needs_background": "light"
     },
     "output_type": "display_data"
    }
   ],
   "source": [
    "plt.figure(figsize=(12, 9))\n",
    "plt.scatter(train['Unnamed: 0'], train['Price'])"
   ]
  },
  {
   "cell_type": "markdown",
   "metadata": {},
   "source": [
    "There is no clear pattern in this feautre, i guess it's gonna be misleading, we gotta drop it."
   ]
  },
  {
   "cell_type": "code",
   "execution_count": 57,
   "metadata": {},
   "outputs": [
    {
     "name": "stdout",
     "output_type": "stream",
     "text": [
      "(6012, 13) (1234, 12)\n",
      "(6012, 12) (1234, 11)\n"
     ]
    }
   ],
   "source": [
    "print(train.shape, test.shape)\n",
    "train.drop('Unnamed: 0', axis=1, inplace=True)\n",
    "test.drop('Unnamed: 0', axis=1, inplace=True)\n",
    "print(train.shape, test.shape)"
   ]
  },
  {
   "cell_type": "markdown",
   "metadata": {},
   "source": [
    "## Location"
   ]
  },
  {
   "cell_type": "code",
   "execution_count": 58,
   "metadata": {},
   "outputs": [
    {
     "data": {
      "text/plain": [
       "<seaborn.axisgrid.FacetGrid at 0x7f00f515a940>"
      ]
     },
     "execution_count": 58,
     "metadata": {},
     "output_type": "execute_result"
    },
    {
     "data": {
      "text/plain": [
       "<Figure size 864x648 with 0 Axes>"
      ]
     },
     "metadata": {},
     "output_type": "display_data"
    },
    {
     "data": {
      "image/png": "[encoded data removed]",
      "text/plain": [
       "<Figure size 360x360 with 1 Axes>"
      ]
     },
     "metadata": {
      "needs_background": "light"
     },
     "output_type": "display_data"
    }
   ],
   "source": [
    "plt.figure(figsize=(12, 9))\n",
    "sns.catplot('Location', 'Price', data=train)"
   ]
  },
  {
   "cell_type": "code",
   "execution_count": 59,
   "metadata": {},
   "outputs": [
    {
     "data": {
      "text/plain": [
       "<AxesSubplot:xlabel='Location', ylabel='Price'>"
      ]
     },
     "execution_count": 59,
     "metadata": {},
     "output_type": "execute_result"
    },
    {
     "data": {
      "image/png": "[encoded data removed]",
      "text/plain": [
       "<Figure size 864x648 with 1 Axes>"
      ]
     },
     "metadata": {
      "needs_background": "light"
     },
     "output_type": "display_data"
    }
   ],
   "source": [
    "plt.figure(figsize=(12, 9))\n",
    "sns.barplot('Location', 'Price', data=train)"
   ]
  },
  {
   "cell_type": "markdown",
   "metadata": {},
   "source": [
    "## Year"
   ]
  },
  {
   "cell_type": "code",
   "execution_count": 60,
   "metadata": {},
   "outputs": [
    {
     "data": {
      "text/plain": [
       "<seaborn.axisgrid.FacetGrid at 0x7f00f4d1ce50>"
      ]
     },
     "execution_count": 60,
     "metadata": {},
     "output_type": "execute_result"
    },
    {
     "data": {
      "text/plain": [
       "<Figure size 864x648 with 0 Axes>"
      ]
     },
     "metadata": {},
     "output_type": "display_data"
    },
    {
     "data": {
      "image/png": "[encoded data removed]",
      "text/plain": [
       "<Figure size 360x360 with 1 Axes>"
      ]
     },
     "metadata": {
      "needs_background": "light"
     },
     "output_type": "display_data"
    }
   ],
   "source": [
    "plt.figure(figsize=(12, 9))\n",
    "sns.catplot('Year', 'Price', data=train)"
   ]
  },
  {
   "cell_type": "code",
   "execution_count": 61,
   "metadata": {},
   "outputs": [
    {
     "data": {
      "text/plain": [
       "<AxesSubplot:xlabel='Year', ylabel='Price'>"
      ]
     },
     "execution_count": 61,
     "metadata": {},
     "output_type": "execute_result"
    },
    {
     "data": {
      "image/png": "[encoded data removed]",
      "text/plain": [
       "<Figure size 864x648 with 1 Axes>"
      ]
     },
     "metadata": {
      "needs_background": "light"
     },
     "output_type": "display_data"
    }
   ],
   "source": [
    "plt.figure(figsize=(12, 9))\n",
    "sns.barplot('Year', 'Price', data=train)"
   ]
  },
  {
   "cell_type": "code",
   "execution_count": 62,
   "metadata": {},
   "outputs": [
    {
     "data": {
      "text/plain": [
       "<AxesSubplot:xlabel='Year', ylabel='count'>"
      ]
     },
     "execution_count": 62,
     "metadata": {},
     "output_type": "execute_result"
    },
    {
     "data": {
      "image/png": "[encoded data removed]",
      "text/plain": [
       "<Figure size 864x648 with 1 Axes>"
      ]
     },
     "metadata": {
      "needs_background": "light"
     },
     "output_type": "display_data"
    }
   ],
   "source": [
    "plt.figure(figsize=(12, 9))\n",
    "sns.countplot('Year', data=train)"
   ]
  },
  {
   "cell_type": "code",
   "execution_count": 63,
   "metadata": {},
   "outputs": [
    {
     "data": {
      "text/plain": [
       "<AxesSubplot:xlabel='Year', ylabel='count'>"
      ]
     },
     "execution_count": 63,
     "metadata": {},
     "output_type": "execute_result"
    },
    {
     "data": {
      "image/png": "[encoded data removed]",
      "text/plain": [
       "<Figure size 864x648 with 1 Axes>"
      ]
     },
     "metadata": {
      "needs_background": "light"
     },
     "output_type": "display_data"
    }
   ],
   "source": [
    "plt.figure(figsize=(12, 9))\n",
    "sns.countplot('Year', data=test)"
   ]
  },
  {
   "cell_type": "markdown",
   "metadata": {},
   "source": [
    "I guess it would be reasonable to generate a new feature like 'is_after_2014'"
   ]
  },
  {
   "cell_type": "code",
   "execution_count": 64,
   "metadata": {},
   "outputs": [],
   "source": [
    "is_after_2014 = pd.DataFrame(columns=['is_after_2014'])\n",
    "train = pd.concat([train, is_after_2014], axis=1)\n",
    "test = pd.concat([test, is_after_2014], axis=1)\n",
    "\n",
    "for i in train.index:\n",
    "    val = train['Year'][i]\n",
    "    if val > 2014:\n",
    "        train['is_after_2014'][i] = 1\n",
    "    else:\n",
    "        train['is_after_2014'][i] = 0\n",
    "        \n",
    "for i in test.index:\n",
    "    val = test['Year'][i]\n",
    "    if val > 2014:\n",
    "        test['is_after_2014'][i] = 1\n",
    "    else:\n",
    "        test['is_after_2014'][i] = 0"
   ]
  },
  {
   "cell_type": "markdown",
   "metadata": {},
   "source": [
    "## Kilometers_Driven"
   ]
  },
  {
   "cell_type": "code",
   "execution_count": 65,
   "metadata": {},
   "outputs": [
    {
     "data": {
      "text/plain": [
       "<matplotlib.collections.PathCollection at 0x7f00f48254f0>"
      ]
     },
     "execution_count": 65,
     "metadata": {},
     "output_type": "execute_result"
    },
    {
     "data": {
      "image/png": "[encoded data removed]",
      "text/plain": [
       "<Figure size 720x504 with 1 Axes>"
      ]
     },
     "metadata": {
      "needs_background": "light"
     },
     "output_type": "display_data"
    }
   ],
   "source": [
    "plt.figure(figsize=(10, 7))\n",
    "plt.scatter(train['Kilometers_Driven'], train['Price'])"
   ]
  },
  {
   "cell_type": "markdown",
   "metadata": {},
   "source": [
    "Generating new feature 'is_kilometers_driven_less_80k' would be useful"
   ]
  },
  {
   "cell_type": "code",
   "execution_count": 66,
   "metadata": {},
   "outputs": [],
   "source": [
    "less_80k = pd.DataFrame(columns=['is_kilometers_driven_less_80k'])\n",
    "train = pd.concat([train, less_80k])\n",
    "test = pd.concat([test, less_80k])\n",
    "\n",
    "for i in train.index:\n",
    "    value = train['Kilometers_Driven'][i]\n",
    "    if value < 80000:\n",
    "        train['is_kilometers_driven_less_80k'][i] = 1\n",
    "    else:\n",
    "        train['is_kilometers_driven_less_80k'][i] = 0\n",
    "        \n",
    "for i in test.index:\n",
    "    value = test['Kilometers_Driven'][i]\n",
    "    if value < 80000:\n",
    "        test['is_kilometers_driven_less_80k'][i] = 1\n",
    "    else:\n",
    "        test['is_kilometers_driven_less_80k'][i] = 0"
   ]
  },
  {
   "cell_type": "markdown",
   "metadata": {},
   "source": [
    "## Fuel_Type"
   ]
  },
  {
   "cell_type": "code",
   "execution_count": 67,
   "metadata": {},
   "outputs": [
    {
     "data": {
      "text/plain": [
       "<seaborn.axisgrid.FacetGrid at 0x7f00f47cd310>"
      ]
     },
     "execution_count": 67,
     "metadata": {},
     "output_type": "execute_result"
    },
    {
     "data": {
      "text/plain": [
       "<Figure size 720x504 with 0 Axes>"
      ]
     },
     "metadata": {},
     "output_type": "display_data"
    },
    {
     "data": {
      "image/png": "[encoded data removed]",
      "text/plain": [
       "<Figure size 360x360 with 1 Axes>"
      ]
     },
     "metadata": {
      "needs_background": "light"
     },
     "output_type": "display_data"
    }
   ],
   "source": [
    "plt.figure(figsize=(10, 7))\n",
    "sns.catplot('Fuel_Type', 'Price', data=train)"
   ]
  },
  {
   "cell_type": "code",
   "execution_count": 68,
   "metadata": {},
   "outputs": [
    {
     "data": {
      "text/plain": [
       "<AxesSubplot:xlabel='Fuel_Type', ylabel='Price'>"
      ]
     },
     "execution_count": 68,
     "metadata": {},
     "output_type": "execute_result"
    },
    {
     "data": {
      "image/png": "[encoded data removed]",
      "text/plain": [
       "<Figure size 720x504 with 1 Axes>"
      ]
     },
     "metadata": {
      "needs_background": "light"
     },
     "output_type": "display_data"
    }
   ],
   "source": [
    "plt.figure(figsize=(10, 7))\n",
    "sns.barplot('Fuel_Type', 'Price', data=train)"
   ]
  },
  {
   "cell_type": "code",
   "execution_count": 69,
   "metadata": {},
   "outputs": [
    {
     "data": {
      "text/plain": [
       "Diesel    647\n",
       "Petrol    579\n",
       "CNG         6\n",
       "LPG         2\n",
       "Name: Fuel_Type, dtype: int64"
      ]
     },
     "execution_count": 69,
     "metadata": {},
     "output_type": "execute_result"
    }
   ],
   "source": [
    "test['Fuel_Type'].value_counts()"
   ]
  },
  {
   "cell_type": "markdown",
   "metadata": {},
   "source": [
    "- We are gonna generate feature 'is_diesel'\n",
    "- Generating features like 'is_electric' is not gonna be useful, cuz there is not electric cars in test set"
   ]
  },
  {
   "cell_type": "code",
   "execution_count": 70,
   "metadata": {},
   "outputs": [],
   "source": [
    "is_diesel = pd.DataFrame(columns=['is_diesel'])\n",
    "train = pd.concat([train, is_diesel], axis=1)\n",
    "test = pd.concat([test, is_diesel], axis=1)\n",
    "\n",
    "for i in train.index:\n",
    "    value = train['Fuel_Type'][i]\n",
    "    if value == 'Diesel':\n",
    "        train['is_diesel'][i] = 1\n",
    "    else:\n",
    "        train['is_diesel'][i] = 0\n",
    "\n",
    "for i in test.index:\n",
    "    value = test['Fuel_Type'][i]\n",
    "    if value == 'Diesel':\n",
    "        test['is_diesel'][i] = 1\n",
    "    else:\n",
    "        test['is_diesel'][i] = 0"
   ]
  },
  {
   "cell_type": "markdown",
   "metadata": {},
   "source": [
    "## Transmission"
   ]
  },
  {
   "cell_type": "code",
   "execution_count": 71,
   "metadata": {},
   "outputs": [
    {
     "data": {
      "text/plain": [
       "<seaborn.axisgrid.FacetGrid at 0x7f00f49cce80>"
      ]
     },
     "execution_count": 71,
     "metadata": {},
     "output_type": "execute_result"
    },
    {
     "data": {
      "text/plain": [
       "<Figure size 720x504 with 0 Axes>"
      ]
     },
     "metadata": {},
     "output_type": "display_data"
    },
    {
     "data": {
      "image/png": "[encoded data removed]",
      "text/plain": [
       "<Figure size 360x360 with 1 Axes>"
      ]
     },
     "metadata": {
      "needs_background": "light"
     },
     "output_type": "display_data"
    }
   ],
   "source": [
    "plt.figure(figsize=(10, 7))\n",
    "sns.catplot('Transmission', 'Price', data=train)"
   ]
  },
  {
   "cell_type": "code",
   "execution_count": 72,
   "metadata": {},
   "outputs": [
    {
     "data": {
      "text/plain": [
       "<AxesSubplot:xlabel='Transmission', ylabel='count'>"
      ]
     },
     "execution_count": 72,
     "metadata": {},
     "output_type": "execute_result"
    },
    {
     "data": {
      "image/png": "[encoded data removed]",
      "text/plain": [
       "<Figure size 576x432 with 1 Axes>"
      ]
     },
     "metadata": {
      "needs_background": "light"
     },
     "output_type": "display_data"
    }
   ],
   "source": [
    "plt.figure(figsize=(8, 6))\n",
    "sns.countplot('Transmission', data=train)"
   ]
  },
  {
   "cell_type": "code",
   "execution_count": 73,
   "metadata": {},
   "outputs": [
    {
     "data": {
      "text/plain": [
       "<AxesSubplot:xlabel='Transmission', ylabel='Price'>"
      ]
     },
     "execution_count": 73,
     "metadata": {},
     "output_type": "execute_result"
    },
    {
     "data": {
      "image/png": "[encoded data removed]",
      "text/plain": [
       "<Figure size 720x504 with 1 Axes>"
      ]
     },
     "metadata": {
      "needs_background": "light"
     },
     "output_type": "display_data"
    }
   ],
   "source": [
    "plt.figure(figsize=(10, 7))\n",
    "sns.barplot('Transmission', 'Price', data=train)"
   ]
  },
  {
   "cell_type": "markdown",
   "metadata": {},
   "source": [
    "Generating 'is_automatic' would be great!"
   ]
  },
  {
   "cell_type": "code",
   "execution_count": 74,
   "metadata": {},
   "outputs": [],
   "source": [
    "is_automatic = pd.DataFrame(columns=['is_automatic'])\n",
    "train = pd.concat([train, is_automatic], axis=1)\n",
    "test = pd.concat([test, is_automatic], axis=1)\n",
    "\n",
    "for i in train.index:\n",
    "    value = train['Transmission'][i]\n",
    "    if value == 'Automatic':\n",
    "        train['is_automatic'][i] = 1\n",
    "    else:\n",
    "        train['is_automatic'][i] = 0\n",
    "\n",
    "for i in test.index:\n",
    "    value = test['Transmission'][i]\n",
    "    if value == 'Automatic':\n",
    "        test['is_automatic'][i] = 1\n",
    "    else:\n",
    "        test['is_automatic'][i] = 0"
   ]
  },
  {
   "cell_type": "markdown",
   "metadata": {},
   "source": [
    "## Owner_Type"
   ]
  },
  {
   "cell_type": "code",
   "execution_count": 75,
   "metadata": {},
   "outputs": [
    {
     "data": {
      "text/plain": [
       "<seaborn.axisgrid.FacetGrid at 0x7f00f48f4670>"
      ]
     },
     "execution_count": 75,
     "metadata": {},
     "output_type": "execute_result"
    },
    {
     "data": {
      "text/plain": [
       "<Figure size 720x504 with 0 Axes>"
      ]
     },
     "metadata": {},
     "output_type": "display_data"
    },
    {
     "data": {
      "image/png": "[encoded data removed]",
      "text/plain": [
       "<Figure size 360x360 with 1 Axes>"
      ]
     },
     "metadata": {
      "needs_background": "light"
     },
     "output_type": "display_data"
    }
   ],
   "source": [
    "plt.figure(figsize=(10, 7))\n",
    "sns.catplot('Owner_Type', 'Price', data=train)"
   ]
  },
  {
   "cell_type": "code",
   "execution_count": 76,
   "metadata": {},
   "outputs": [
    {
     "data": {
      "text/plain": [
       "<AxesSubplot:xlabel='Owner_Type', ylabel='Price'>"
      ]
     },
     "execution_count": 76,
     "metadata": {},
     "output_type": "execute_result"
    },
    {
     "data": {
      "image/png": "[encoded data removed]",
      "text/plain": [
       "<Figure size 576x432 with 1 Axes>"
      ]
     },
     "metadata": {
      "needs_background": "light"
     },
     "output_type": "display_data"
    }
   ],
   "source": [
    "plt.figure(figsize=(8, 6))\n",
    "sns.barplot('Owner_Type', 'Price', data=train)"
   ]
  },
  {
   "cell_type": "code",
   "execution_count": 77,
   "metadata": {},
   "outputs": [
    {
     "data": {
      "text/plain": [
       "<AxesSubplot:xlabel='Owner_Type', ylabel='count'>"
      ]
     },
     "execution_count": 77,
     "metadata": {},
     "output_type": "execute_result"
    },
    {
     "data": {
      "image/png": "[encoded data removed]",
      "text/plain": [
       "<Figure size 576x432 with 1 Axes>"
      ]
     },
     "metadata": {
      "needs_background": "light"
     },
     "output_type": "display_data"
    }
   ],
   "source": [
    "plt.figure(figsize=(8, 6))\n",
    "sns.countplot('Owner_Type', data=train)"
   ]
  },
  {
   "cell_type": "markdown",
   "metadata": {},
   "source": [
    "I guess generating feature here is not gonna be that useful"
   ]
  },
  {
   "cell_type": "markdown",
   "metadata": {},
   "source": [
    "## Seats"
   ]
  },
  {
   "cell_type": "code",
   "execution_count": 78,
   "metadata": {},
   "outputs": [
    {
     "name": "stdout",
     "output_type": "stream",
     "text": [
      "5.0     5049\n",
      "7.0      674\n",
      "8.0      134\n",
      "4.0       99\n",
      "6.0       31\n",
      "2.0       16\n",
      "10.0       5\n",
      "9.0        3\n",
      "0.0        1\n",
      "Name: Seats, dtype: int64\n",
      "5.0     1044\n",
      "7.0      122\n",
      "8.0       36\n",
      "4.0       20\n",
      "6.0        7\n",
      "10.0       3\n",
      "2.0        2\n",
      "Name: Seats, dtype: int64\n"
     ]
    }
   ],
   "source": [
    "print(train['Seats'].value_counts())\n",
    "print(test['Seats'].value_counts())"
   ]
  },
  {
   "cell_type": "code",
   "execution_count": 79,
   "metadata": {},
   "outputs": [
    {
     "name": "stdout",
     "output_type": "stream",
     "text": [
      "(6012, 16)\n",
      "(6011, 16)\n"
     ]
    }
   ],
   "source": [
    "print(train.shape)\n",
    "zero_seat = train[train['Seats'] == 0].index\n",
    "train.drop(zero_seat, axis=0, inplace=True)\n",
    "print(train.shape)"
   ]
  },
  {
   "cell_type": "code",
   "execution_count": 80,
   "metadata": {},
   "outputs": [
    {
     "data": {
      "text/plain": [
       "<seaborn.axisgrid.FacetGrid at 0x7f00f44c19d0>"
      ]
     },
     "execution_count": 80,
     "metadata": {},
     "output_type": "execute_result"
    },
    {
     "data": {
      "text/plain": [
       "<Figure size 576x432 with 0 Axes>"
      ]
     },
     "metadata": {},
     "output_type": "display_data"
    },
    {
     "data": {
      "image/png": "[encoded data removed]",
      "text/plain": [
       "<Figure size 360x360 with 1 Axes>"
      ]
     },
     "metadata": {
      "needs_background": "light"
     },
     "output_type": "display_data"
    }
   ],
   "source": [
    "plt.figure(figsize=(8, 6))\n",
    "sns.catplot('Seats', 'Price', data=train)"
   ]
  },
  {
   "cell_type": "code",
   "execution_count": 81,
   "metadata": {},
   "outputs": [
    {
     "data": {
      "text/plain": [
       "<AxesSubplot:xlabel='Seats', ylabel='Price'>"
      ]
     },
     "execution_count": 81,
     "metadata": {},
     "output_type": "execute_result"
    },
    {
     "data": {
      "image/png": "[encoded data removed]",
      "text/plain": [
       "<Figure size 576x432 with 1 Axes>"
      ]
     },
     "metadata": {
      "needs_background": "light"
     },
     "output_type": "display_data"
    }
   ],
   "source": [
    "plt.figure(figsize=(8, 6))\n",
    "sns.barplot('Seats', 'Price', data=train)"
   ]
  },
  {
   "cell_type": "code",
   "execution_count": 82,
   "metadata": {},
   "outputs": [
    {
     "data": {
      "text/plain": [
       "<AxesSubplot:xlabel='Seats', ylabel='count'>"
      ]
     },
     "execution_count": 82,
     "metadata": {},
     "output_type": "execute_result"
    },
    {
     "data": {
      "image/png": "[encoded data removed]",
      "text/plain": [
       "<Figure size 576x432 with 1 Axes>"
      ]
     },
     "metadata": {
      "needs_background": "light"
     },
     "output_type": "display_data"
    }
   ],
   "source": [
    "plt.figure(figsize=(8, 6))\n",
    "sns.countplot('Seats', data=train)"
   ]
  },
  {
   "cell_type": "markdown",
   "metadata": {},
   "source": [
    "Generating 'is_2_seats' feature"
   ]
  },
  {
   "cell_type": "code",
   "execution_count": 83,
   "metadata": {},
   "outputs": [],
   "source": [
    "is_2_seats = pd.DataFrame(columns=['is_2_seats'])\n",
    "train = pd.concat([train, is_2_seats], axis=1)\n",
    "test = pd.concat([test, is_2_seats], axis=1)\n",
    "\n",
    "for i in train.index:\n",
    "    value = train['Seats'][i]\n",
    "    if value == 2:\n",
    "        train['is_2_seats'][i] = 1\n",
    "    else:\n",
    "        train['is_2_seats'][i] = 0\n",
    "        \n",
    "for i in test.index:\n",
    "    value = test['Seats'][i]\n",
    "    if value == 2:\n",
    "        test['is_2_seats'][i] = 1\n",
    "    else:\n",
    "        test['is_2_seats'][i] = 0"
   ]
  },
  {
   "cell_type": "markdown",
   "metadata": {},
   "source": [
    "# Encoding Categorical Features"
   ]
  },
  {
   "cell_type": "code",
   "execution_count": 84,
   "metadata": {},
   "outputs": [
    {
     "name": "stdout",
     "output_type": "stream",
     "text": [
      "is_after_2014\n",
      "is_kilometers_driven_less_80k\n",
      "is_diesel\n",
      "is_automatic\n",
      "is_2_seats\n",
      "Mileage_value\n",
      "Engine_value\n",
      "Power_value\n"
     ]
    }
   ],
   "source": [
    "for i in ['is_after_2014', 'is_kilometers_driven_less_80k', \n",
    "          'is_diesel', 'is_automatic', 'is_2_seats', \n",
    "          'Mileage_value', 'Engine_value', 'Power_value']:\n",
    "    print(i)\n",
    "    train[i] = train[i].astype('float32')\n",
    "    test[i] = test[i].astype('float32')"
   ]
  },
  {
   "cell_type": "code",
   "execution_count": 85,
   "metadata": {},
   "outputs": [
    {
     "name": "stdout",
     "output_type": "stream",
     "text": [
      "(6011, 17) (1234, 16)\n",
      "(6011, 17) (1234, 16)\n"
     ]
    }
   ],
   "source": [
    "print(train.shape, test.shape)\n",
    "cat = train.select_dtypes(include='object')\n",
    "\n",
    "for i in cat.columns:\n",
    "    le = LabelEncoder()\n",
    "    train[i] = le.fit_transform(train[i])\n",
    "    test[i] = le.transform(test[i])\n",
    "    \n",
    "print(train.shape, test.shape)"
   ]
  },
  {
   "cell_type": "markdown",
   "metadata": {},
   "source": [
    "# Normalization"
   ]
  },
  {
   "cell_type": "code",
   "execution_count": 86,
   "metadata": {
    "collapsed": true
   },
   "outputs": [
    {
     "data": {
      "text/html": [
       "<div>\n",
       "<style scoped>\n",
       "    .dataframe tbody tr th:only-of-type {\n",
       "        vertical-align: middle;\n",
       "    }\n",
       "\n",
       "    .dataframe tbody tr th {\n",
       "        vertical-align: top;\n",
       "    }\n",
       "\n",
       "    .dataframe thead th {\n",
       "        text-align: right;\n",
       "    }\n",
       "</style>\n",
       "<table border=\"1\" class=\"dataframe\">\n",
       "  <thead>\n",
       "    <tr style=\"text-align: right;\">\n",
       "      <th></th>\n",
       "      <th>Location</th>\n",
       "      <th>Year</th>\n",
       "      <th>Kilometers_Driven</th>\n",
       "      <th>Fuel_Type</th>\n",
       "      <th>Transmission</th>\n",
       "      <th>Owner_Type</th>\n",
       "      <th>Seats</th>\n",
       "      <th>Price</th>\n",
       "      <th>Mileage_value</th>\n",
       "      <th>Mileage_measure</th>\n",
       "      <th>Engine_value</th>\n",
       "      <th>Power_value</th>\n",
       "      <th>is_after_2014</th>\n",
       "      <th>is_kilometers_driven_less_80k</th>\n",
       "      <th>is_diesel</th>\n",
       "      <th>is_automatic</th>\n",
       "      <th>is_2_seats</th>\n",
       "    </tr>\n",
       "  </thead>\n",
       "  <tbody>\n",
       "    <tr>\n",
       "      <th>0</th>\n",
       "      <td>1.142891</td>\n",
       "      <td>-1.026682</td>\n",
       "      <td>0.440469</td>\n",
       "      <td>-1.570056</td>\n",
       "      <td>0.632035</td>\n",
       "      <td>-0.464009</td>\n",
       "      <td>-0.345781</td>\n",
       "      <td>-0.691242</td>\n",
       "      <td>1.846843</td>\n",
       "      <td>-9.490035</td>\n",
       "      <td>-1.033562</td>\n",
       "      <td>-1.010905</td>\n",
       "      <td>-0.834834</td>\n",
       "      <td>0.490270</td>\n",
       "      <td>-1.067219</td>\n",
       "      <td>-0.632035</td>\n",
       "      <td>-0.051657</td>\n",
       "    </tr>\n",
       "    <tr>\n",
       "      <th>1</th>\n",
       "      <td>1.481244</td>\n",
       "      <td>0.501948</td>\n",
       "      <td>-0.477719</td>\n",
       "      <td>-0.905576</td>\n",
       "      <td>0.632035</td>\n",
       "      <td>-0.464009</td>\n",
       "      <td>-0.345781</td>\n",
       "      <td>0.271071</td>\n",
       "      <td>0.334806</td>\n",
       "      <td>0.105356</td>\n",
       "      <td>-0.060477</td>\n",
       "      <td>0.259433</td>\n",
       "      <td>1.197644</td>\n",
       "      <td>0.490270</td>\n",
       "      <td>0.936859</td>\n",
       "      <td>-0.632035</td>\n",
       "      <td>-0.051657</td>\n",
       "    </tr>\n",
       "    <tr>\n",
       "      <th>2</th>\n",
       "      <td>-1.225580</td>\n",
       "      <td>-0.720956</td>\n",
       "      <td>-0.329624</td>\n",
       "      <td>1.087863</td>\n",
       "      <td>0.632035</td>\n",
       "      <td>-0.464009</td>\n",
       "      <td>-0.345781</td>\n",
       "      <td>-0.445069</td>\n",
       "      <td>0.014072</td>\n",
       "      <td>0.105356</td>\n",
       "      <td>-0.698647</td>\n",
       "      <td>-0.440709</td>\n",
       "      <td>-0.834834</td>\n",
       "      <td>0.490270</td>\n",
       "      <td>-1.067219</td>\n",
       "      <td>-0.632035</td>\n",
       "      <td>-0.051657</td>\n",
       "    </tr>\n",
       "    <tr>\n",
       "      <th>3</th>\n",
       "      <td>-1.225580</td>\n",
       "      <td>-0.415230</td>\n",
       "      <td>0.884753</td>\n",
       "      <td>-0.905576</td>\n",
       "      <td>0.632035</td>\n",
       "      <td>-0.464009</td>\n",
       "      <td>2.141936</td>\n",
       "      <td>-0.310793</td>\n",
       "      <td>0.574812</td>\n",
       "      <td>0.105356</td>\n",
       "      <td>-0.617001</td>\n",
       "      <td>-0.439589</td>\n",
       "      <td>-0.834834</td>\n",
       "      <td>-2.039354</td>\n",
       "      <td>0.936859</td>\n",
       "      <td>-0.632035</td>\n",
       "      <td>-0.051657</td>\n",
       "    </tr>\n",
       "    <tr>\n",
       "      <th>4</th>\n",
       "      <td>-0.887227</td>\n",
       "      <td>-0.109504</td>\n",
       "      <td>-0.487493</td>\n",
       "      <td>-0.905576</td>\n",
       "      <td>-1.581928</td>\n",
       "      <td>1.978335</td>\n",
       "      <td>-0.345781</td>\n",
       "      <td>0.740144</td>\n",
       "      <td>-0.640490</td>\n",
       "      <td>0.105356</td>\n",
       "      <td>0.582692</td>\n",
       "      <td>0.532022</td>\n",
       "      <td>-0.834834</td>\n",
       "      <td>0.490270</td>\n",
       "      <td>0.936859</td>\n",
       "      <td>1.581928</td>\n",
       "      <td>-0.051657</td>\n",
       "    </tr>\n",
       "  </tbody>\n",
       "</table>\n",
       "</div>"
      ],
      "text/plain": [
       "   Location      Year  Kilometers_Driven  Fuel_Type  Transmission  Owner_Type  \\\n",
       "0  1.142891 -1.026682           0.440469  -1.570056      0.632035   -0.464009   \n",
       "1  1.481244  0.501948          -0.477719  -0.905576      0.632035   -0.464009   \n",
       "2 -1.225580 -0.720956          -0.329624   1.087863      0.632035   -0.464009   \n",
       "3 -1.225580 -0.415230           0.884753  -0.905576      0.632035   -0.464009   \n",
       "4 -0.887227 -0.109504          -0.487493  -0.905576     -1.581928    1.978335   \n",
       "\n",
       "      Seats     Price  Mileage_value  Mileage_measure  Engine_value  \\\n",
       "0 -0.345781 -0.691242       1.846843        -9.490035     -1.033562   \n",
       "1 -0.345781  0.271071       0.334806         0.105356     -0.060477   \n",
       "2 -0.345781 -0.445069       0.014072         0.105356     -0.698647   \n",
       "3  2.141936 -0.310793       0.574812         0.105356     -0.617001   \n",
       "4 -0.345781  0.740144      -0.640490         0.105356      0.582692   \n",
       "\n",
       "   Power_value  is_after_2014  is_kilometers_driven_less_80k  is_diesel  \\\n",
       "0    -1.010905      -0.834834                       0.490270  -1.067219   \n",
       "1     0.259433       1.197644                       0.490270   0.936859   \n",
       "2    -0.440709      -0.834834                       0.490270  -1.067219   \n",
       "3    -0.439589      -0.834834                      -2.039354   0.936859   \n",
       "4     0.532022      -0.834834                       0.490270   0.936859   \n",
       "\n",
       "   is_automatic  is_2_seats  \n",
       "0     -0.632035   -0.051657  \n",
       "1     -0.632035   -0.051657  \n",
       "2     -0.632035   -0.051657  \n",
       "3     -0.632035   -0.051657  \n",
       "4      1.581928   -0.051657  "
      ]
     },
     "execution_count": 86,
     "metadata": {},
     "output_type": "execute_result"
    }
   ],
   "source": [
    "means = train.mean()\n",
    "stds = train.std()\n",
    "train = (train - means) / stds\n",
    "test = (test- means) / stds"
   ]
  },
  {
   "cell_type": "code",
   "execution_count": 87,
   "metadata": {},
   "outputs": [
    {
     "data": {
      "text/html": [
       "<div>\n",
       "<style scoped>\n",
       "    .dataframe tbody tr th:only-of-type {\n",
       "        vertical-align: middle;\n",
       "    }\n",
       "\n",
       "    .dataframe tbody tr th {\n",
       "        vertical-align: top;\n",
       "    }\n",
       "\n",
       "    .dataframe thead th {\n",
       "        text-align: right;\n",
       "    }\n",
       "</style>\n",
       "<table border=\"1\" class=\"dataframe\">\n",
       "  <thead>\n",
       "    <tr style=\"text-align: right;\">\n",
       "      <th></th>\n",
       "      <th>Location</th>\n",
       "      <th>Year</th>\n",
       "      <th>Kilometers_Driven</th>\n",
       "      <th>Fuel_Type</th>\n",
       "      <th>Transmission</th>\n",
       "      <th>Owner_Type</th>\n",
       "      <th>Seats</th>\n",
       "      <th>Price</th>\n",
       "      <th>Mileage_value</th>\n",
       "      <th>Mileage_measure</th>\n",
       "      <th>Engine_value</th>\n",
       "      <th>Power_value</th>\n",
       "      <th>is_after_2014</th>\n",
       "      <th>is_kilometers_driven_less_80k</th>\n",
       "      <th>is_diesel</th>\n",
       "      <th>is_automatic</th>\n",
       "      <th>is_2_seats</th>\n",
       "    </tr>\n",
       "  </thead>\n",
       "  <tbody>\n",
       "    <tr>\n",
       "      <th>0</th>\n",
       "      <td>1.142891</td>\n",
       "      <td>-1.026682</td>\n",
       "      <td>0.440469</td>\n",
       "      <td>-1.570056</td>\n",
       "      <td>0.632035</td>\n",
       "      <td>-0.464009</td>\n",
       "      <td>-0.345781</td>\n",
       "      <td>-0.691242</td>\n",
       "      <td>1.846843</td>\n",
       "      <td>-9.490035</td>\n",
       "      <td>-1.033562</td>\n",
       "      <td>-1.010905</td>\n",
       "      <td>-0.834834</td>\n",
       "      <td>0.490270</td>\n",
       "      <td>-1.067219</td>\n",
       "      <td>-0.632035</td>\n",
       "      <td>-0.051657</td>\n",
       "    </tr>\n",
       "    <tr>\n",
       "      <th>1</th>\n",
       "      <td>1.481244</td>\n",
       "      <td>0.501948</td>\n",
       "      <td>-0.477719</td>\n",
       "      <td>-0.905576</td>\n",
       "      <td>0.632035</td>\n",
       "      <td>-0.464009</td>\n",
       "      <td>-0.345781</td>\n",
       "      <td>0.271071</td>\n",
       "      <td>0.334806</td>\n",
       "      <td>0.105356</td>\n",
       "      <td>-0.060477</td>\n",
       "      <td>0.259433</td>\n",
       "      <td>1.197644</td>\n",
       "      <td>0.490270</td>\n",
       "      <td>0.936859</td>\n",
       "      <td>-0.632035</td>\n",
       "      <td>-0.051657</td>\n",
       "    </tr>\n",
       "    <tr>\n",
       "      <th>2</th>\n",
       "      <td>-1.225580</td>\n",
       "      <td>-0.720956</td>\n",
       "      <td>-0.329624</td>\n",
       "      <td>1.087863</td>\n",
       "      <td>0.632035</td>\n",
       "      <td>-0.464009</td>\n",
       "      <td>-0.345781</td>\n",
       "      <td>-0.445069</td>\n",
       "      <td>0.014072</td>\n",
       "      <td>0.105356</td>\n",
       "      <td>-0.698647</td>\n",
       "      <td>-0.440709</td>\n",
       "      <td>-0.834834</td>\n",
       "      <td>0.490270</td>\n",
       "      <td>-1.067219</td>\n",
       "      <td>-0.632035</td>\n",
       "      <td>-0.051657</td>\n",
       "    </tr>\n",
       "    <tr>\n",
       "      <th>3</th>\n",
       "      <td>-1.225580</td>\n",
       "      <td>-0.415230</td>\n",
       "      <td>0.884753</td>\n",
       "      <td>-0.905576</td>\n",
       "      <td>0.632035</td>\n",
       "      <td>-0.464009</td>\n",
       "      <td>2.141936</td>\n",
       "      <td>-0.310793</td>\n",
       "      <td>0.574812</td>\n",
       "      <td>0.105356</td>\n",
       "      <td>-0.617001</td>\n",
       "      <td>-0.439589</td>\n",
       "      <td>-0.834834</td>\n",
       "      <td>-2.039354</td>\n",
       "      <td>0.936859</td>\n",
       "      <td>-0.632035</td>\n",
       "      <td>-0.051657</td>\n",
       "    </tr>\n",
       "    <tr>\n",
       "      <th>4</th>\n",
       "      <td>-0.887227</td>\n",
       "      <td>-0.109504</td>\n",
       "      <td>-0.487493</td>\n",
       "      <td>-0.905576</td>\n",
       "      <td>-1.581928</td>\n",
       "      <td>1.978335</td>\n",
       "      <td>-0.345781</td>\n",
       "      <td>0.740144</td>\n",
       "      <td>-0.640490</td>\n",
       "      <td>0.105356</td>\n",
       "      <td>0.582692</td>\n",
       "      <td>0.532022</td>\n",
       "      <td>-0.834834</td>\n",
       "      <td>0.490270</td>\n",
       "      <td>0.936859</td>\n",
       "      <td>1.581928</td>\n",
       "      <td>-0.051657</td>\n",
       "    </tr>\n",
       "  </tbody>\n",
       "</table>\n",
       "</div>"
      ],
      "text/plain": [
       "   Location      Year  Kilometers_Driven  Fuel_Type  Transmission  Owner_Type  \\\n",
       "0  1.142891 -1.026682           0.440469  -1.570056      0.632035   -0.464009   \n",
       "1  1.481244  0.501948          -0.477719  -0.905576      0.632035   -0.464009   \n",
       "2 -1.225580 -0.720956          -0.329624   1.087863      0.632035   -0.464009   \n",
       "3 -1.225580 -0.415230           0.884753  -0.905576      0.632035   -0.464009   \n",
       "4 -0.887227 -0.109504          -0.487493  -0.905576     -1.581928    1.978335   \n",
       "\n",
       "      Seats     Price  Mileage_value  Mileage_measure  Engine_value  \\\n",
       "0 -0.345781 -0.691242       1.846843        -9.490035     -1.033562   \n",
       "1 -0.345781  0.271071       0.334806         0.105356     -0.060477   \n",
       "2 -0.345781 -0.445069       0.014072         0.105356     -0.698647   \n",
       "3  2.141936 -0.310793       0.574812         0.105356     -0.617001   \n",
       "4 -0.345781  0.740144      -0.640490         0.105356      0.582692   \n",
       "\n",
       "   Power_value  is_after_2014  is_kilometers_driven_less_80k  is_diesel  \\\n",
       "0    -1.010905      -0.834834                       0.490270  -1.067219   \n",
       "1     0.259433       1.197644                       0.490270   0.936859   \n",
       "2    -0.440709      -0.834834                       0.490270  -1.067219   \n",
       "3    -0.439589      -0.834834                      -2.039354   0.936859   \n",
       "4     0.532022      -0.834834                       0.490270   0.936859   \n",
       "\n",
       "   is_automatic  is_2_seats  \n",
       "0     -0.632035   -0.051657  \n",
       "1     -0.632035   -0.051657  \n",
       "2     -0.632035   -0.051657  \n",
       "3     -0.632035   -0.051657  \n",
       "4      1.581928   -0.051657  "
      ]
     },
     "execution_count": 87,
     "metadata": {},
     "output_type": "execute_result"
    }
   ],
   "source": [
    "train.head()"
   ]
  },
  {
   "cell_type": "code",
   "execution_count": 88,
   "metadata": {},
   "outputs": [
    {
     "data": {
      "text/html": [
       "<div>\n",
       "<style scoped>\n",
       "    .dataframe tbody tr th:only-of-type {\n",
       "        vertical-align: middle;\n",
       "    }\n",
       "\n",
       "    .dataframe tbody tr th {\n",
       "        vertical-align: top;\n",
       "    }\n",
       "\n",
       "    .dataframe thead th {\n",
       "        text-align: right;\n",
       "    }\n",
       "</style>\n",
       "<table border=\"1\" class=\"dataframe\">\n",
       "  <thead>\n",
       "    <tr style=\"text-align: right;\">\n",
       "      <th></th>\n",
       "      <th>Engine_value</th>\n",
       "      <th>Fuel_Type</th>\n",
       "      <th>Kilometers_Driven</th>\n",
       "      <th>Location</th>\n",
       "      <th>Mileage_measure</th>\n",
       "      <th>Mileage_value</th>\n",
       "      <th>Owner_Type</th>\n",
       "      <th>Power_value</th>\n",
       "      <th>Price</th>\n",
       "      <th>Seats</th>\n",
       "      <th>Transmission</th>\n",
       "      <th>Year</th>\n",
       "      <th>is_2_seats</th>\n",
       "      <th>is_after_2014</th>\n",
       "      <th>is_automatic</th>\n",
       "      <th>is_diesel</th>\n",
       "      <th>is_kilometers_driven_less_80k</th>\n",
       "    </tr>\n",
       "  </thead>\n",
       "  <tbody>\n",
       "    <tr>\n",
       "      <th>0</th>\n",
       "      <td>-1.033562</td>\n",
       "      <td>-1.570056</td>\n",
       "      <td>-0.479822</td>\n",
       "      <td>-0.548874</td>\n",
       "      <td>-9.490035</td>\n",
       "      <td>3.081781</td>\n",
       "      <td>-0.464009</td>\n",
       "      <td>-1.010158</td>\n",
       "      <td>NaN</td>\n",
       "      <td>-1.589639</td>\n",
       "      <td>0.632035</td>\n",
       "      <td>0.196222</td>\n",
       "      <td>-0.051657</td>\n",
       "      <td>-0.834834</td>\n",
       "      <td>-0.632035</td>\n",
       "      <td>-1.067219</td>\n",
       "      <td>0.490270</td>\n",
       "    </tr>\n",
       "    <tr>\n",
       "      <th>1</th>\n",
       "      <td>-1.370142</td>\n",
       "      <td>1.087863</td>\n",
       "      <td>-0.078070</td>\n",
       "      <td>-0.887227</td>\n",
       "      <td>0.105356</td>\n",
       "      <td>1.432288</td>\n",
       "      <td>1.978335</td>\n",
       "      <td>-1.213666</td>\n",
       "      <td>NaN</td>\n",
       "      <td>-0.345781</td>\n",
       "      <td>0.632035</td>\n",
       "      <td>-0.109504</td>\n",
       "      <td>-0.051657</td>\n",
       "      <td>-0.834834</td>\n",
       "      <td>-0.632035</td>\n",
       "      <td>-1.067219</td>\n",
       "      <td>0.490270</td>\n",
       "    </tr>\n",
       "    <tr>\n",
       "      <th>2</th>\n",
       "      <td>1.290845</td>\n",
       "      <td>-0.905576</td>\n",
       "      <td>-0.685051</td>\n",
       "      <td>1.142891</td>\n",
       "      <td>0.105356</td>\n",
       "      <td>-0.972134</td>\n",
       "      <td>-0.464009</td>\n",
       "      <td>0.662715</td>\n",
       "      <td>NaN</td>\n",
       "      <td>2.141936</td>\n",
       "      <td>0.632035</td>\n",
       "      <td>1.113400</td>\n",
       "      <td>-0.051657</td>\n",
       "      <td>1.197644</td>\n",
       "      <td>-0.632035</td>\n",
       "      <td>0.936859</td>\n",
       "      <td>0.490270</td>\n",
       "    </tr>\n",
       "    <tr>\n",
       "      <th>3</th>\n",
       "      <td>-0.423717</td>\n",
       "      <td>-0.905576</td>\n",
       "      <td>2.424939</td>\n",
       "      <td>-0.210521</td>\n",
       "      <td>0.105356</td>\n",
       "      <td>1.190100</td>\n",
       "      <td>-0.464009</td>\n",
       "      <td>-0.715165</td>\n",
       "      <td>NaN</td>\n",
       "      <td>-0.345781</td>\n",
       "      <td>0.632035</td>\n",
       "      <td>-0.415230</td>\n",
       "      <td>-0.051657</td>\n",
       "      <td>-0.834834</td>\n",
       "      <td>-0.632035</td>\n",
       "      <td>0.936859</td>\n",
       "      <td>-2.039354</td>\n",
       "    </tr>\n",
       "    <tr>\n",
       "      <th>4</th>\n",
       "      <td>-0.701980</td>\n",
       "      <td>1.087863</td>\n",
       "      <td>-0.833146</td>\n",
       "      <td>1.142891</td>\n",
       "      <td>0.105356</td>\n",
       "      <td>0.079528</td>\n",
       "      <td>-0.464009</td>\n",
       "      <td>-0.549931</td>\n",
       "      <td>NaN</td>\n",
       "      <td>-0.345781</td>\n",
       "      <td>0.632035</td>\n",
       "      <td>0.196222</td>\n",
       "      <td>-0.051657</td>\n",
       "      <td>-0.834834</td>\n",
       "      <td>-0.632035</td>\n",
       "      <td>-1.067219</td>\n",
       "      <td>0.490270</td>\n",
       "    </tr>\n",
       "  </tbody>\n",
       "</table>\n",
       "</div>"
      ],
      "text/plain": [
       "   Engine_value  Fuel_Type  Kilometers_Driven  Location  Mileage_measure  \\\n",
       "0     -1.033562  -1.570056          -0.479822 -0.548874        -9.490035   \n",
       "1     -1.370142   1.087863          -0.078070 -0.887227         0.105356   \n",
       "2      1.290845  -0.905576          -0.685051  1.142891         0.105356   \n",
       "3     -0.423717  -0.905576           2.424939 -0.210521         0.105356   \n",
       "4     -0.701980   1.087863          -0.833146  1.142891         0.105356   \n",
       "\n",
       "   Mileage_value  Owner_Type  Power_value  Price     Seats  Transmission  \\\n",
       "0       3.081781   -0.464009    -1.010158    NaN -1.589639      0.632035   \n",
       "1       1.432288    1.978335    -1.213666    NaN -0.345781      0.632035   \n",
       "2      -0.972134   -0.464009     0.662715    NaN  2.141936      0.632035   \n",
       "3       1.190100   -0.464009    -0.715165    NaN -0.345781      0.632035   \n",
       "4       0.079528   -0.464009    -0.549931    NaN -0.345781      0.632035   \n",
       "\n",
       "       Year  is_2_seats  is_after_2014  is_automatic  is_diesel  \\\n",
       "0  0.196222   -0.051657      -0.834834     -0.632035  -1.067219   \n",
       "1 -0.109504   -0.051657      -0.834834     -0.632035  -1.067219   \n",
       "2  1.113400   -0.051657       1.197644     -0.632035   0.936859   \n",
       "3 -0.415230   -0.051657      -0.834834     -0.632035   0.936859   \n",
       "4  0.196222   -0.051657      -0.834834     -0.632035  -1.067219   \n",
       "\n",
       "   is_kilometers_driven_less_80k  \n",
       "0                       0.490270  \n",
       "1                       0.490270  \n",
       "2                       0.490270  \n",
       "3                      -2.039354  \n",
       "4                       0.490270  "
      ]
     },
     "execution_count": 88,
     "metadata": {},
     "output_type": "execute_result"
    }
   ],
   "source": [
    "test.head()"
   ]
  },
  {
   "cell_type": "markdown",
   "metadata": {},
   "source": [
    "# Modelling "
   ]
  },
  {
   "cell_type": "code",
   "execution_count": null,
   "metadata": {},
   "outputs": [],
   "source": []
  }
 ],
 "metadata": {
  "kernelspec": {
   "display_name": "Python 3",
   "language": "python",
   "name": "python3"
  },
  "language_info": {
   "codemirror_mode": {
    "name": "ipython",
    "version": 3
   },
   "file_extension": ".py",
   "mimetype": "text/x-python",
   "name": "python",
   "nbconvert_exporter": "python",
   "pygments_lexer": "ipython3",
   "version": "3.8.3"
  }
 },
 "nbformat": 4,
 "nbformat_minor": 4
}
