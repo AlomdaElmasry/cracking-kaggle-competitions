{
 "cells": [
  {
   "cell_type": "code",
   "execution_count": 1,
   "metadata": {},
   "outputs": [],
   "source": [
    "import warnings \n",
    "import math\n",
    "import pandas as pd\n",
    "import numpy as np\n",
    "import matplotlib.pyplot as plt \n",
    "import seaborn as sns\n",
    "\n",
    "from sklearn.preprocessing import StandardScaler\n",
    "from sklearn.model_selection import train_test_split\n",
    "from sklearn.linear_model import LinearRegression\n",
    "from sklearn.tree import DecisionTreeRegressor\n",
    "from sklearn.ensemble import RandomForestRegressor\n",
    "import xgboost as xgb\n",
    "import torch \n",
    "import torch.nn as nn\n",
    "\n",
    "warnings.filterwarnings('ignore')\n",
    "pd.set_option('display.max_columns', None)\n",
    "%matplotlib inline"
   ]
  },
  {
   "cell_type": "code",
   "execution_count": 2,
   "metadata": {},
   "outputs": [
    {
     "name": "stdout",
     "output_type": "stream",
     "text": [
      "(6019, 14)\n",
      "<class 'pandas.core.frame.DataFrame'>\n",
      "RangeIndex: 6019 entries, 0 to 6018\n",
      "Data columns (total 14 columns):\n",
      " #   Column             Non-Null Count  Dtype  \n",
      "---  ------             --------------  -----  \n",
      " 0   Unnamed: 0         6019 non-null   int64  \n",
      " 1   Name               6019 non-null   object \n",
      " 2   Location           6019 non-null   object \n",
      " 3   Year               6019 non-null   int64  \n",
      " 4   Kilometers_Driven  6019 non-null   int64  \n",
      " 5   Fuel_Type          6019 non-null   object \n",
      " 6   Transmission       6019 non-null   object \n",
      " 7   Owner_Type         6019 non-null   object \n",
      " 8   Mileage            6017 non-null   object \n",
      " 9   Engine             5983 non-null   object \n",
      " 10  Power              5983 non-null   object \n",
      " 11  Seats              5977 non-null   float64\n",
      " 12  New_Price          824 non-null    object \n",
      " 13  Price              6019 non-null   float64\n",
      "dtypes: float64(2), int64(3), object(9)\n",
      "memory usage: 658.5+ KB\n",
      "None\n",
      "(1234, 13)\n",
      "<class 'pandas.core.frame.DataFrame'>\n",
      "RangeIndex: 1234 entries, 0 to 1233\n",
      "Data columns (total 13 columns):\n",
      " #   Column             Non-Null Count  Dtype  \n",
      "---  ------             --------------  -----  \n",
      " 0   Unnamed: 0         1234 non-null   int64  \n",
      " 1   Name               1234 non-null   object \n",
      " 2   Location           1234 non-null   object \n",
      " 3   Year               1234 non-null   int64  \n",
      " 4   Kilometers_Driven  1234 non-null   int64  \n",
      " 5   Fuel_Type          1234 non-null   object \n",
      " 6   Transmission       1234 non-null   object \n",
      " 7   Owner_Type         1234 non-null   object \n",
      " 8   Mileage            1234 non-null   object \n",
      " 9   Engine             1224 non-null   object \n",
      " 10  Power              1224 non-null   object \n",
      " 11  Seats              1223 non-null   float64\n",
      " 12  New_Price          182 non-null    object \n",
      "dtypes: float64(1), int64(3), object(9)\n",
      "memory usage: 125.5+ KB\n",
      "None\n"
     ]
    }
   ],
   "source": [
    "train = pd.read_csv('train-data.csv')\n",
    "test = pd.read_csv('test-data.csv')\n",
    "print(train.shape)\n",
    "print(train.info())\n",
    "print(test.shape)\n",
    "print(test.info())"
   ]
  },
  {
   "cell_type": "code",
   "execution_count": 3,
   "metadata": {},
   "outputs": [
    {
     "data": {
      "text/html": [
       "<div>\n",
       "<style scoped>\n",
       "    .dataframe tbody tr th:only-of-type {\n",
       "        vertical-align: middle;\n",
       "    }\n",
       "\n",
       "    .dataframe tbody tr th {\n",
       "        vertical-align: top;\n",
       "    }\n",
       "\n",
       "    .dataframe thead th {\n",
       "        text-align: right;\n",
       "    }\n",
       "</style>\n",
       "<table border=\"1\" class=\"dataframe\">\n",
       "  <thead>\n",
       "    <tr style=\"text-align: right;\">\n",
       "      <th></th>\n",
       "      <th>Unnamed: 0</th>\n",
       "      <th>Name</th>\n",
       "      <th>Location</th>\n",
       "      <th>Year</th>\n",
       "      <th>Kilometers_Driven</th>\n",
       "      <th>Fuel_Type</th>\n",
       "      <th>Transmission</th>\n",
       "      <th>Owner_Type</th>\n",
       "      <th>Mileage</th>\n",
       "      <th>Engine</th>\n",
       "      <th>Power</th>\n",
       "      <th>Seats</th>\n",
       "      <th>New_Price</th>\n",
       "      <th>Price</th>\n",
       "    </tr>\n",
       "  </thead>\n",
       "  <tbody>\n",
       "    <tr>\n",
       "      <th>0</th>\n",
       "      <td>0</td>\n",
       "      <td>Maruti Wagon R LXI CNG</td>\n",
       "      <td>Mumbai</td>\n",
       "      <td>2010</td>\n",
       "      <td>72000</td>\n",
       "      <td>CNG</td>\n",
       "      <td>Manual</td>\n",
       "      <td>First</td>\n",
       "      <td>26.6 km/kg</td>\n",
       "      <td>998 CC</td>\n",
       "      <td>58.16 bhp</td>\n",
       "      <td>5.0</td>\n",
       "      <td>NaN</td>\n",
       "      <td>1.75</td>\n",
       "    </tr>\n",
       "    <tr>\n",
       "      <th>1</th>\n",
       "      <td>1</td>\n",
       "      <td>Hyundai Creta 1.6 CRDi SX Option</td>\n",
       "      <td>Pune</td>\n",
       "      <td>2015</td>\n",
       "      <td>41000</td>\n",
       "      <td>Diesel</td>\n",
       "      <td>Manual</td>\n",
       "      <td>First</td>\n",
       "      <td>19.67 kmpl</td>\n",
       "      <td>1582 CC</td>\n",
       "      <td>126.2 bhp</td>\n",
       "      <td>5.0</td>\n",
       "      <td>NaN</td>\n",
       "      <td>12.50</td>\n",
       "    </tr>\n",
       "    <tr>\n",
       "      <th>2</th>\n",
       "      <td>2</td>\n",
       "      <td>Honda Jazz V</td>\n",
       "      <td>Chennai</td>\n",
       "      <td>2011</td>\n",
       "      <td>46000</td>\n",
       "      <td>Petrol</td>\n",
       "      <td>Manual</td>\n",
       "      <td>First</td>\n",
       "      <td>18.2 kmpl</td>\n",
       "      <td>1199 CC</td>\n",
       "      <td>88.7 bhp</td>\n",
       "      <td>5.0</td>\n",
       "      <td>8.61 Lakh</td>\n",
       "      <td>4.50</td>\n",
       "    </tr>\n",
       "    <tr>\n",
       "      <th>3</th>\n",
       "      <td>3</td>\n",
       "      <td>Maruti Ertiga VDI</td>\n",
       "      <td>Chennai</td>\n",
       "      <td>2012</td>\n",
       "      <td>87000</td>\n",
       "      <td>Diesel</td>\n",
       "      <td>Manual</td>\n",
       "      <td>First</td>\n",
       "      <td>20.77 kmpl</td>\n",
       "      <td>1248 CC</td>\n",
       "      <td>88.76 bhp</td>\n",
       "      <td>7.0</td>\n",
       "      <td>NaN</td>\n",
       "      <td>6.00</td>\n",
       "    </tr>\n",
       "    <tr>\n",
       "      <th>4</th>\n",
       "      <td>4</td>\n",
       "      <td>Audi A4 New 2.0 TDI Multitronic</td>\n",
       "      <td>Coimbatore</td>\n",
       "      <td>2013</td>\n",
       "      <td>40670</td>\n",
       "      <td>Diesel</td>\n",
       "      <td>Automatic</td>\n",
       "      <td>Second</td>\n",
       "      <td>15.2 kmpl</td>\n",
       "      <td>1968 CC</td>\n",
       "      <td>140.8 bhp</td>\n",
       "      <td>5.0</td>\n",
       "      <td>NaN</td>\n",
       "      <td>17.74</td>\n",
       "    </tr>\n",
       "  </tbody>\n",
       "</table>\n",
       "</div>"
      ],
      "text/plain": [
       "   Unnamed: 0                              Name    Location  Year  \\\n",
       "0           0            Maruti Wagon R LXI CNG      Mumbai  2010   \n",
       "1           1  Hyundai Creta 1.6 CRDi SX Option        Pune  2015   \n",
       "2           2                      Honda Jazz V     Chennai  2011   \n",
       "3           3                 Maruti Ertiga VDI     Chennai  2012   \n",
       "4           4   Audi A4 New 2.0 TDI Multitronic  Coimbatore  2013   \n",
       "\n",
       "   Kilometers_Driven Fuel_Type Transmission Owner_Type     Mileage   Engine  \\\n",
       "0              72000       CNG       Manual      First  26.6 km/kg   998 CC   \n",
       "1              41000    Diesel       Manual      First  19.67 kmpl  1582 CC   \n",
       "2              46000    Petrol       Manual      First   18.2 kmpl  1199 CC   \n",
       "3              87000    Diesel       Manual      First  20.77 kmpl  1248 CC   \n",
       "4              40670    Diesel    Automatic     Second   15.2 kmpl  1968 CC   \n",
       "\n",
       "       Power  Seats  New_Price  Price  \n",
       "0  58.16 bhp    5.0        NaN   1.75  \n",
       "1  126.2 bhp    5.0        NaN  12.50  \n",
       "2   88.7 bhp    5.0  8.61 Lakh   4.50  \n",
       "3  88.76 bhp    7.0        NaN   6.00  \n",
       "4  140.8 bhp    5.0        NaN  17.74  "
      ]
     },
     "execution_count": 3,
     "metadata": {},
     "output_type": "execute_result"
    }
   ],
   "source": [
    "train.head()"
   ]
  },
  {
   "cell_type": "code",
   "execution_count": 4,
   "metadata": {},
   "outputs": [
    {
     "data": {
      "text/html": [
       "<div>\n",
       "<style scoped>\n",
       "    .dataframe tbody tr th:only-of-type {\n",
       "        vertical-align: middle;\n",
       "    }\n",
       "\n",
       "    .dataframe tbody tr th {\n",
       "        vertical-align: top;\n",
       "    }\n",
       "\n",
       "    .dataframe thead th {\n",
       "        text-align: right;\n",
       "    }\n",
       "</style>\n",
       "<table border=\"1\" class=\"dataframe\">\n",
       "  <thead>\n",
       "    <tr style=\"text-align: right;\">\n",
       "      <th></th>\n",
       "      <th>Unnamed: 0</th>\n",
       "      <th>Name</th>\n",
       "      <th>Location</th>\n",
       "      <th>Year</th>\n",
       "      <th>Kilometers_Driven</th>\n",
       "      <th>Fuel_Type</th>\n",
       "      <th>Transmission</th>\n",
       "      <th>Owner_Type</th>\n",
       "      <th>Mileage</th>\n",
       "      <th>Engine</th>\n",
       "      <th>Power</th>\n",
       "      <th>Seats</th>\n",
       "      <th>New_Price</th>\n",
       "    </tr>\n",
       "  </thead>\n",
       "  <tbody>\n",
       "    <tr>\n",
       "      <th>0</th>\n",
       "      <td>0</td>\n",
       "      <td>Maruti Alto K10 LXI CNG</td>\n",
       "      <td>Delhi</td>\n",
       "      <td>2014</td>\n",
       "      <td>40929</td>\n",
       "      <td>CNG</td>\n",
       "      <td>Manual</td>\n",
       "      <td>First</td>\n",
       "      <td>32.26 km/kg</td>\n",
       "      <td>998 CC</td>\n",
       "      <td>58.2 bhp</td>\n",
       "      <td>4.0</td>\n",
       "      <td>NaN</td>\n",
       "    </tr>\n",
       "    <tr>\n",
       "      <th>1</th>\n",
       "      <td>1</td>\n",
       "      <td>Maruti Alto 800 2016-2019 LXI</td>\n",
       "      <td>Coimbatore</td>\n",
       "      <td>2013</td>\n",
       "      <td>54493</td>\n",
       "      <td>Petrol</td>\n",
       "      <td>Manual</td>\n",
       "      <td>Second</td>\n",
       "      <td>24.7 kmpl</td>\n",
       "      <td>796 CC</td>\n",
       "      <td>47.3 bhp</td>\n",
       "      <td>5.0</td>\n",
       "      <td>NaN</td>\n",
       "    </tr>\n",
       "    <tr>\n",
       "      <th>2</th>\n",
       "      <td>2</td>\n",
       "      <td>Toyota Innova Crysta Touring Sport 2.4 MT</td>\n",
       "      <td>Mumbai</td>\n",
       "      <td>2017</td>\n",
       "      <td>34000</td>\n",
       "      <td>Diesel</td>\n",
       "      <td>Manual</td>\n",
       "      <td>First</td>\n",
       "      <td>13.68 kmpl</td>\n",
       "      <td>2393 CC</td>\n",
       "      <td>147.8 bhp</td>\n",
       "      <td>7.0</td>\n",
       "      <td>25.27 Lakh</td>\n",
       "    </tr>\n",
       "    <tr>\n",
       "      <th>3</th>\n",
       "      <td>3</td>\n",
       "      <td>Toyota Etios Liva GD</td>\n",
       "      <td>Hyderabad</td>\n",
       "      <td>2012</td>\n",
       "      <td>139000</td>\n",
       "      <td>Diesel</td>\n",
       "      <td>Manual</td>\n",
       "      <td>First</td>\n",
       "      <td>23.59 kmpl</td>\n",
       "      <td>1364 CC</td>\n",
       "      <td>null bhp</td>\n",
       "      <td>5.0</td>\n",
       "      <td>NaN</td>\n",
       "    </tr>\n",
       "    <tr>\n",
       "      <th>4</th>\n",
       "      <td>4</td>\n",
       "      <td>Hyundai i20 Magna</td>\n",
       "      <td>Mumbai</td>\n",
       "      <td>2014</td>\n",
       "      <td>29000</td>\n",
       "      <td>Petrol</td>\n",
       "      <td>Manual</td>\n",
       "      <td>First</td>\n",
       "      <td>18.5 kmpl</td>\n",
       "      <td>1197 CC</td>\n",
       "      <td>82.85 bhp</td>\n",
       "      <td>5.0</td>\n",
       "      <td>NaN</td>\n",
       "    </tr>\n",
       "  </tbody>\n",
       "</table>\n",
       "</div>"
      ],
      "text/plain": [
       "   Unnamed: 0                                       Name    Location  Year  \\\n",
       "0           0                    Maruti Alto K10 LXI CNG       Delhi  2014   \n",
       "1           1              Maruti Alto 800 2016-2019 LXI  Coimbatore  2013   \n",
       "2           2  Toyota Innova Crysta Touring Sport 2.4 MT      Mumbai  2017   \n",
       "3           3                       Toyota Etios Liva GD   Hyderabad  2012   \n",
       "4           4                          Hyundai i20 Magna      Mumbai  2014   \n",
       "\n",
       "   Kilometers_Driven Fuel_Type Transmission Owner_Type      Mileage   Engine  \\\n",
       "0              40929       CNG       Manual      First  32.26 km/kg   998 CC   \n",
       "1              54493    Petrol       Manual     Second    24.7 kmpl   796 CC   \n",
       "2              34000    Diesel       Manual      First   13.68 kmpl  2393 CC   \n",
       "3             139000    Diesel       Manual      First   23.59 kmpl  1364 CC   \n",
       "4              29000    Petrol       Manual      First    18.5 kmpl  1197 CC   \n",
       "\n",
       "       Power  Seats   New_Price  \n",
       "0   58.2 bhp    4.0         NaN  \n",
       "1   47.3 bhp    5.0         NaN  \n",
       "2  147.8 bhp    7.0  25.27 Lakh  \n",
       "3   null bhp    5.0         NaN  \n",
       "4  82.85 bhp    5.0         NaN  "
      ]
     },
     "execution_count": 4,
     "metadata": {},
     "output_type": "execute_result"
    }
   ],
   "source": [
    "test.head()"
   ]
  },
  {
   "cell_type": "code",
   "execution_count": 5,
   "metadata": {},
   "outputs": [
    {
     "name": "stdout",
     "output_type": "stream",
     "text": [
      "(6019, 14) (1234, 13)\n",
      "(6019, 13) (1234, 12)\n"
     ]
    }
   ],
   "source": [
    "print(train.shape, test.shape)\n",
    "train.drop('New_Price', axis=1, inplace=True)\n",
    "test.drop('New_Price', axis=1, inplace=True)\n",
    "print(train.shape, test.shape)"
   ]
  },
  {
   "cell_type": "markdown",
   "metadata": {},
   "source": [
    "# Data Cleaning and Feature Engineering"
   ]
  },
  {
   "cell_type": "code",
   "execution_count": 6,
   "metadata": {},
   "outputs": [
    {
     "name": "stdout",
     "output_type": "stream",
     "text": [
      "Unnamed: 0            0\n",
      "Name                  0\n",
      "Location              0\n",
      "Year                  0\n",
      "Kilometers_Driven     0\n",
      "Fuel_Type             0\n",
      "Transmission          0\n",
      "Owner_Type            0\n",
      "Mileage               2\n",
      "Engine               36\n",
      "Power                36\n",
      "Seats                42\n",
      "Price                 0\n",
      "dtype: int64\n",
      "------------------------\n",
      "Unnamed: 0            0\n",
      "Name                  0\n",
      "Location              0\n",
      "Year                  0\n",
      "Kilometers_Driven     0\n",
      "Fuel_Type             0\n",
      "Transmission          0\n",
      "Owner_Type            0\n",
      "Mileage               0\n",
      "Engine               10\n",
      "Power                10\n",
      "Seats                11\n",
      "dtype: int64\n"
     ]
    }
   ],
   "source": [
    "print(train.isnull().sum())\n",
    "print(\"------------------------\")\n",
    "print(test.isnull().sum())"
   ]
  },
  {
   "cell_type": "markdown",
   "metadata": {},
   "source": [
    "## Unnamed"
   ]
  },
  {
   "cell_type": "code",
   "execution_count": 7,
   "metadata": {},
   "outputs": [
    {
     "name": "stdout",
     "output_type": "stream",
     "text": [
      "2047    1\n",
      "2720    1\n",
      "2708    1\n",
      "661     1\n",
      "4759    1\n",
      "       ..\n",
      "5436    1\n",
      "1342    1\n",
      "3391    1\n",
      "5440    1\n",
      "0       1\n",
      "Name: Unnamed: 0, Length: 6019, dtype: int64\n"
     ]
    }
   ],
   "source": [
    "print(train['Unnamed: 0'].value_counts())"
   ]
  },
  {
   "cell_type": "code",
   "execution_count": 8,
   "metadata": {},
   "outputs": [],
   "source": [
    "unnamed_train = list(train['Unnamed: 0'].unique())\n",
    "unnamed_test = list(test['Unnamed: 0'].unique())\n",
    "for i in unnamed_test:\n",
    "    if i not in unnamed_train:\n",
    "        print(i)"
   ]
  },
  {
   "cell_type": "markdown",
   "metadata": {},
   "source": [
    "## Name"
   ]
  },
  {
   "cell_type": "code",
   "execution_count": 9,
   "metadata": {},
   "outputs": [
    {
     "name": "stdout",
     "output_type": "stream",
     "text": [
      "Mahindra XUV500 W8 2WD          49\n",
      "Maruti Swift VDI                45\n",
      "Honda City 1.5 S MT             34\n",
      "Maruti Swift Dzire VDI          34\n",
      "Maruti Swift VDI BSIV           31\n",
      "                                ..\n",
      "BMW X3 xDrive 20d Expedition     1\n",
      "Maruti Wagon R Duo Lxi           1\n",
      "BMW 3 Series 328i Sport Line     1\n",
      "Audi A4 2.0 TFSI                 1\n",
      "Maruti Wagon R Duo LX BSIII      1\n",
      "Name: Name, Length: 1876, dtype: int64\n",
      "2047    1\n",
      "2720    1\n",
      "2708    1\n",
      "661     1\n",
      "4759    1\n",
      "       ..\n",
      "5436    1\n",
      "1342    1\n",
      "3391    1\n",
      "5440    1\n",
      "0       1\n",
      "Name: Unnamed: 0, Length: 6019, dtype: int64\n"
     ]
    }
   ],
   "source": [
    "print(train['Name'].value_counts())\n",
    "print(train['Unnamed: 0'].value_counts())"
   ]
  },
  {
   "cell_type": "code",
   "execution_count": 10,
   "metadata": {},
   "outputs": [
    {
     "name": "stdout",
     "output_type": "stream",
     "text": [
      "Maruti Alto LXi                     9\n",
      "Honda City 1.5 V MT                 8\n",
      "Volkswagen Polo 1.2 MPI Highline    8\n",
      "Maruti Swift Dzire VDI              8\n",
      "Maruti Wagon R LXI                  7\n",
      "                                   ..\n",
      "Renault Duster 85PS Diesel RxZ      1\n",
      "Nissan Terrano XE 85 PS             1\n",
      "Tata Indigo eCS eLX BS IV           1\n",
      "Tata Nano Cx BSIV                   1\n",
      "Honda Amaze S AT i-Vtech            1\n",
      "Name: Name, Length: 768, dtype: int64\n"
     ]
    }
   ],
   "source": [
    "print(test['Name'].value_counts())"
   ]
  },
  {
   "cell_type": "code",
   "execution_count": 11,
   "metadata": {},
   "outputs": [
    {
     "name": "stdout",
     "output_type": "stream",
     "text": [
      "Toyota Innova Crysta Touring Sport 2.4 MT\n",
      "Maruti Swift AMT ZXI\n",
      "Skoda Laura 1.8 TSI Ambition\n",
      "Honda Civic 2010-2013 1.8 S MT Inspire\n",
      "Toyota Etios Liva 1.4 VXD\n",
      "Maruti Celerio X VXI Option\n",
      "Chevrolet Sail Hatchback 1.2\n",
      "Mahindra Scorpio VLX Special Edition BS-IV\n",
      "Tata Tiago AMT 1.2 Revotron XTA\n",
      "Maruti Ciaz VXi\n",
      "Nissan Teana XL\n",
      "Tata Manza Club Class Safire90 LX\n",
      "Ford Fiesta Classic 1.6 SXI Duratec\n",
      "Mercedes-Benz B Class B180 Sports\n",
      "Nissan Micra XL CVT\n",
      "Tata Indica V2 DiCOR DLG BS-III\n",
      "Tata Indica Vista Quadrajet LX\n",
      "Audi Q3 30 TDI S Edition\n",
      "Honda BRV i-DTEC V MT\n",
      "BMW 3 Series GT 320d Sport Line\n",
      "Toyota Etios Liva VD\n",
      "Datsun GO T Petrol\n",
      "Maruti A-Star Zxi\n",
      "Mahindra KUV 100 mFALCON G80 K4 5str\n",
      "Ford Fiesta 1.4 SXI Duratorq\n",
      "Fiat Avventura FIRE Dynamic\n",
      "Honda CR-V Diesel\n",
      "Mahindra Xylo E9\n",
      "Hyundai Creta 1.6 SX Automatic\n",
      "Honda Mobilio V i VTEC\n",
      "Tata Indica Vista Aqua TDI BSIII\n",
      "Skoda Laura 1.9 TDI MT Elegance\n",
      "Honda City ZX VTEC Plus\n",
      "BMW 7 Series 730Ld DPE Signature\n",
      "Hindustan Motors Contessa 2.0 DSL\n",
      "Fiat Linea Dynamic\n",
      "Tata Sumo EX 10/7 Str BSII\n",
      "Fiat Grande Punto 1.2 Emotion\n",
      "Toyota Etios Cross 1.2L G\n",
      "Mahindra Thar 4X4\n",
      "Hyundai i20 Active SX Diesel\n",
      "Honda BR-V i-DTEC S MT\n",
      "Toyota Camry MT with Moonroof\n",
      "Mahindra Verito Vibe 1.5 dCi D6\n",
      "Volkswagen Jetta 2007-2011 1.6 Trendline\n",
      "Mahindra KUV 100 mFALCON D75 K2\n",
      "Bentley Flying Spur W12\n",
      "Tata Tigor 1.2 Revotron XZ Option\n",
      "Honda Accord 2001-2003 2.3 VTI L MT\n",
      "Land Rover Freelander 2 S Business Edition\n",
      "Ford Endeavour 3.0L AT 4x2\n",
      "Hyundai Santro Xing GLS CNG\n",
      "Toyota Land Cruiser Prado VX L\n",
      "Hyundai Tucson 2.0 e-VGT 4WD AT GLS\n",
      "Toyota Innova 2.5 GX 8 STR\n",
      "Maruti Wagon R VXI AMT Opt\n",
      "Skoda Laura L and K MT\n",
      "Land Rover Range Rover HSE\n",
      "Volkswagen Polo ALLSTAR 1.2 MPI\n",
      "Land Rover Discovery 4 SDV6 SE\n",
      "Honda City i DTec VX Option BL\n",
      "Hyundai Santro LS zipDrive Euro I\n",
      "Mitsubishi Pajero Sport 4X2 AT\n",
      "Hyundai Creta 1.6 SX Diesel\n",
      "Isuzu MU 7 4x2 HIPACK\n",
      "Hyundai Elantra GT\n",
      "Mercedes-Benz B Class B180 Sport\n",
      "Mahindra Bolero SLX\n",
      "Hyundai Xcent 1.2 CRDi SX\n",
      "BMW 5 Series 530i Sport Line\n",
      "Honda Jazz VX CVT\n",
      "Tata Indica Vista Aqua 1.2 Safire\n",
      "Toyota Etios Liva Diesel TRD Sportivo\n",
      "Skoda Rapid Ultima 1.6 TDI Ambition Plus\n",
      "Maruti SX4 ZXI AT\n",
      "Hyundai i20 new Sportz AT 1.4\n",
      "Mahindra Scorpio SLX 2.6 Turbo 8 Str\n",
      "BMW X3 2.5si\n",
      "Hyundai EON 1.0 Kappa Magna Plus\n",
      "Chevrolet Enjoy 1.3 TCDi LTZ 7\n",
      "Hyundai Verna 1.4 CX\n",
      "Mahindra KUV 100 D75 K8 5Str\n",
      "Hyundai EON 1.0 Era Plus\n",
      "Toyota Innova 2.0 V\n",
      "Mahindra Xylo H9\n",
      "Mahindra TUV 300 P4\n",
      "Maruti Ritz VDi ABS\n",
      "Volvo S60 D5 Kinetic\n",
      "Chevrolet Enjoy TCDi LS 7 Seater\n",
      "Mahindra Scorpio S10 8 Seater\n",
      "Renault Pulse RxZ\n",
      "Honda WRV i-DTEC VX\n",
      "Hyundai Accent GLX\n",
      "Mahindra KUV 100 G80 K4 Plus 5Str\n",
      "Tata Indica Vista Terra 1.2 Safire BS IV\n",
      "Volkswagen Vento 1.5 TDI Highline Plus\n",
      "Volkswagen CrossPolo 1.2 TDI\n",
      "Ford Ikon 1.4 ZXi\n",
      "Hyundai Verna Transform SX VGT CRDi BS III\n",
      "Volkswagen Vento 1.5 TDI Highline Plus AT\n",
      "Maruti 800 DX\n",
      "Maruti Ertiga VXI Petrol\n",
      "Fiat Avventura Urban Cross 1.3 Multijet Emotion\n",
      "Skoda Octavia 2.0 TDI MT Style\n",
      "Renault Duster 85PS Diesel RxZ\n",
      "Jaguar XF 2.0 Petrol Portfolio\n",
      "Honda Civic 2010-2013 1.8 V AT\n",
      "Hyundai Elantra SX AT\n",
      "Nissan 370Z AT\n",
      "Ford Classic 1.4 Duratorq CLXI\n",
      "Renault Koleos 4X2 MT\n",
      "Honda Amaze E i-DTEC\n",
      "Maruti Ciaz VDi Option SHVS\n",
      "Tata Indica Vista Terra Quadrajet 1.3L BS IV\n",
      "Mercedes-Benz GLA Class 220 d 4MATIC\n",
      "Mahindra Bolero Power Plus ZLX\n",
      "Fiat Linea Classic 1.3 Multijet\n",
      "Mahindra Scorpio VLS 2.2 mHawk\n",
      "Ford Freestyle Titanium Plus Diesel\n",
      "Maruti Swift VVT ZXI\n",
      "Fiat Punto EVO 1.3 Emotion\n",
      "Fiat Abarth 595 Competizione\n",
      "Hyundai Accent Executive LPG\n",
      "Honda BR-V i-VTEC VX MT\n",
      "Volkswagen Vento 1.6 Trendline\n",
      "Maruti Versa DX2\n",
      "Hyundai Sonata Embera 2.4L MT\n",
      "Honda Amaze VX CVT i-VTEC\n",
      "Honda Jazz 2020 Petrol\n",
      "Hyundai i20 1.4 Asta AT (O) with Sunroof\n",
      "Renault Lodgy 110PS RxL\n",
      "Mercedes-Benz E-Class 250 D W 124\n",
      "Toyota Innova 2.5 LE 2014 Diesel 8 Seater\n",
      "Mercedes-Benz E-Class E240 V6 AT\n",
      "Nissan Terrano XE 85 PS\n",
      "Mahindra TUV 300 2015-2019 T8 AMT\n",
      "Hyundai i20 2015-2017 1.4 CRDi Sportz\n",
      "Hyundai Creta 1.6 VTVT Base\n",
      "Maruti Ignis 1.2 AMT Delta\n",
      "Ford Fiesta Classic 1.6 Duratec LXI\n",
      "Toyota Corolla Altis GL\n",
      "OpelCorsa 1.4Gsi\n",
      "Volkswagen Vento 1.2 TSI Comfortline AT\n",
      "Hyundai Santro Xing XG AT eRLX Euro III\n",
      "Mahindra KUV 100 mFALCON D75 K6 5str AW\n",
      "Mahindra Scorpio VLX 2WD BSIII\n",
      "Chevrolet Enjoy Petrol LTZ 7 Seater\n",
      "Hyundai i20 2015-2017 Magna Optional 1.4 CRDi\n",
      "Mercedes-Benz CLA 45 AMG\n",
      "Audi Q5 2008-2012 3.0 TDI Quattro\n",
      "Chevrolet Spark 1.0 PS\n",
      "Chevrolet Enjoy 1.4 LTZ 8\n",
      "Maruti Vitara Brezza ZDi AMT\n",
      "Mercedes-Benz A Class Edition 1\n",
      "BMW 7 Series 740i Sedan\n",
      "Mercedes-Benz S Class 2005 2013 320 L\n",
      "Maruti Alto XCITE\n",
      "Land Rover Discovery 4 TDV6 Auto Diesel\n",
      "Hyundai Verna Transform VTVT with Audio\n",
      "Maruti Vitara Brezza ZDi Plus AMT\n",
      "Skoda Superb Petrol Ambition\n",
      "Tata Tiago 1.05 Revotorq XT Option\n",
      "Ford EcoSport 1.5 Petrol Ambiente\n",
      "Jeep Compass 1.4 Sport\n",
      "Hyundai Elite i20 Magna Plus\n"
     ]
    }
   ],
   "source": [
    "car_names_train = list(train['Name'].unique())\n",
    "car_names_test = list(test['Name'].unique())\n",
    "for i in car_names_test:\n",
    "    if i not in car_names_train:\n",
    "        print(i)"
   ]
  },
  {
   "cell_type": "markdown",
   "metadata": {},
   "source": [
    "We can not handle all of these values, we have to drop the name column"
   ]
  },
  {
   "cell_type": "code",
   "execution_count": 12,
   "metadata": {},
   "outputs": [
    {
     "name": "stdout",
     "output_type": "stream",
     "text": [
      "(6019, 13) (1234, 12)\n",
      "(6019, 12) (1234, 11)\n"
     ]
    }
   ],
   "source": [
    "print(train.shape, test.shape)\n",
    "train.drop('Name', axis=1, inplace=True)\n",
    "test.drop('Name', axis=1, inplace=True)\n",
    "print(train.shape, test.shape)"
   ]
  },
  {
   "cell_type": "markdown",
   "metadata": {},
   "source": [
    "## Location"
   ]
  },
  {
   "cell_type": "code",
   "execution_count": 13,
   "metadata": {},
   "outputs": [
    {
     "data": {
      "text/plain": [
       "0         Mumbai\n",
       "1           Pune\n",
       "2        Chennai\n",
       "3        Chennai\n",
       "4     Coimbatore\n",
       "5      Hyderabad\n",
       "6         Jaipur\n",
       "7         Mumbai\n",
       "8           Pune\n",
       "9        Chennai\n",
       "10         Kochi\n",
       "11       Kolkata\n",
       "12        Jaipur\n",
       "13         Delhi\n",
       "14          Pune\n",
       "15         Delhi\n",
       "16         Kochi\n",
       "17        Jaipur\n",
       "18         Kochi\n",
       "19     Bangalore\n",
       "Name: Location, dtype: object"
      ]
     },
     "execution_count": 13,
     "metadata": {},
     "output_type": "execute_result"
    }
   ],
   "source": [
    "train['Location'][:20]"
   ]
  },
  {
   "cell_type": "code",
   "execution_count": 14,
   "metadata": {},
   "outputs": [
    {
     "data": {
      "text/plain": [
       "Mumbai        790\n",
       "Hyderabad     742\n",
       "Kochi         651\n",
       "Coimbatore    636\n",
       "Pune          622\n",
       "Delhi         554\n",
       "Kolkata       535\n",
       "Chennai       494\n",
       "Jaipur        413\n",
       "Bangalore     358\n",
       "Ahmedabad     224\n",
       "Name: Location, dtype: int64"
      ]
     },
     "execution_count": 14,
     "metadata": {},
     "output_type": "execute_result"
    }
   ],
   "source": [
    "train['Location'].value_counts()"
   ]
  },
  {
   "cell_type": "code",
   "execution_count": 15,
   "metadata": {},
   "outputs": [
    {
     "data": {
      "text/plain": [
       "Mumbai        159\n",
       "Pune          143\n",
       "Coimbatore    136\n",
       "Hyderabad     134\n",
       "Kochi         121\n",
       "Kolkata       119\n",
       "Delhi         106\n",
       "Chennai        97\n",
       "Jaipur         86\n",
       "Bangalore      82\n",
       "Ahmedabad      51\n",
       "Name: Location, dtype: int64"
      ]
     },
     "execution_count": 15,
     "metadata": {},
     "output_type": "execute_result"
    }
   ],
   "source": [
    "test['Location'].value_counts()"
   ]
  },
  {
   "cell_type": "markdown",
   "metadata": {},
   "source": [
    "## Fuel Type"
   ]
  },
  {
   "cell_type": "code",
   "execution_count": 16,
   "metadata": {},
   "outputs": [
    {
     "data": {
      "text/plain": [
       "0        CNG\n",
       "1     Diesel\n",
       "2     Petrol\n",
       "3     Diesel\n",
       "4     Diesel\n",
       "5        LPG\n",
       "6     Diesel\n",
       "7     Diesel\n",
       "8     Diesel\n",
       "9     Diesel\n",
       "10    Petrol\n",
       "11    Petrol\n",
       "12    Diesel\n",
       "13    Diesel\n",
       "14    Diesel\n",
       "15    Diesel\n",
       "16    Diesel\n",
       "17    Diesel\n",
       "18    Diesel\n",
       "19    Diesel\n",
       "Name: Fuel_Type, dtype: object"
      ]
     },
     "execution_count": 16,
     "metadata": {},
     "output_type": "execute_result"
    }
   ],
   "source": [
    "train['Fuel_Type'][:20]"
   ]
  },
  {
   "cell_type": "code",
   "execution_count": 17,
   "metadata": {},
   "outputs": [
    {
     "data": {
      "text/plain": [
       "Diesel      3205\n",
       "Petrol      2746\n",
       "CNG           56\n",
       "LPG           10\n",
       "Electric       2\n",
       "Name: Fuel_Type, dtype: int64"
      ]
     },
     "execution_count": 17,
     "metadata": {},
     "output_type": "execute_result"
    }
   ],
   "source": [
    "train['Fuel_Type'].value_counts()"
   ]
  },
  {
   "cell_type": "code",
   "execution_count": 18,
   "metadata": {},
   "outputs": [
    {
     "data": {
      "text/plain": [
       "Diesel    647\n",
       "Petrol    579\n",
       "CNG         6\n",
       "LPG         2\n",
       "Name: Fuel_Type, dtype: int64"
      ]
     },
     "execution_count": 18,
     "metadata": {},
     "output_type": "execute_result"
    }
   ],
   "source": [
    "test['Fuel_Type'].value_counts()"
   ]
  },
  {
   "cell_type": "markdown",
   "metadata": {},
   "source": [
    "## Transmission"
   ]
  },
  {
   "cell_type": "code",
   "execution_count": 19,
   "metadata": {},
   "outputs": [
    {
     "data": {
      "text/plain": [
       "0        Manual\n",
       "1        Manual\n",
       "2        Manual\n",
       "3        Manual\n",
       "4     Automatic\n",
       "5        Manual\n",
       "6        Manual\n",
       "7     Automatic\n",
       "8        Manual\n",
       "9        Manual\n",
       "10       Manual\n",
       "11    Automatic\n",
       "12       Manual\n",
       "13    Automatic\n",
       "14    Automatic\n",
       "15       Manual\n",
       "16       Manual\n",
       "17       Manual\n",
       "18       Manual\n",
       "19    Automatic\n",
       "Name: Transmission, dtype: object"
      ]
     },
     "execution_count": 19,
     "metadata": {},
     "output_type": "execute_result"
    }
   ],
   "source": [
    "train['Transmission'][:20]"
   ]
  },
  {
   "cell_type": "code",
   "execution_count": 20,
   "metadata": {},
   "outputs": [
    {
     "data": {
      "text/plain": [
       "Manual       4299\n",
       "Automatic    1720\n",
       "Name: Transmission, dtype: int64"
      ]
     },
     "execution_count": 20,
     "metadata": {},
     "output_type": "execute_result"
    }
   ],
   "source": [
    "train['Transmission'].value_counts()"
   ]
  },
  {
   "cell_type": "code",
   "execution_count": 21,
   "metadata": {},
   "outputs": [
    {
     "data": {
      "text/plain": [
       "Manual       905\n",
       "Automatic    329\n",
       "Name: Transmission, dtype: int64"
      ]
     },
     "execution_count": 21,
     "metadata": {},
     "output_type": "execute_result"
    }
   ],
   "source": [
    "test['Transmission'].value_counts()"
   ]
  },
  {
   "cell_type": "markdown",
   "metadata": {},
   "source": [
    "## Owner_Type"
   ]
  },
  {
   "cell_type": "code",
   "execution_count": 22,
   "metadata": {},
   "outputs": [
    {
     "data": {
      "text/plain": [
       "0      First\n",
       "1      First\n",
       "2      First\n",
       "3      First\n",
       "4     Second\n",
       "5      First\n",
       "6      First\n",
       "7      First\n",
       "8      First\n",
       "9     Second\n",
       "10     First\n",
       "11     First\n",
       "12     First\n",
       "13     First\n",
       "14    Second\n",
       "15     First\n",
       "16     First\n",
       "17     First\n",
       "18     First\n",
       "19     First\n",
       "Name: Owner_Type, dtype: object"
      ]
     },
     "execution_count": 22,
     "metadata": {},
     "output_type": "execute_result"
    }
   ],
   "source": [
    "train['Owner_Type'][:20]"
   ]
  },
  {
   "cell_type": "code",
   "execution_count": 23,
   "metadata": {},
   "outputs": [
    {
     "data": {
      "text/plain": [
       "First             4929\n",
       "Second             968\n",
       "Third              113\n",
       "Fourth & Above       9\n",
       "Name: Owner_Type, dtype: int64"
      ]
     },
     "execution_count": 23,
     "metadata": {},
     "output_type": "execute_result"
    }
   ],
   "source": [
    "train['Owner_Type'].value_counts()"
   ]
  },
  {
   "cell_type": "code",
   "execution_count": 24,
   "metadata": {},
   "outputs": [
    {
     "data": {
      "text/plain": [
       "First             1023\n",
       "Second             184\n",
       "Third               24\n",
       "Fourth & Above       3\n",
       "Name: Owner_Type, dtype: int64"
      ]
     },
     "execution_count": 24,
     "metadata": {},
     "output_type": "execute_result"
    }
   ],
   "source": [
    "test['Owner_Type'].value_counts()"
   ]
  },
  {
   "cell_type": "markdown",
   "metadata": {},
   "source": [
    "## Mileage"
   ]
  },
  {
   "cell_type": "code",
   "execution_count": 25,
   "metadata": {},
   "outputs": [
    {
     "data": {
      "text/plain": [
       "0     26.6 km/kg\n",
       "1     19.67 kmpl\n",
       "2      18.2 kmpl\n",
       "3     20.77 kmpl\n",
       "4      15.2 kmpl\n",
       "5     21.1 km/kg\n",
       "6     23.08 kmpl\n",
       "7     11.36 kmpl\n",
       "8     20.54 kmpl\n",
       "9      22.3 kmpl\n",
       "10    21.56 kmpl\n",
       "11     16.8 kmpl\n",
       "12     25.2 kmpl\n",
       "13     12.7 kmpl\n",
       "14      0.0 kmpl\n",
       "15     13.5 kmpl\n",
       "16     25.8 kmpl\n",
       "17     28.4 kmpl\n",
       "18    20.45 kmpl\n",
       "19    14.84 kmpl\n",
       "Name: Mileage, dtype: object"
      ]
     },
     "execution_count": 25,
     "metadata": {},
     "output_type": "execute_result"
    }
   ],
   "source": [
    "train['Mileage'][:20]"
   ]
  },
  {
   "cell_type": "markdown",
   "metadata": {},
   "source": [
    "- km/kg: Kilometers per Kilogram\n",
    "- kmpl: Kilometers per Litre"
   ]
  },
  {
   "cell_type": "code",
   "execution_count": 26,
   "metadata": {},
   "outputs": [
    {
     "data": {
      "text/plain": [
       "17.0 kmpl     172\n",
       "18.9 kmpl     172\n",
       "18.6 kmpl     119\n",
       "20.36 kmpl     88\n",
       "21.1 kmpl      86\n",
       "             ... \n",
       "20.62 kmpl      1\n",
       "13.58 kmpl      1\n",
       "21.2 kmpl       1\n",
       "23.01 kmpl      1\n",
       "12.37 kmpl      1\n",
       "Name: Mileage, Length: 443, dtype: int64"
      ]
     },
     "execution_count": 26,
     "metadata": {},
     "output_type": "execute_result"
    }
   ],
   "source": [
    "train['Mileage'].value_counts(dropna=False)"
   ]
  },
  {
   "cell_type": "code",
   "execution_count": 27,
   "metadata": {},
   "outputs": [],
   "source": [
    "# Null Values\n",
    "train['Mileage'] = train['Mileage'].fillna('17.0 kmpl')"
   ]
  },
  {
   "cell_type": "markdown",
   "metadata": {},
   "source": [
    "We can make 2 new columns, one for the value and one for the measurement to handle the mile age column, then we drop it."
   ]
  },
  {
   "cell_type": "code",
   "execution_count": 28,
   "metadata": {},
   "outputs": [
    {
     "data": {
      "text/plain": [
       "('26.6', 'km/kg')"
      ]
     },
     "execution_count": 28,
     "metadata": {},
     "output_type": "execute_result"
    }
   ],
   "source": [
    "train['Mileage'][0].split()[0], train['Mileage'][0].split()[1]"
   ]
  },
  {
   "cell_type": "code",
   "execution_count": 29,
   "metadata": {},
   "outputs": [],
   "source": [
    "mile_age_val = pd.DataFrame(columns=['Mileage_value'])\n",
    "mile_age_measure = pd.DataFrame(columns=['Mileage_measure'])\n",
    "train = pd.concat([train, mile_age_val, mile_age_measure], axis=1)\n",
    "test = pd.concat([test, mile_age_val, mile_age_measure], axis=1)\n",
    "\n",
    "for i in range(train.shape[0]):\n",
    "    value = train['Mileage'][i].split()[0]\n",
    "    measure = train['Mileage'][i].split()[1]\n",
    "    train['Mileage_value'][i] = value\n",
    "    train['Mileage_measure'][i] = measure\n",
    "\n",
    "for i in range(test.shape[0]):\n",
    "    value = test['Mileage'][i].split()[0]\n",
    "    measure = test['Mileage'][i].split()[1]\n",
    "    test['Mileage_value'][i] = value\n",
    "    test['Mileage_measure'][i] = measure\n",
    "    \n",
    "train.drop('Mileage', axis=1, inplace=True)\n",
    "test.drop('Mileage', axis=1, inplace=True)"
   ]
  },
  {
   "cell_type": "markdown",
   "metadata": {},
   "source": [
    "## Engine"
   ]
  },
  {
   "cell_type": "code",
   "execution_count": 30,
   "metadata": {},
   "outputs": [
    {
     "data": {
      "text/plain": [
       "0      998 CC\n",
       "1     1582 CC\n",
       "2     1199 CC\n",
       "3     1248 CC\n",
       "4     1968 CC\n",
       "5      814 CC\n",
       "6     1461 CC\n",
       "7     2755 CC\n",
       "8     1598 CC\n",
       "9     1248 CC\n",
       "10    1462 CC\n",
       "11    1497 CC\n",
       "12    1248 CC\n",
       "13    2179 CC\n",
       "14    2179 CC\n",
       "15    2477 CC\n",
       "16    1498 CC\n",
       "17    1248 CC\n",
       "18    1461 CC\n",
       "19    2143 CC\n",
       "Name: Engine, dtype: object"
      ]
     },
     "execution_count": 30,
     "metadata": {},
     "output_type": "execute_result"
    }
   ],
   "source": [
    "train['Engine'][:20]"
   ]
  },
  {
   "cell_type": "code",
   "execution_count": 31,
   "metadata": {},
   "outputs": [
    {
     "data": {
      "text/plain": [
       "1197 CC    606\n",
       "1248 CC    512\n",
       "1498 CC    304\n",
       "998 CC     259\n",
       "2179 CC    240\n",
       "          ... \n",
       "3200 CC      1\n",
       "2995 CC      1\n",
       "2349 CC      1\n",
       "2112 CC      1\n",
       "2773 CC      1\n",
       "Name: Engine, Length: 146, dtype: int64"
      ]
     },
     "execution_count": 31,
     "metadata": {},
     "output_type": "execute_result"
    }
   ],
   "source": [
    "train['Engine'].value_counts()"
   ]
  },
  {
   "cell_type": "code",
   "execution_count": 32,
   "metadata": {},
   "outputs": [
    {
     "data": {
      "text/plain": [
       "1197 CC    126\n",
       "1248 CC     98\n",
       "1498 CC     66\n",
       "1198 CC     54\n",
       "1968 CC     50\n",
       "          ... \n",
       "1997 CC      1\n",
       "1047 CC      1\n",
       "2979 CC      1\n",
       "4395 CC      1\n",
       "3498 CC      1\n",
       "Name: Engine, Length: 104, dtype: int64"
      ]
     },
     "execution_count": 32,
     "metadata": {},
     "output_type": "execute_result"
    }
   ],
   "source": [
    "test['Engine'].value_counts()"
   ]
  },
  {
   "cell_type": "code",
   "execution_count": 33,
   "metadata": {},
   "outputs": [],
   "source": [
    "# Null Values\n",
    "train['Engine'] = train['Engine'].fillna('1197 CC')\n",
    "test['Engine'] = test['Engine'].fillna('1197 CC')"
   ]
  },
  {
   "cell_type": "markdown",
   "metadata": {},
   "source": [
    "We are gonna do the same we did with Mileage"
   ]
  },
  {
   "cell_type": "code",
   "execution_count": 34,
   "metadata": {},
   "outputs": [
    {
     "data": {
      "text/plain": [
       "('998', 'CC')"
      ]
     },
     "execution_count": 34,
     "metadata": {},
     "output_type": "execute_result"
    }
   ],
   "source": [
    "train['Engine'][0].split()[0], train['Engine'][0].split()[1]"
   ]
  },
  {
   "cell_type": "code",
   "execution_count": 35,
   "metadata": {},
   "outputs": [],
   "source": [
    "engine_val = pd.DataFrame(columns=['Engine_value'])\n",
    "engine_measure = pd.DataFrame(columns=['Engine_measure'])\n",
    "train = pd.concat([train, engine_val, engine_measure], axis=1)\n",
    "test = pd.concat([test, engine_val, engine_measure], axis=1)\n",
    "\n",
    "for i in range(train.shape[0]):\n",
    "    value = train['Engine'][i].split()[0]\n",
    "    measure = train['Engine'][i].split()[1]\n",
    "    train['Engine_value'][i] = value\n",
    "    train['Engine_measure'][i] = measure\n",
    "\n",
    "for i in range(test.shape[0]):\n",
    "    value = test['Engine'][i].split()[0]\n",
    "    measure = test['Engine'][i].split()[1]\n",
    "    test['Engine_value'][i] = value\n",
    "    test['Engine_measure'][i] = measure\n",
    "    \n",
    "train.drop('Engine', axis=1, inplace=True)\n",
    "test.drop('Engine', axis=1, inplace=True)"
   ]
  },
  {
   "cell_type": "code",
   "execution_count": 39,
   "metadata": {},
   "outputs": [
    {
     "data": {
      "text/plain": [
       "CC    6019\n",
       "Name: Engine_measure, dtype: int64"
      ]
     },
     "execution_count": 39,
     "metadata": {},
     "output_type": "execute_result"
    }
   ],
   "source": [
    "train['Engine_measure'].value_counts()"
   ]
  },
  {
   "cell_type": "code",
   "execution_count": 40,
   "metadata": {},
   "outputs": [],
   "source": [
    "train.drop('Engine_measure', axis=1, inplace=True)\n",
    "test.drop('Engine_measure', axis=1, inplace=True)"
   ]
  },
  {
   "cell_type": "code",
   "execution_count": 41,
   "metadata": {},
   "outputs": [
    {
     "data": {
      "text/plain": [
       "((6019, 13), (1234, 12))"
      ]
     },
     "execution_count": 41,
     "metadata": {},
     "output_type": "execute_result"
    }
   ],
   "source": [
    "train.shape, test.shape"
   ]
  },
  {
   "cell_type": "code",
   "execution_count": null,
   "metadata": {},
   "outputs": [],
   "source": []
  },
  {
   "cell_type": "code",
   "execution_count": null,
   "metadata": {},
   "outputs": [],
   "source": []
  },
  {
   "cell_type": "code",
   "execution_count": 36,
   "metadata": {},
   "outputs": [
    {
     "data": {
      "text/html": [
       "<div>\n",
       "<style scoped>\n",
       "    .dataframe tbody tr th:only-of-type {\n",
       "        vertical-align: middle;\n",
       "    }\n",
       "\n",
       "    .dataframe tbody tr th {\n",
       "        vertical-align: top;\n",
       "    }\n",
       "\n",
       "    .dataframe thead th {\n",
       "        text-align: right;\n",
       "    }\n",
       "</style>\n",
       "<table border=\"1\" class=\"dataframe\">\n",
       "  <thead>\n",
       "    <tr style=\"text-align: right;\">\n",
       "      <th></th>\n",
       "      <th>Unnamed: 0</th>\n",
       "      <th>Location</th>\n",
       "      <th>Year</th>\n",
       "      <th>Kilometers_Driven</th>\n",
       "      <th>Fuel_Type</th>\n",
       "      <th>Transmission</th>\n",
       "      <th>Owner_Type</th>\n",
       "      <th>Power</th>\n",
       "      <th>Seats</th>\n",
       "      <th>Price</th>\n",
       "      <th>Mileage_value</th>\n",
       "      <th>Mileage_measure</th>\n",
       "      <th>Engine_value</th>\n",
       "      <th>Engine_measure</th>\n",
       "    </tr>\n",
       "  </thead>\n",
       "  <tbody>\n",
       "    <tr>\n",
       "      <th>0</th>\n",
       "      <td>0</td>\n",
       "      <td>Mumbai</td>\n",
       "      <td>2010</td>\n",
       "      <td>72000</td>\n",
       "      <td>CNG</td>\n",
       "      <td>Manual</td>\n",
       "      <td>First</td>\n",
       "      <td>58.16 bhp</td>\n",
       "      <td>5.0</td>\n",
       "      <td>1.75</td>\n",
       "      <td>26.6</td>\n",
       "      <td>km/kg</td>\n",
       "      <td>998</td>\n",
       "      <td>CC</td>\n",
       "    </tr>\n",
       "    <tr>\n",
       "      <th>1</th>\n",
       "      <td>1</td>\n",
       "      <td>Pune</td>\n",
       "      <td>2015</td>\n",
       "      <td>41000</td>\n",
       "      <td>Diesel</td>\n",
       "      <td>Manual</td>\n",
       "      <td>First</td>\n",
       "      <td>126.2 bhp</td>\n",
       "      <td>5.0</td>\n",
       "      <td>12.50</td>\n",
       "      <td>19.67</td>\n",
       "      <td>kmpl</td>\n",
       "      <td>1582</td>\n",
       "      <td>CC</td>\n",
       "    </tr>\n",
       "    <tr>\n",
       "      <th>2</th>\n",
       "      <td>2</td>\n",
       "      <td>Chennai</td>\n",
       "      <td>2011</td>\n",
       "      <td>46000</td>\n",
       "      <td>Petrol</td>\n",
       "      <td>Manual</td>\n",
       "      <td>First</td>\n",
       "      <td>88.7 bhp</td>\n",
       "      <td>5.0</td>\n",
       "      <td>4.50</td>\n",
       "      <td>18.2</td>\n",
       "      <td>kmpl</td>\n",
       "      <td>1199</td>\n",
       "      <td>CC</td>\n",
       "    </tr>\n",
       "    <tr>\n",
       "      <th>3</th>\n",
       "      <td>3</td>\n",
       "      <td>Chennai</td>\n",
       "      <td>2012</td>\n",
       "      <td>87000</td>\n",
       "      <td>Diesel</td>\n",
       "      <td>Manual</td>\n",
       "      <td>First</td>\n",
       "      <td>88.76 bhp</td>\n",
       "      <td>7.0</td>\n",
       "      <td>6.00</td>\n",
       "      <td>20.77</td>\n",
       "      <td>kmpl</td>\n",
       "      <td>1248</td>\n",
       "      <td>CC</td>\n",
       "    </tr>\n",
       "    <tr>\n",
       "      <th>4</th>\n",
       "      <td>4</td>\n",
       "      <td>Coimbatore</td>\n",
       "      <td>2013</td>\n",
       "      <td>40670</td>\n",
       "      <td>Diesel</td>\n",
       "      <td>Automatic</td>\n",
       "      <td>Second</td>\n",
       "      <td>140.8 bhp</td>\n",
       "      <td>5.0</td>\n",
       "      <td>17.74</td>\n",
       "      <td>15.2</td>\n",
       "      <td>kmpl</td>\n",
       "      <td>1968</td>\n",
       "      <td>CC</td>\n",
       "    </tr>\n",
       "  </tbody>\n",
       "</table>\n",
       "</div>"
      ],
      "text/plain": [
       "   Unnamed: 0    Location  Year  Kilometers_Driven Fuel_Type Transmission  \\\n",
       "0           0      Mumbai  2010              72000       CNG       Manual   \n",
       "1           1        Pune  2015              41000    Diesel       Manual   \n",
       "2           2     Chennai  2011              46000    Petrol       Manual   \n",
       "3           3     Chennai  2012              87000    Diesel       Manual   \n",
       "4           4  Coimbatore  2013              40670    Diesel    Automatic   \n",
       "\n",
       "  Owner_Type      Power  Seats  Price Mileage_value Mileage_measure  \\\n",
       "0      First  58.16 bhp    5.0   1.75          26.6           km/kg   \n",
       "1      First  126.2 bhp    5.0  12.50         19.67            kmpl   \n",
       "2      First   88.7 bhp    5.0   4.50          18.2            kmpl   \n",
       "3      First  88.76 bhp    7.0   6.00         20.77            kmpl   \n",
       "4     Second  140.8 bhp    5.0  17.74          15.2            kmpl   \n",
       "\n",
       "  Engine_value Engine_measure  \n",
       "0          998             CC  \n",
       "1         1582             CC  \n",
       "2         1199             CC  \n",
       "3         1248             CC  \n",
       "4         1968             CC  "
      ]
     },
     "execution_count": 36,
     "metadata": {},
     "output_type": "execute_result"
    }
   ],
   "source": [
    "train.head()"
   ]
  },
  {
   "cell_type": "code",
   "execution_count": null,
   "metadata": {},
   "outputs": [],
   "source": []
  }
 ],
 "metadata": {
  "kernelspec": {
   "display_name": "Python 3",
   "language": "python",
   "name": "python3"
  },
  "language_info": {
   "codemirror_mode": {
    "name": "ipython",
    "version": 3
   },
   "file_extension": ".py",
   "mimetype": "text/x-python",
   "name": "python",
   "nbconvert_exporter": "python",
   "pygments_lexer": "ipython3",
   "version": "3.8.3"
  }
 },
 "nbformat": 4,
 "nbformat_minor": 4
}
