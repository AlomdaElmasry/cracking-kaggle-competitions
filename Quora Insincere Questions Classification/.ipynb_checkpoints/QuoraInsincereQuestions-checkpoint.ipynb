{
 "cells": [
  {
   "cell_type": "code",
   "execution_count": 1,
   "metadata": {},
   "outputs": [],
   "source": [
    "import os\n",
    "\n",
    "import pandas as pd\n",
    "import numpy as np\n",
    "import matplotlib.pyplot as plt\n",
    "\n",
    "import nltk\n",
    "from nltk.tokenize import TweetTokenizer\n",
    "from nltk.corpus import stopwords\n",
    "import spacy\n",
    "import re\n",
    "\n",
    "from sklearn.model_selection import train_test_split, GridSearchCV\n",
    "from sklearn.feature_extraction.text import TfidfVectorizer\n",
    "import torch\n",
    "import torch.nn as nn\n",
    "import torch.optim as optim\n",
    "\n",
    "import warnings\n",
    "\n",
    "warnings.filterwarnings('ignore')\n",
    "pd.set_option('display.max_columns', None)\n",
    "%matplotlib inline"
   ]
  },
  {
   "cell_type": "code",
   "execution_count": 2,
   "metadata": {},
   "outputs": [],
   "source": [
    "train = pd.read_csv('train.csv')\n",
    "test = pd.read_csv('test.csv')\n",
    "sample = pd.read_csv('sample_submission.csv')"
   ]
  },
  {
   "cell_type": "markdown",
   "metadata": {},
   "source": [
    "# Exploration"
   ]
  },
  {
   "cell_type": "code",
   "execution_count": 3,
   "metadata": {},
   "outputs": [
    {
     "name": "stdout",
     "output_type": "stream",
     "text": [
      "(1306122, 3)\n",
      "<class 'pandas.core.frame.DataFrame'>\n",
      "RangeIndex: 1306122 entries, 0 to 1306121\n",
      "Data columns (total 3 columns):\n",
      " #   Column         Non-Null Count    Dtype \n",
      "---  ------         --------------    ----- \n",
      " 0   qid            1306122 non-null  object\n",
      " 1   question_text  1306122 non-null  object\n",
      " 2   target         1306122 non-null  int64 \n",
      "dtypes: int64(1), object(2)\n",
      "memory usage: 29.9+ MB\n",
      "None\n",
      "-----------------\n",
      "(375806, 2)\n",
      "<class 'pandas.core.frame.DataFrame'>\n",
      "RangeIndex: 375806 entries, 0 to 375805\n",
      "Data columns (total 2 columns):\n",
      " #   Column         Non-Null Count   Dtype \n",
      "---  ------         --------------   ----- \n",
      " 0   qid            375806 non-null  object\n",
      " 1   question_text  375806 non-null  object\n",
      "dtypes: object(2)\n",
      "memory usage: 5.7+ MB\n",
      "None\n"
     ]
    }
   ],
   "source": [
    "print(train.shape)\n",
    "print(train.info())\n",
    "print(\"-----------------\")\n",
    "print(test.shape)\n",
    "print(test.info())"
   ]
  },
  {
   "cell_type": "code",
   "execution_count": 4,
   "metadata": {},
   "outputs": [
    {
     "data": {
      "text/html": [
       "<div>\n",
       "<style scoped>\n",
       "    .dataframe tbody tr th:only-of-type {\n",
       "        vertical-align: middle;\n",
       "    }\n",
       "\n",
       "    .dataframe tbody tr th {\n",
       "        vertical-align: top;\n",
       "    }\n",
       "\n",
       "    .dataframe thead th {\n",
       "        text-align: right;\n",
       "    }\n",
       "</style>\n",
       "<table border=\"1\" class=\"dataframe\">\n",
       "  <thead>\n",
       "    <tr style=\"text-align: right;\">\n",
       "      <th></th>\n",
       "      <th>qid</th>\n",
       "      <th>question_text</th>\n",
       "      <th>target</th>\n",
       "    </tr>\n",
       "  </thead>\n",
       "  <tbody>\n",
       "    <tr>\n",
       "      <th>0</th>\n",
       "      <td>00002165364db923c7e6</td>\n",
       "      <td>How did Quebec nationalists see their province...</td>\n",
       "      <td>0</td>\n",
       "    </tr>\n",
       "    <tr>\n",
       "      <th>1</th>\n",
       "      <td>000032939017120e6e44</td>\n",
       "      <td>Do you have an adopted dog, how would you enco...</td>\n",
       "      <td>0</td>\n",
       "    </tr>\n",
       "    <tr>\n",
       "      <th>2</th>\n",
       "      <td>0000412ca6e4628ce2cf</td>\n",
       "      <td>Why does velocity affect time? Does velocity a...</td>\n",
       "      <td>0</td>\n",
       "    </tr>\n",
       "    <tr>\n",
       "      <th>3</th>\n",
       "      <td>000042bf85aa498cd78e</td>\n",
       "      <td>How did Otto von Guericke used the Magdeburg h...</td>\n",
       "      <td>0</td>\n",
       "    </tr>\n",
       "    <tr>\n",
       "      <th>4</th>\n",
       "      <td>0000455dfa3e01eae3af</td>\n",
       "      <td>Can I convert montra helicon D to a mountain b...</td>\n",
       "      <td>0</td>\n",
       "    </tr>\n",
       "  </tbody>\n",
       "</table>\n",
       "</div>"
      ],
      "text/plain": [
       "                    qid                                      question_text  \\\n",
       "0  00002165364db923c7e6  How did Quebec nationalists see their province...   \n",
       "1  000032939017120e6e44  Do you have an adopted dog, how would you enco...   \n",
       "2  0000412ca6e4628ce2cf  Why does velocity affect time? Does velocity a...   \n",
       "3  000042bf85aa498cd78e  How did Otto von Guericke used the Magdeburg h...   \n",
       "4  0000455dfa3e01eae3af  Can I convert montra helicon D to a mountain b...   \n",
       "\n",
       "   target  \n",
       "0       0  \n",
       "1       0  \n",
       "2       0  \n",
       "3       0  \n",
       "4       0  "
      ]
     },
     "execution_count": 4,
     "metadata": {},
     "output_type": "execute_result"
    }
   ],
   "source": [
    "train.head()"
   ]
  },
  {
   "cell_type": "code",
   "execution_count": 5,
   "metadata": {},
   "outputs": [
    {
     "data": {
      "text/html": [
       "<div>\n",
       "<style scoped>\n",
       "    .dataframe tbody tr th:only-of-type {\n",
       "        vertical-align: middle;\n",
       "    }\n",
       "\n",
       "    .dataframe tbody tr th {\n",
       "        vertical-align: top;\n",
       "    }\n",
       "\n",
       "    .dataframe thead th {\n",
       "        text-align: right;\n",
       "    }\n",
       "</style>\n",
       "<table border=\"1\" class=\"dataframe\">\n",
       "  <thead>\n",
       "    <tr style=\"text-align: right;\">\n",
       "      <th></th>\n",
       "      <th>qid</th>\n",
       "      <th>question_text</th>\n",
       "    </tr>\n",
       "  </thead>\n",
       "  <tbody>\n",
       "    <tr>\n",
       "      <th>0</th>\n",
       "      <td>0000163e3ea7c7a74cd7</td>\n",
       "      <td>Why do so many women become so rude and arroga...</td>\n",
       "    </tr>\n",
       "    <tr>\n",
       "      <th>1</th>\n",
       "      <td>00002bd4fb5d505b9161</td>\n",
       "      <td>When should I apply for RV college of engineer...</td>\n",
       "    </tr>\n",
       "    <tr>\n",
       "      <th>2</th>\n",
       "      <td>00007756b4a147d2b0b3</td>\n",
       "      <td>What is it really like to be a nurse practitio...</td>\n",
       "    </tr>\n",
       "    <tr>\n",
       "      <th>3</th>\n",
       "      <td>000086e4b7e1c7146103</td>\n",
       "      <td>Who are entrepreneurs?</td>\n",
       "    </tr>\n",
       "    <tr>\n",
       "      <th>4</th>\n",
       "      <td>0000c4c3fbe8785a3090</td>\n",
       "      <td>Is education really making good people nowadays?</td>\n",
       "    </tr>\n",
       "  </tbody>\n",
       "</table>\n",
       "</div>"
      ],
      "text/plain": [
       "                    qid                                      question_text\n",
       "0  0000163e3ea7c7a74cd7  Why do so many women become so rude and arroga...\n",
       "1  00002bd4fb5d505b9161  When should I apply for RV college of engineer...\n",
       "2  00007756b4a147d2b0b3  What is it really like to be a nurse practitio...\n",
       "3  000086e4b7e1c7146103                             Who are entrepreneurs?\n",
       "4  0000c4c3fbe8785a3090   Is education really making good people nowadays?"
      ]
     },
     "execution_count": 5,
     "metadata": {},
     "output_type": "execute_result"
    }
   ],
   "source": [
    "test.head()"
   ]
  },
  {
   "cell_type": "code",
   "execution_count": 6,
   "metadata": {},
   "outputs": [
    {
     "name": "stdout",
     "output_type": "stream",
     "text": [
      "Available Embeddings:  ['glove.840B.300d', 'GoogleNews-vectors-negative300', 'paragram_300_sl999', 'wiki-news-300d-1M']\n"
     ]
    }
   ],
   "source": [
    "print('Available Embeddings: ', os.listdir('embeddings/'))"
   ]
  },
  {
   "cell_type": "code",
   "execution_count": 7,
   "metadata": {},
   "outputs": [
    {
     "data": {
      "text/plain": [
       "0    1225312\n",
       "1      80810\n",
       "Name: target, dtype: int64"
      ]
     },
     "execution_count": 7,
     "metadata": {},
     "output_type": "execute_result"
    }
   ],
   "source": [
    "train['target'].value_counts()"
   ]
  },
  {
   "cell_type": "markdown",
   "metadata": {},
   "source": [
    "- The data is highly unbalanced, only about 6% of the data are insincere"
   ]
  },
  {
   "cell_type": "code",
   "execution_count": 8,
   "metadata": {},
   "outputs": [
    {
     "name": "stdout",
     "output_type": "stream",
     "text": [
      "Max len question in train: 134\n",
      "Max len question in test: 87\n"
     ]
    }
   ],
   "source": [
    "maxlen_train = 0\n",
    "maxlen_test = 0\n",
    "for i in train['question_text']:\n",
    "    i = i.split()\n",
    "    maxlen_train = max(len(i), maxlen_train)\n",
    "\n",
    "for i in test['question_text']:\n",
    "    i = i.split()\n",
    "    maxlen_test = max(len(i), maxlen_test)\n",
    "\n",
    "print(\"Max len question in train:\", maxlen_train)\n",
    "print(\"Max len question in test:\", maxlen_test)"
   ]
  },
  {
   "cell_type": "markdown",
   "metadata": {},
   "source": [
    "# Data Cleaning"
   ]
  },
  {
   "cell_type": "code",
   "execution_count": 15,
   "metadata": {},
   "outputs": [
    {
     "name": "stdout",
     "output_type": "stream",
     "text": [
      "qid              0\n",
      "question_text    0\n",
      "target           0\n",
      "dtype: int64\n",
      "qid              0\n",
      "question_text    0\n",
      "dtype: int64\n"
     ]
    }
   ],
   "source": [
    "print(train.isnull().sum())\n",
    "print(test.isnull().sum())"
   ]
  },
  {
   "cell_type": "markdown",
   "metadata": {},
   "source": [
    "### Puncts and numbers"
   ]
  },
  {
   "cell_type": "code",
   "execution_count": 9,
   "metadata": {},
   "outputs": [],
   "source": [
    "puncts = [',', '.', '\"', ':', ')', '(', '-', '!', '?', '|', ';', \"'\", '$', '&', '/', \n",
    "          '[', ']', '>', '%', '=', '#', '*', '+', '\\\\', '•',  '~', '@', '£', '·', '_', \n",
    "          '{', '}', '©', '^', '®', '`',  '<', '→', '°', '€', '™', '›',  '♥', '←', '×',\n",
    "          '§', '″', '′', 'Â', '█', '½', 'à', '…', '“', '★', '”', '–', '●', 'â', '►', '−', \n",
    "          '¢', '²', '¬', '░', '¶', '↑', '±', '¿', '▾', '═', '¦', '║', '―', '¥', '▓', '—', \n",
    "          '‹', '─', '▒', '：', '¼', '⊕', '▼', '▪', '†', '■', '’', '▀', '¨', '▄', '♫', '☆', \n",
    "          'é', '¯', '♦', '¤', '▲', 'è', '¸', '¾', 'Ã', '⋅', '‘', '∞', '∙', '）', '↓', '、', \n",
    "          '│', '（', '»', '，', '♪', '╩', '╚', '³', '・', '╦', '╣', '╔', '╗', '▬', '❤', 'ï', \n",
    "          'Ø', '¹', '≤', '‡', '√', ]\n",
    "\n",
    "\n",
    "def clean_text(x):\n",
    "    x = str(x)\n",
    "    for punct in puncts:\n",
    "        x = x.replace(punct, f' {punct} ')\n",
    "    return x\n",
    "\n",
    "\n",
    "def clean_numbers(x):\n",
    "    x = re.sub('[0-9]{5, }', '#####', x)\n",
    "    x = re.sub('[0-9]{4}', '####', x)\n",
    "    x = re.sub('[0-9]{3}', '###', x)\n",
    "    x = re.sub('[0-9]{2}', '##', x)\n",
    "    return x"
   ]
  },
  {
   "cell_type": "markdown",
   "metadata": {},
   "source": [
    "### Spelling"
   ]
  },
  {
   "cell_type": "code",
   "execution_count": 10,
   "metadata": {},
   "outputs": [],
   "source": [
    "mispell_dict = {\"aren't\": \"are not\", \"can't\": \"cannot\", \n",
    "                \"couldn't\": \"could not\", \"didn't\": \"did not\",\n",
    "                \"doesn't\": \"does not\", \"don't\": \"do not\", \n",
    "                \"hadn't\": \"had not\", \"hasn't\": \"has not\",\n",
    "                \"haven't\": \"have not\", \"he'd\": \"he would\", \n",
    "                \"he'll\": \"he will\", \"he's\": \"he is\",\n",
    "                \"i'd\": \"I would\", \"i'd\": \"I had\", \"i'll\": \n",
    "                \"I will\", \"i'm\" : \"I am\", \"isn't\": \"is not\",\n",
    "                \"it's\": \"it is\", \"it'll\": \"it will\", \n",
    "                \"i've\" : \"I have\", \"let's\": \"let us\", \n",
    "                \"mightn't\": \"might not\", \"mustn't\": \"must not\", \n",
    "                \"shan't\" : \"shall not\", \"she'd\": \"she would\",\n",
    "                \"she'll\": \"she will\", \"she's\": \"she is\", \n",
    "                \"shouldn't\": \"should not\", \"that's\": \"that is\", \n",
    "                \"there's\": \"there is\",\"they'd\": \"they would\", \n",
    "                \"they'll\": \"they will\", \"they're\": \"they are\",\n",
    "                \"they've\": \"they have\", \"we'd\": \"we would\", \n",
    "                \"we're\": \"we are\", \"weren't\": \"were not\",\n",
    "                \"we've\": \"we have\", \"what'll\": \"what will\", \n",
    "                \"what're\": \"what are\", \"what's\": \"what is\", \n",
    "                \"what've\": \"what have\", \"where's\": \"where is\", \n",
    "                \"who'd\": \"who would\", \"who'll\": \"who will\",\n",
    "                \"who're\": \"who are\", \"who's\": \"who is\", \n",
    "                \"who've\": \"who have\", \"won't\": \"will not\",\n",
    "                \"wouldn't\" : \"would not\", \"you'd\": \"you would\", \n",
    "                \"you'll\": \"you will\", \"you're\": \"you are\",\n",
    "                \"you've\": \"you have\", \"'re\": \" are\", \n",
    "                \"wasn't\": \"was not\", \"we'll\": \" will\", \n",
    "                \"didn't\": \"did not\", \"tryin'\": \"trying\"}\n",
    "\n",
    "\n",
    "def get_mispell(mispell_dict):\n",
    "    mispell_re = re.compile('(%s)' % '|'.join(mispell_dict.keys()))\n",
    "    return mispell_dict, mispell_re\n",
    "\n",
    "\n",
    "def replace_typical_misspell(text):\n",
    "    def replace(match):\n",
    "        return mispellings[match.group(0)]\n",
    "    return mispellings_re.sub(replace, text)"
   ]
  },
  {
   "cell_type": "code",
   "execution_count": 11,
   "metadata": {},
   "outputs": [
    {
     "data": {
      "text/plain": [
       "({\"aren't\": 'are not',\n",
       "  \"can't\": 'cannot',\n",
       "  \"couldn't\": 'could not',\n",
       "  \"didn't\": 'did not',\n",
       "  \"doesn't\": 'does not',\n",
       "  \"don't\": 'do not',\n",
       "  \"hadn't\": 'had not',\n",
       "  \"hasn't\": 'has not',\n",
       "  \"haven't\": 'have not',\n",
       "  \"he'd\": 'he would',\n",
       "  \"he'll\": 'he will',\n",
       "  \"he's\": 'he is',\n",
       "  \"i'd\": 'I had',\n",
       "  \"i'll\": 'I will',\n",
       "  \"i'm\": 'I am',\n",
       "  \"isn't\": 'is not',\n",
       "  \"it's\": 'it is',\n",
       "  \"it'll\": 'it will',\n",
       "  \"i've\": 'I have',\n",
       "  \"let's\": 'let us',\n",
       "  \"mightn't\": 'might not',\n",
       "  \"mustn't\": 'must not',\n",
       "  \"shan't\": 'shall not',\n",
       "  \"she'd\": 'she would',\n",
       "  \"she'll\": 'she will',\n",
       "  \"she's\": 'she is',\n",
       "  \"shouldn't\": 'should not',\n",
       "  \"that's\": 'that is',\n",
       "  \"there's\": 'there is',\n",
       "  \"they'd\": 'they would',\n",
       "  \"they'll\": 'they will',\n",
       "  \"they're\": 'they are',\n",
       "  \"they've\": 'they have',\n",
       "  \"we'd\": 'we would',\n",
       "  \"we're\": 'we are',\n",
       "  \"weren't\": 'were not',\n",
       "  \"we've\": 'we have',\n",
       "  \"what'll\": 'what will',\n",
       "  \"what're\": 'what are',\n",
       "  \"what's\": 'what is',\n",
       "  \"what've\": 'what have',\n",
       "  \"where's\": 'where is',\n",
       "  \"who'd\": 'who would',\n",
       "  \"who'll\": 'who will',\n",
       "  \"who're\": 'who are',\n",
       "  \"who's\": 'who is',\n",
       "  \"who've\": 'who have',\n",
       "  \"won't\": 'will not',\n",
       "  \"wouldn't\": 'would not',\n",
       "  \"you'd\": 'you would',\n",
       "  \"you'll\": 'you will',\n",
       "  \"you're\": 'you are',\n",
       "  \"you've\": 'you have',\n",
       "  \"'re\": ' are',\n",
       "  \"wasn't\": 'was not',\n",
       "  \"we'll\": ' will',\n",
       "  \"tryin'\": 'trying'},\n",
       " re.compile(r\"(aren't|can't|couldn't|didn't|doesn't|don't|hadn't|hasn't|haven't|he'd|he'll|he's|i'd|i'll|i'm|isn't|it's|it'll|i've|let's|mightn't|mustn't|shan't|she'd|she'll|she's|shouldn't|that's|there's|they'd|they'll|they're|they've|we'd|we're|weren't|we've|what'll|what're|what's|what've|where's|who'd|who'll|who're|who's|who've|won't|wouldn't|you'd|you'll|you're|you've|'re|wasn't|we'll|tryin')\",\n",
       " re.UNICODE))"
      ]
     },
     "execution_count": 11,
     "metadata": {},
     "output_type": "execute_result"
    }
   ],
   "source": [
    "mispellings, mispellings_re = get_mispell(mispell_dict)\n",
    "mispellings, mispellings_re"
   ]
  },
  {
   "cell_type": "code",
   "execution_count": 12,
   "metadata": {},
   "outputs": [
    {
     "name": "stdout",
     "output_type": "stream",
     "text": [
      "How did Quebec nationalists see their province as a nation in the 1960s?\n",
      "---------------\n",
      "Do you have an adopted dog, how would you encourage people to adopt and not shop?\n",
      "---------------\n",
      "Why does velocity affect time? Does velocity affect space geometry?\n",
      "---------------\n",
      "How did Otto von Guericke used the Magdeburg hemispheres?\n",
      "---------------\n",
      "Can I convert montra helicon D to a mountain bike by just changing the tyres?\n",
      "---------------\n",
      "Is Gaza slowly becoming Auschwitz, Dachau or Treblinka for Palestinians?\n",
      "---------------\n",
      "Why does Quora automatically ban conservative opinions when reported, but does not do the same for liberal views?\n",
      "---------------\n",
      "Is it crazy if I wash or wipe my groceries off? Germs are everywhere.\n",
      "---------------\n",
      "Is there such a thing as dressing moderately, and if so, how is that different than dressing modestly?\n",
      "---------------\n",
      "Is it just me or have you ever been in this phase wherein you became ignorant to the people you once loved, completely disregarding their feelings/lives so you get to have something go your way and feel temporarily at ease. How did things change?\n",
      "---------------\n"
     ]
    }
   ],
   "source": [
    "for i in range(10):\n",
    "    print(train['question_text'][i])\n",
    "    print(\"---------------\")"
   ]
  },
  {
   "cell_type": "code",
   "execution_count": 13,
   "metadata": {},
   "outputs": [],
   "source": [
    "# Clean the text\n",
    "train[\"question_text\"] = train[\"question_text\"].apply(lambda x: clean_text(x.lower()))\n",
    "test[\"question_text\"] = test[\"question_text\"].apply(lambda x: clean_text(x.lower()))\n",
    "\n",
    "# Clean numbers\n",
    "train[\"question_text\"] = train[\"question_text\"].apply(lambda x: clean_numbers(x))\n",
    "test[\"question_text\"] = test[\"question_text\"].apply(lambda x: clean_numbers(x))\n",
    "\n",
    "# Clean speelings\n",
    "train[\"question_text\"] = train[\"question_text\"].apply(lambda x: replace_typical_misspell(x))\n",
    "test[\"question_text\"] = test[\"question_text\"].apply(lambda x: replace_typical_misspell(x))"
   ]
  },
  {
   "cell_type": "code",
   "execution_count": 14,
   "metadata": {},
   "outputs": [
    {
     "name": "stdout",
     "output_type": "stream",
     "text": [
      "how did quebec nationalists see their province as a nation in the ####s ? \n",
      "---------------\n",
      "do you have an adopted dog ,  how would you encourage people to adopt and not shop ? \n",
      "---------------\n",
      "why does velocity affect time ?  does velocity affect space geometry ? \n",
      "---------------\n",
      "how did otto von guericke used the magdeburg hemispheres ? \n",
      "---------------\n",
      "can i convert montra helicon d to a mountain bike by just changing the tyres ? \n",
      "---------------\n",
      "is gaza slowly becoming auschwitz ,  dachau or treblinka for palestinians ? \n",
      "---------------\n",
      "why does quora automatically ban conservative opinions when reported ,  but does not do the same for liberal views ? \n",
      "---------------\n",
      "is it crazy if i wash or wipe my groceries off ?  germs are everywhere . \n",
      "---------------\n",
      "is there such a thing as dressing moderately ,  and if so ,  how is that different than dressing modestly ? \n",
      "---------------\n",
      "is it just me or have you ever been in this phase wherein you became ignorant to the people you once loved ,  completely disregarding their feelings / lives so you get to have something go your way and feel temporarily at ease .  how did things change ? \n",
      "---------------\n"
     ]
    }
   ],
   "source": [
    "for i in range(10):\n",
    "    print(train['question_text'][i])\n",
    "    print(\"---------------\")"
   ]
  },
  {
   "cell_type": "code",
   "execution_count": null,
   "metadata": {},
   "outputs": [],
   "source": []
  }
 ],
 "metadata": {
  "kernelspec": {
   "display_name": "Python 3",
   "language": "python",
   "name": "python3"
  },
  "language_info": {
   "codemirror_mode": {
    "name": "ipython",
    "version": 3
   },
   "file_extension": ".py",
   "mimetype": "text/x-python",
   "name": "python",
   "nbconvert_exporter": "python",
   "pygments_lexer": "ipython3",
   "version": "3.8.3"
  }
 },
 "nbformat": 4,
 "nbformat_minor": 4
}
