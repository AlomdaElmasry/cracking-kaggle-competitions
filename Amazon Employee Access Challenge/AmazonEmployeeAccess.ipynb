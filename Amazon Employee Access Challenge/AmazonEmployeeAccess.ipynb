{
 "cells": [
  {
   "cell_type": "code",
   "execution_count": 1,
   "metadata": {},
   "outputs": [],
   "source": [
    "import warnings\n",
    "import math\n",
    "import pandas as pd\n",
    "import numpy as np\n",
    "import matplotlib.pyplot as plt\n",
    "import seaborn as sns\n",
    "from sklearn.preprocessing import StandardScaler\n",
    "from sklearn.model_selection import train_test_split\n",
    "from sklearn.metrics import f1_score, roc_curve, auc, accuracy_score\n",
    "from sklearn.linear_model import LogisticRegression\n",
    "from sklearn.tree import DecisionTreeClassifier\n",
    "from sklearn.ensemble import RandomForestClassifier\n",
    "import torch\n",
    "import torch.nn as nn\n",
    "import xgboost as xgb\n",
    "import lightgbm as lgb\n",
    "\n",
    "warnings.filterwarnings('ignore')\n",
    "pd.set_option('display.max_columns', None)\n",
    "plt.style.use(style='ggplot')\n",
    "%matplotlib inline"
   ]
  },
  {
   "cell_type": "code",
   "execution_count": 2,
   "metadata": {},
   "outputs": [],
   "source": [
    "train = pd.read_csv('train.csv')\n",
    "test = pd.read_csv('test.csv')\n",
    "sample = pd.read_csv('sampleSubmission.csv')\n",
    "test_id = test['id']"
   ]
  },
  {
   "cell_type": "code",
   "execution_count": 3,
   "metadata": {},
   "outputs": [
    {
     "name": "stdout",
     "output_type": "stream",
     "text": [
      "(32769, 10)\n"
     ]
    },
    {
     "data": {
      "text/html": [
       "<div>\n",
       "<style scoped>\n",
       "    .dataframe tbody tr th:only-of-type {\n",
       "        vertical-align: middle;\n",
       "    }\n",
       "\n",
       "    .dataframe tbody tr th {\n",
       "        vertical-align: top;\n",
       "    }\n",
       "\n",
       "    .dataframe thead th {\n",
       "        text-align: right;\n",
       "    }\n",
       "</style>\n",
       "<table border=\"1\" class=\"dataframe\">\n",
       "  <thead>\n",
       "    <tr style=\"text-align: right;\">\n",
       "      <th></th>\n",
       "      <th>ACTION</th>\n",
       "      <th>RESOURCE</th>\n",
       "      <th>MGR_ID</th>\n",
       "      <th>ROLE_ROLLUP_1</th>\n",
       "      <th>ROLE_ROLLUP_2</th>\n",
       "      <th>ROLE_DEPTNAME</th>\n",
       "      <th>ROLE_TITLE</th>\n",
       "      <th>ROLE_FAMILY_DESC</th>\n",
       "      <th>ROLE_FAMILY</th>\n",
       "      <th>ROLE_CODE</th>\n",
       "    </tr>\n",
       "  </thead>\n",
       "  <tbody>\n",
       "    <tr>\n",
       "      <th>0</th>\n",
       "      <td>1</td>\n",
       "      <td>39353</td>\n",
       "      <td>85475</td>\n",
       "      <td>117961</td>\n",
       "      <td>118300</td>\n",
       "      <td>123472</td>\n",
       "      <td>117905</td>\n",
       "      <td>117906</td>\n",
       "      <td>290919</td>\n",
       "      <td>117908</td>\n",
       "    </tr>\n",
       "    <tr>\n",
       "      <th>1</th>\n",
       "      <td>1</td>\n",
       "      <td>17183</td>\n",
       "      <td>1540</td>\n",
       "      <td>117961</td>\n",
       "      <td>118343</td>\n",
       "      <td>123125</td>\n",
       "      <td>118536</td>\n",
       "      <td>118536</td>\n",
       "      <td>308574</td>\n",
       "      <td>118539</td>\n",
       "    </tr>\n",
       "    <tr>\n",
       "      <th>2</th>\n",
       "      <td>1</td>\n",
       "      <td>36724</td>\n",
       "      <td>14457</td>\n",
       "      <td>118219</td>\n",
       "      <td>118220</td>\n",
       "      <td>117884</td>\n",
       "      <td>117879</td>\n",
       "      <td>267952</td>\n",
       "      <td>19721</td>\n",
       "      <td>117880</td>\n",
       "    </tr>\n",
       "    <tr>\n",
       "      <th>3</th>\n",
       "      <td>1</td>\n",
       "      <td>36135</td>\n",
       "      <td>5396</td>\n",
       "      <td>117961</td>\n",
       "      <td>118343</td>\n",
       "      <td>119993</td>\n",
       "      <td>118321</td>\n",
       "      <td>240983</td>\n",
       "      <td>290919</td>\n",
       "      <td>118322</td>\n",
       "    </tr>\n",
       "    <tr>\n",
       "      <th>4</th>\n",
       "      <td>1</td>\n",
       "      <td>42680</td>\n",
       "      <td>5905</td>\n",
       "      <td>117929</td>\n",
       "      <td>117930</td>\n",
       "      <td>119569</td>\n",
       "      <td>119323</td>\n",
       "      <td>123932</td>\n",
       "      <td>19793</td>\n",
       "      <td>119325</td>\n",
       "    </tr>\n",
       "  </tbody>\n",
       "</table>\n",
       "</div>"
      ],
      "text/plain": [
       "   ACTION  RESOURCE  MGR_ID  ROLE_ROLLUP_1  ROLE_ROLLUP_2  ROLE_DEPTNAME  \\\n",
       "0       1     39353   85475         117961         118300         123472   \n",
       "1       1     17183    1540         117961         118343         123125   \n",
       "2       1     36724   14457         118219         118220         117884   \n",
       "3       1     36135    5396         117961         118343         119993   \n",
       "4       1     42680    5905         117929         117930         119569   \n",
       "\n",
       "   ROLE_TITLE  ROLE_FAMILY_DESC  ROLE_FAMILY  ROLE_CODE  \n",
       "0      117905            117906       290919     117908  \n",
       "1      118536            118536       308574     118539  \n",
       "2      117879            267952        19721     117880  \n",
       "3      118321            240983       290919     118322  \n",
       "4      119323            123932        19793     119325  "
      ]
     },
     "execution_count": 3,
     "metadata": {},
     "output_type": "execute_result"
    }
   ],
   "source": [
    "print(train.shape)\n",
    "train.head()"
   ]
  },
  {
   "cell_type": "code",
   "execution_count": 4,
   "metadata": {},
   "outputs": [
    {
     "name": "stdout",
     "output_type": "stream",
     "text": [
      "(58921, 10)\n"
     ]
    },
    {
     "data": {
      "text/html": [
       "<div>\n",
       "<style scoped>\n",
       "    .dataframe tbody tr th:only-of-type {\n",
       "        vertical-align: middle;\n",
       "    }\n",
       "\n",
       "    .dataframe tbody tr th {\n",
       "        vertical-align: top;\n",
       "    }\n",
       "\n",
       "    .dataframe thead th {\n",
       "        text-align: right;\n",
       "    }\n",
       "</style>\n",
       "<table border=\"1\" class=\"dataframe\">\n",
       "  <thead>\n",
       "    <tr style=\"text-align: right;\">\n",
       "      <th></th>\n",
       "      <th>id</th>\n",
       "      <th>RESOURCE</th>\n",
       "      <th>MGR_ID</th>\n",
       "      <th>ROLE_ROLLUP_1</th>\n",
       "      <th>ROLE_ROLLUP_2</th>\n",
       "      <th>ROLE_DEPTNAME</th>\n",
       "      <th>ROLE_TITLE</th>\n",
       "      <th>ROLE_FAMILY_DESC</th>\n",
       "      <th>ROLE_FAMILY</th>\n",
       "      <th>ROLE_CODE</th>\n",
       "    </tr>\n",
       "  </thead>\n",
       "  <tbody>\n",
       "    <tr>\n",
       "      <th>0</th>\n",
       "      <td>1</td>\n",
       "      <td>78766</td>\n",
       "      <td>72734</td>\n",
       "      <td>118079</td>\n",
       "      <td>118080</td>\n",
       "      <td>117878</td>\n",
       "      <td>117879</td>\n",
       "      <td>118177</td>\n",
       "      <td>19721</td>\n",
       "      <td>117880</td>\n",
       "    </tr>\n",
       "    <tr>\n",
       "      <th>1</th>\n",
       "      <td>2</td>\n",
       "      <td>40644</td>\n",
       "      <td>4378</td>\n",
       "      <td>117961</td>\n",
       "      <td>118327</td>\n",
       "      <td>118507</td>\n",
       "      <td>118863</td>\n",
       "      <td>122008</td>\n",
       "      <td>118398</td>\n",
       "      <td>118865</td>\n",
       "    </tr>\n",
       "    <tr>\n",
       "      <th>2</th>\n",
       "      <td>3</td>\n",
       "      <td>75443</td>\n",
       "      <td>2395</td>\n",
       "      <td>117961</td>\n",
       "      <td>118300</td>\n",
       "      <td>119488</td>\n",
       "      <td>118172</td>\n",
       "      <td>301534</td>\n",
       "      <td>249618</td>\n",
       "      <td>118175</td>\n",
       "    </tr>\n",
       "    <tr>\n",
       "      <th>3</th>\n",
       "      <td>4</td>\n",
       "      <td>43219</td>\n",
       "      <td>19986</td>\n",
       "      <td>117961</td>\n",
       "      <td>118225</td>\n",
       "      <td>118403</td>\n",
       "      <td>120773</td>\n",
       "      <td>136187</td>\n",
       "      <td>118960</td>\n",
       "      <td>120774</td>\n",
       "    </tr>\n",
       "    <tr>\n",
       "      <th>4</th>\n",
       "      <td>5</td>\n",
       "      <td>42093</td>\n",
       "      <td>50015</td>\n",
       "      <td>117961</td>\n",
       "      <td>118343</td>\n",
       "      <td>119598</td>\n",
       "      <td>118422</td>\n",
       "      <td>300136</td>\n",
       "      <td>118424</td>\n",
       "      <td>118425</td>\n",
       "    </tr>\n",
       "  </tbody>\n",
       "</table>\n",
       "</div>"
      ],
      "text/plain": [
       "   id  RESOURCE  MGR_ID  ROLE_ROLLUP_1  ROLE_ROLLUP_2  ROLE_DEPTNAME  \\\n",
       "0   1     78766   72734         118079         118080         117878   \n",
       "1   2     40644    4378         117961         118327         118507   \n",
       "2   3     75443    2395         117961         118300         119488   \n",
       "3   4     43219   19986         117961         118225         118403   \n",
       "4   5     42093   50015         117961         118343         119598   \n",
       "\n",
       "   ROLE_TITLE  ROLE_FAMILY_DESC  ROLE_FAMILY  ROLE_CODE  \n",
       "0      117879            118177        19721     117880  \n",
       "1      118863            122008       118398     118865  \n",
       "2      118172            301534       249618     118175  \n",
       "3      120773            136187       118960     120774  \n",
       "4      118422            300136       118424     118425  "
      ]
     },
     "execution_count": 4,
     "metadata": {},
     "output_type": "execute_result"
    }
   ],
   "source": [
    "print(test.shape)\n",
    "test.head()"
   ]
  },
  {
   "cell_type": "code",
   "execution_count": 5,
   "metadata": {},
   "outputs": [
    {
     "data": {
      "text/html": [
       "<div>\n",
       "<style scoped>\n",
       "    .dataframe tbody tr th:only-of-type {\n",
       "        vertical-align: middle;\n",
       "    }\n",
       "\n",
       "    .dataframe tbody tr th {\n",
       "        vertical-align: top;\n",
       "    }\n",
       "\n",
       "    .dataframe thead th {\n",
       "        text-align: right;\n",
       "    }\n",
       "</style>\n",
       "<table border=\"1\" class=\"dataframe\">\n",
       "  <thead>\n",
       "    <tr style=\"text-align: right;\">\n",
       "      <th></th>\n",
       "      <th>Id</th>\n",
       "      <th>Action</th>\n",
       "    </tr>\n",
       "  </thead>\n",
       "  <tbody>\n",
       "    <tr>\n",
       "      <th>0</th>\n",
       "      <td>1</td>\n",
       "      <td>0</td>\n",
       "    </tr>\n",
       "    <tr>\n",
       "      <th>1</th>\n",
       "      <td>2</td>\n",
       "      <td>0</td>\n",
       "    </tr>\n",
       "    <tr>\n",
       "      <th>2</th>\n",
       "      <td>3</td>\n",
       "      <td>0</td>\n",
       "    </tr>\n",
       "    <tr>\n",
       "      <th>3</th>\n",
       "      <td>4</td>\n",
       "      <td>0</td>\n",
       "    </tr>\n",
       "    <tr>\n",
       "      <th>4</th>\n",
       "      <td>5</td>\n",
       "      <td>0</td>\n",
       "    </tr>\n",
       "  </tbody>\n",
       "</table>\n",
       "</div>"
      ],
      "text/plain": [
       "   Id  Action\n",
       "0   1       0\n",
       "1   2       0\n",
       "2   3       0\n",
       "3   4       0\n",
       "4   5       0"
      ]
     },
     "execution_count": 5,
     "metadata": {},
     "output_type": "execute_result"
    }
   ],
   "source": [
    "sample.head()"
   ]
  },
  {
   "cell_type": "markdown",
   "metadata": {},
   "source": [
    "# Exploration"
   ]
  },
  {
   "cell_type": "markdown",
   "metadata": {},
   "source": [
    "ACTION: ACTION is 1 if the resource was approved, 0 if the resource was not.\n",
    "\n",
    "RESOURCE: An ID for each resource.\n",
    "\n",
    "MGR_ID: The EMPLOYEE ID of the manager of the current EMPLOYEE ID record; an employee may have only one manager at a time.\n",
    "\n",
    "ROLE_ROLLUP_1: Company role grouping category id 1 (e.g. US Engineering).\n",
    "\n",
    "ROLE_ROLLUP_2: Company role grouping category id 2 (e.g. US Retail).\n",
    "\n",
    "ROLE_DEPTNAME: Company role department description (e.g. Retail).\n",
    "\n",
    "ROLE_TITLE: Company role business title description (e.g. Senior Engineering Retail Manager).\n",
    "\n",
    "ROLE_FAMILY_DESC: Company role family extended description (e.g. Retail Manager, Software Engineering).\n",
    "\n",
    "ROLE_FAMILY: Company role family description (e.g. Retail Manager).\n",
    "\n",
    "ROLE_CODE: Company role code; this code is unique to each role (e.g. Manager)."
   ]
  },
  {
   "cell_type": "code",
   "execution_count": 6,
   "metadata": {},
   "outputs": [
    {
     "name": "stdout",
     "output_type": "stream",
     "text": [
      "(32769, 10)\n",
      "ACTION              0\n",
      "RESOURCE            0\n",
      "MGR_ID              0\n",
      "ROLE_ROLLUP_1       0\n",
      "ROLE_ROLLUP_2       0\n",
      "ROLE_DEPTNAME       0\n",
      "ROLE_TITLE          0\n",
      "ROLE_FAMILY_DESC    0\n",
      "ROLE_FAMILY         0\n",
      "ROLE_CODE           0\n",
      "dtype: int64\n",
      "<class 'pandas.core.frame.DataFrame'>\n",
      "RangeIndex: 32769 entries, 0 to 32768\n",
      "Data columns (total 10 columns):\n",
      " #   Column            Non-Null Count  Dtype\n",
      "---  ------            --------------  -----\n",
      " 0   ACTION            32769 non-null  int64\n",
      " 1   RESOURCE          32769 non-null  int64\n",
      " 2   MGR_ID            32769 non-null  int64\n",
      " 3   ROLE_ROLLUP_1     32769 non-null  int64\n",
      " 4   ROLE_ROLLUP_2     32769 non-null  int64\n",
      " 5   ROLE_DEPTNAME     32769 non-null  int64\n",
      " 6   ROLE_TITLE        32769 non-null  int64\n",
      " 7   ROLE_FAMILY_DESC  32769 non-null  int64\n",
      " 8   ROLE_FAMILY       32769 non-null  int64\n",
      " 9   ROLE_CODE         32769 non-null  int64\n",
      "dtypes: int64(10)\n",
      "memory usage: 2.5 MB\n"
     ]
    }
   ],
   "source": [
    "print(train.shape)\n",
    "print(train.isnull().sum())\n",
    "train.info()"
   ]
  },
  {
   "cell_type": "code",
   "execution_count": 7,
   "metadata": {},
   "outputs": [
    {
     "name": "stdout",
     "output_type": "stream",
     "text": [
      "(58921, 10)\n",
      "id                  0\n",
      "RESOURCE            0\n",
      "MGR_ID              0\n",
      "ROLE_ROLLUP_1       0\n",
      "ROLE_ROLLUP_2       0\n",
      "ROLE_DEPTNAME       0\n",
      "ROLE_TITLE          0\n",
      "ROLE_FAMILY_DESC    0\n",
      "ROLE_FAMILY         0\n",
      "ROLE_CODE           0\n",
      "dtype: int64\n",
      "<class 'pandas.core.frame.DataFrame'>\n",
      "RangeIndex: 58921 entries, 0 to 58920\n",
      "Data columns (total 10 columns):\n",
      " #   Column            Non-Null Count  Dtype\n",
      "---  ------            --------------  -----\n",
      " 0   id                58921 non-null  int64\n",
      " 1   RESOURCE          58921 non-null  int64\n",
      " 2   MGR_ID            58921 non-null  int64\n",
      " 3   ROLE_ROLLUP_1     58921 non-null  int64\n",
      " 4   ROLE_ROLLUP_2     58921 non-null  int64\n",
      " 5   ROLE_DEPTNAME     58921 non-null  int64\n",
      " 6   ROLE_TITLE        58921 non-null  int64\n",
      " 7   ROLE_FAMILY_DESC  58921 non-null  int64\n",
      " 8   ROLE_FAMILY       58921 non-null  int64\n",
      " 9   ROLE_CODE         58921 non-null  int64\n",
      "dtypes: int64(10)\n",
      "memory usage: 4.5 MB\n"
     ]
    }
   ],
   "source": [
    "print(test.shape)\n",
    "print(test.isnull().sum())\n",
    "test.info()"
   ]
  },
  {
   "cell_type": "markdown",
   "metadata": {},
   "source": [
    "## No null values, let's check outliers, skewness"
   ]
  },
  {
   "cell_type": "code",
   "execution_count": 8,
   "metadata": {},
   "outputs": [
    {
     "data": {
      "text/plain": [
       "<AxesSubplot:xlabel='ACTION', ylabel='Density'>"
      ]
     },
     "execution_count": 8,
     "metadata": {},
     "output_type": "execute_result"
    },
    {
     "data": {
      "image/png": "[encoded data removed]",
      "text/plain": [
       "<Figure size 432x288 with 1 Axes>"
      ]
     },
     "metadata": {
      "needs_background": "light"
     },
     "output_type": "display_data"
    }
   ],
   "source": [
    "sns.distplot(train['ACTION'])"
   ]
  },
  {
   "cell_type": "code",
   "execution_count": 9,
   "metadata": {},
   "outputs": [
    {
     "name": "stdout",
     "output_type": "stream",
     "text": [
      "----------Box Plots for detecting outliers---------\n"
     ]
    },
    {
     "data": {
      "image/png": "[encoded data removed]",
      "text/plain": [
       "<Figure size 432x288 with 1 Axes>"
      ]
     },
     "metadata": {
      "needs_background": "light"
     },
     "output_type": "display_data"
    },
    {
     "data": {
      "image/png": "[encoded data removed]",
      "text/plain": [
       "<Figure size 432x288 with 1 Axes>"
      ]
     },
     "metadata": {
      "needs_background": "light"
     },
     "output_type": "display_data"
    },
    {
     "data": {
      "image/png": "[encoded data removed]",
      "text/plain": [
       "<Figure size 432x288 with 1 Axes>"
      ]
     },
     "metadata": {
      "needs_background": "light"
     },
     "output_type": "display_data"
    },
    {
     "data": {
      "image/png": "[encoded data removed]",
      "text/plain": [
       "<Figure size 432x288 with 1 Axes>"
      ]
     },
     "metadata": {
      "needs_background": "light"
     },
     "output_type": "display_data"
    },
    {
     "data": {
      "image/png": "[encoded data removed]",
      "text/plain": [
       "<Figure size 432x288 with 1 Axes>"
      ]
     },
     "metadata": {
      "needs_background": "light"
     },
     "output_type": "display_data"
    },
    {
     "data": {
      "image/png": "[encoded data removed]",
      "text/plain": [
       "<Figure size 432x288 with 1 Axes>"
      ]
     },
     "metadata": {
      "needs_background": "light"
     },
     "output_type": "display_data"
    },
    {
     "data": {
      "image/png": "[encoded data removed]",
      "text/plain": [
       "<Figure size 432x288 with 1 Axes>"
      ]
     },
     "metadata": {
      "needs_background": "light"
     },
     "output_type": "display_data"
    },
    {
     "data": {
      "image/png": "[encoded data removed]",
      "text/plain": [
       "<Figure size 432x288 with 1 Axes>"
      ]
     },
     "metadata": {
      "needs_background": "light"
     },
     "output_type": "display_data"
    },
    {
     "data": {
      "image/png": "[encoded data removed]",
      "text/plain": [
       "<Figure size 432x288 with 1 Axes>"
      ]
     },
     "metadata": {
      "needs_background": "light"
     },
     "output_type": "display_data"
    },
    {
     "data": {
      "image/png": "[encoded data removed]",
      "text/plain": [
       "<Figure size 432x288 with 1 Axes>"
      ]
     },
     "metadata": {
      "needs_background": "light"
     },
     "output_type": "display_data"
    }
   ],
   "source": [
    "print(\"----------Box Plots for detecting outliers---------\")\n",
    "cols = train.columns\n",
    "for i in cols:\n",
    "    plt.figure()\n",
    "    sns.boxplot(train[i])"
   ]
  },
  {
   "cell_type": "markdown",
   "metadata": {},
   "source": [
    "#### Check the test set to make sure we don't delete important data"
   ]
  },
  {
   "cell_type": "code",
   "execution_count": 10,
   "metadata": {},
   "outputs": [
    {
     "data": {
      "text/plain": [
       "<AxesSubplot:xlabel='RESOURCE'>"
      ]
     },
     "execution_count": 10,
     "metadata": {},
     "output_type": "execute_result"
    },
    {
     "data": {
      "image/png": "[encoded data removed]",
      "text/plain": [
       "<Figure size 432x288 with 1 Axes>"
      ]
     },
     "metadata": {
      "needs_background": "light"
     },
     "output_type": "display_data"
    }
   ],
   "source": [
    "# Resource\n",
    "sns.boxplot(test['RESOURCE'])"
   ]
  },
  {
   "cell_type": "code",
   "execution_count": 11,
   "metadata": {},
   "outputs": [
    {
     "data": {
      "text/plain": [
       "<AxesSubplot:xlabel='ROLE_ROLLUP_1'>"
      ]
     },
     "execution_count": 11,
     "metadata": {},
     "output_type": "execute_result"
    },
    {
     "data": {
      "image/png": "[encoded data removed]",
      "text/plain": [
       "<Figure size 432x288 with 1 Axes>"
      ]
     },
     "metadata": {
      "needs_background": "light"
     },
     "output_type": "display_data"
    }
   ],
   "source": [
    "# Role Rollup 1\n",
    "sns.boxplot(test['ROLE_ROLLUP_1'])"
   ]
  },
  {
   "cell_type": "code",
   "execution_count": 12,
   "metadata": {},
   "outputs": [
    {
     "data": {
      "text/plain": [
       "<AxesSubplot:xlabel='ROLE_ROLLUP_2'>"
      ]
     },
     "execution_count": 12,
     "metadata": {},
     "output_type": "execute_result"
    },
    {
     "data": {
      "image/png": "[encoded data removed]",
      "text/plain": [
       "<Figure size 432x288 with 1 Axes>"
      ]
     },
     "metadata": {
      "needs_background": "light"
     },
     "output_type": "display_data"
    }
   ],
   "source": [
    "# Role Rollup 2\n",
    "sns.boxplot(test['ROLE_ROLLUP_2'])"
   ]
  },
  {
   "cell_type": "code",
   "execution_count": 13,
   "metadata": {},
   "outputs": [
    {
     "data": {
      "text/plain": [
       "<AxesSubplot:xlabel='ROLE_DEPTNAME'>"
      ]
     },
     "execution_count": 13,
     "metadata": {},
     "output_type": "execute_result"
    },
    {
     "data": {
      "image/png": "[encoded data removed]",
      "text/plain": [
       "<Figure size 432x288 with 1 Axes>"
      ]
     },
     "metadata": {
      "needs_background": "light"
     },
     "output_type": "display_data"
    }
   ],
   "source": [
    "# Role Detpname\n",
    "sns.boxplot(test['ROLE_DEPTNAME'])"
   ]
  },
  {
   "cell_type": "code",
   "execution_count": 14,
   "metadata": {},
   "outputs": [
    {
     "data": {
      "text/plain": [
       "<AxesSubplot:xlabel='ROLE_CODE'>"
      ]
     },
     "execution_count": 14,
     "metadata": {},
     "output_type": "execute_result"
    },
    {
     "data": {
      "image/png": "[encoded data removed]",
      "text/plain": [
       "<Figure size 432x288 with 1 Axes>"
      ]
     },
     "metadata": {
      "needs_background": "light"
     },
     "output_type": "display_data"
    }
   ],
   "source": [
    "# Role Code\n",
    "sns.boxplot(test['ROLE_CODE'])"
   ]
  },
  {
   "cell_type": "markdown",
   "metadata": {},
   "source": [
    "- I guess it's gonna be better if we do nothing with ('resource', 'role rollup 1', 'role_detpname', 'role_code') columns\n",
    "- We handle the rest of the outliers"
   ]
  },
  {
   "cell_type": "code",
   "execution_count": 15,
   "metadata": {},
   "outputs": [
    {
     "name": "stdout",
     "output_type": "stream",
     "text": [
      "Role Rollup 2 outliers: 1\n"
     ]
    }
   ],
   "source": [
    "# resource_outliers = train[train['RESOURCE'] > 150000]\n",
    "# role_rollup_1_outliers1 = train[train['ROLE_ROLLUP_1'] > 150000]  \n",
    "# role_rollup_1_outliers2 = train[train['ROLE_ROLLUP_1'] < 100000]\n",
    "# role_rollup_1_outliers = pd.concat([role_rollup_1_outliers1, role_rollup_1_outliers2], axis=0)\n",
    "role_rollup_2_outliers1 = train[train['ROLE_ROLLUP_2'] > 200000]\n",
    "# role_rollup_2_outliers2 = train[train['ROLE_ROLLUP_2'] < 100000]\n",
    "# role_rollup_2_outliers = pd.concat([role_rollup_2_outliers1, role_rollup_2_outliers2], axis=0)\n",
    "# role_deptname_outliers = train[train['ROLE_DEPTNAME'] < 100000]\n",
    "# role_code_outliers = train[train['ROLE_CODE'] > 200000]\n",
    "# print(\"Rsource outliers:\", len(resource_outliers))\n",
    "# print(\"Role Rollup 1 outliers:\", len(role_rollup_1_outliers))\n",
    "print(\"Role Rollup 2 outliers:\", len(role_rollup_2_outliers1))\n",
    "# print(\"Role detname outliers:\", len(role_deptname_outliers))\n",
    "# print(\"Role code outliers:\", len(role_code_outliers))"
   ]
  },
  {
   "cell_type": "code",
   "execution_count": 16,
   "metadata": {},
   "outputs": [],
   "source": [
    "# print(train.shape)\n",
    "# lst = [resource_outliers, role_rollup_1_outliers, role_rollup_2_outliers, role_deptname_outliers, role_code_outliers]\n",
    "# for i in lst:\n",
    "#     todrop = list(i.index)\n",
    "#     try:\n",
    "#         train.drop(todrop, axis=0, inplace=True)\n",
    "#     except Exception as e:\n",
    "#         print(len(i))\n",
    "#         print(e)\n",
    "#         continue\n",
    "# print(train.shape)"
   ]
  },
  {
   "cell_type": "code",
   "execution_count": 17,
   "metadata": {},
   "outputs": [
    {
     "name": "stdout",
     "output_type": "stream",
     "text": [
      "(32769, 10)\n",
      "(32768, 10)\n"
     ]
    }
   ],
   "source": [
    "print(train.shape)\n",
    "todrop = list(role_rollup_2_outliers1.index)\n",
    "train.drop(todrop, axis=0, inplace=True)\n",
    "print(train.shape)"
   ]
  },
  {
   "cell_type": "code",
   "execution_count": 18,
   "metadata": {},
   "outputs": [
    {
     "data": {
      "text/html": [
       "<div>\n",
       "<style scoped>\n",
       "    .dataframe tbody tr th:only-of-type {\n",
       "        vertical-align: middle;\n",
       "    }\n",
       "\n",
       "    .dataframe tbody tr th {\n",
       "        vertical-align: top;\n",
       "    }\n",
       "\n",
       "    .dataframe thead th {\n",
       "        text-align: right;\n",
       "    }\n",
       "</style>\n",
       "<table border=\"1\" class=\"dataframe\">\n",
       "  <thead>\n",
       "    <tr style=\"text-align: right;\">\n",
       "      <th></th>\n",
       "      <th>ACTION</th>\n",
       "      <th>RESOURCE</th>\n",
       "      <th>MGR_ID</th>\n",
       "      <th>ROLE_ROLLUP_1</th>\n",
       "      <th>ROLE_ROLLUP_2</th>\n",
       "      <th>ROLE_DEPTNAME</th>\n",
       "      <th>ROLE_TITLE</th>\n",
       "      <th>ROLE_FAMILY_DESC</th>\n",
       "      <th>ROLE_FAMILY</th>\n",
       "      <th>ROLE_CODE</th>\n",
       "    </tr>\n",
       "  </thead>\n",
       "  <tbody>\n",
       "    <tr>\n",
       "      <th>0</th>\n",
       "      <td>1</td>\n",
       "      <td>39353</td>\n",
       "      <td>85475</td>\n",
       "      <td>117961</td>\n",
       "      <td>118300</td>\n",
       "      <td>123472</td>\n",
       "      <td>117905</td>\n",
       "      <td>117906</td>\n",
       "      <td>290919</td>\n",
       "      <td>117908</td>\n",
       "    </tr>\n",
       "    <tr>\n",
       "      <th>1</th>\n",
       "      <td>1</td>\n",
       "      <td>17183</td>\n",
       "      <td>1540</td>\n",
       "      <td>117961</td>\n",
       "      <td>118343</td>\n",
       "      <td>123125</td>\n",
       "      <td>118536</td>\n",
       "      <td>118536</td>\n",
       "      <td>308574</td>\n",
       "      <td>118539</td>\n",
       "    </tr>\n",
       "    <tr>\n",
       "      <th>2</th>\n",
       "      <td>1</td>\n",
       "      <td>36724</td>\n",
       "      <td>14457</td>\n",
       "      <td>118219</td>\n",
       "      <td>118220</td>\n",
       "      <td>117884</td>\n",
       "      <td>117879</td>\n",
       "      <td>267952</td>\n",
       "      <td>19721</td>\n",
       "      <td>117880</td>\n",
       "    </tr>\n",
       "    <tr>\n",
       "      <th>3</th>\n",
       "      <td>1</td>\n",
       "      <td>36135</td>\n",
       "      <td>5396</td>\n",
       "      <td>117961</td>\n",
       "      <td>118343</td>\n",
       "      <td>119993</td>\n",
       "      <td>118321</td>\n",
       "      <td>240983</td>\n",
       "      <td>290919</td>\n",
       "      <td>118322</td>\n",
       "    </tr>\n",
       "    <tr>\n",
       "      <th>4</th>\n",
       "      <td>1</td>\n",
       "      <td>42680</td>\n",
       "      <td>5905</td>\n",
       "      <td>117929</td>\n",
       "      <td>117930</td>\n",
       "      <td>119569</td>\n",
       "      <td>119323</td>\n",
       "      <td>123932</td>\n",
       "      <td>19793</td>\n",
       "      <td>119325</td>\n",
       "    </tr>\n",
       "    <tr>\n",
       "      <th>...</th>\n",
       "      <td>...</td>\n",
       "      <td>...</td>\n",
       "      <td>...</td>\n",
       "      <td>...</td>\n",
       "      <td>...</td>\n",
       "      <td>...</td>\n",
       "      <td>...</td>\n",
       "      <td>...</td>\n",
       "      <td>...</td>\n",
       "      <td>...</td>\n",
       "    </tr>\n",
       "    <tr>\n",
       "      <th>32763</th>\n",
       "      <td>1</td>\n",
       "      <td>23497</td>\n",
       "      <td>16971</td>\n",
       "      <td>117961</td>\n",
       "      <td>118300</td>\n",
       "      <td>119993</td>\n",
       "      <td>118321</td>\n",
       "      <td>240983</td>\n",
       "      <td>290919</td>\n",
       "      <td>118322</td>\n",
       "    </tr>\n",
       "    <tr>\n",
       "      <th>32764</th>\n",
       "      <td>1</td>\n",
       "      <td>25139</td>\n",
       "      <td>311198</td>\n",
       "      <td>91261</td>\n",
       "      <td>118026</td>\n",
       "      <td>122392</td>\n",
       "      <td>121143</td>\n",
       "      <td>173805</td>\n",
       "      <td>249618</td>\n",
       "      <td>121145</td>\n",
       "    </tr>\n",
       "    <tr>\n",
       "      <th>32765</th>\n",
       "      <td>1</td>\n",
       "      <td>34924</td>\n",
       "      <td>28805</td>\n",
       "      <td>117961</td>\n",
       "      <td>118327</td>\n",
       "      <td>120299</td>\n",
       "      <td>124922</td>\n",
       "      <td>152038</td>\n",
       "      <td>118612</td>\n",
       "      <td>124924</td>\n",
       "    </tr>\n",
       "    <tr>\n",
       "      <th>32766</th>\n",
       "      <td>1</td>\n",
       "      <td>80574</td>\n",
       "      <td>55643</td>\n",
       "      <td>118256</td>\n",
       "      <td>118257</td>\n",
       "      <td>117945</td>\n",
       "      <td>280788</td>\n",
       "      <td>280788</td>\n",
       "      <td>292795</td>\n",
       "      <td>119082</td>\n",
       "    </tr>\n",
       "    <tr>\n",
       "      <th>32767</th>\n",
       "      <td>1</td>\n",
       "      <td>14354</td>\n",
       "      <td>59575</td>\n",
       "      <td>117916</td>\n",
       "      <td>118150</td>\n",
       "      <td>117920</td>\n",
       "      <td>118568</td>\n",
       "      <td>122142</td>\n",
       "      <td>19721</td>\n",
       "      <td>118570</td>\n",
       "    </tr>\n",
       "  </tbody>\n",
       "</table>\n",
       "<p>32768 rows × 10 columns</p>\n",
       "</div>"
      ],
      "text/plain": [
       "       ACTION  RESOURCE  MGR_ID  ROLE_ROLLUP_1  ROLE_ROLLUP_2  ROLE_DEPTNAME  \\\n",
       "0           1     39353   85475         117961         118300         123472   \n",
       "1           1     17183    1540         117961         118343         123125   \n",
       "2           1     36724   14457         118219         118220         117884   \n",
       "3           1     36135    5396         117961         118343         119993   \n",
       "4           1     42680    5905         117929         117930         119569   \n",
       "...       ...       ...     ...            ...            ...            ...   \n",
       "32763       1     23497   16971         117961         118300         119993   \n",
       "32764       1     25139  311198          91261         118026         122392   \n",
       "32765       1     34924   28805         117961         118327         120299   \n",
       "32766       1     80574   55643         118256         118257         117945   \n",
       "32767       1     14354   59575         117916         118150         117920   \n",
       "\n",
       "       ROLE_TITLE  ROLE_FAMILY_DESC  ROLE_FAMILY  ROLE_CODE  \n",
       "0          117905            117906       290919     117908  \n",
       "1          118536            118536       308574     118539  \n",
       "2          117879            267952        19721     117880  \n",
       "3          118321            240983       290919     118322  \n",
       "4          119323            123932        19793     119325  \n",
       "...           ...               ...          ...        ...  \n",
       "32763      118321            240983       290919     118322  \n",
       "32764      121143            173805       249618     121145  \n",
       "32765      124922            152038       118612     124924  \n",
       "32766      280788            280788       292795     119082  \n",
       "32767      118568            122142        19721     118570  \n",
       "\n",
       "[32768 rows x 10 columns]"
      ]
     },
     "execution_count": 18,
     "metadata": {},
     "output_type": "execute_result"
    }
   ],
   "source": [
    "train.reset_index(drop=True)"
   ]
  },
  {
   "cell_type": "markdown",
   "metadata": {},
   "source": [
    "## Skewness "
   ]
  },
  {
   "cell_type": "code",
   "execution_count": 19,
   "metadata": {},
   "outputs": [
    {
     "data": {
      "text/plain": [
       "ACTION              -3.787536\n",
       "RESOURCE             2.806774\n",
       "MGR_ID               3.360216\n",
       "ROLE_ROLLUP_1       -6.457891\n",
       "ROLE_ROLLUP_2      -16.622190\n",
       "ROLE_DEPTNAME       -0.205352\n",
       "ROLE_TITLE           4.952601\n",
       "ROLE_FAMILY_DESC     0.993770\n",
       "ROLE_FAMILY         -0.078013\n",
       "ROLE_CODE           13.357147\n",
       "dtype: float64"
      ]
     },
     "execution_count": 19,
     "metadata": {},
     "output_type": "execute_result"
    }
   ],
   "source": [
    "train.skew()"
   ]
  },
  {
   "cell_type": "markdown",
   "metadata": {},
   "source": [
    "# EDA"
   ]
  },
  {
   "cell_type": "code",
   "execution_count": 20,
   "metadata": {},
   "outputs": [
    {
     "data": {
      "text/html": [
       "<div>\n",
       "<style scoped>\n",
       "    .dataframe tbody tr th:only-of-type {\n",
       "        vertical-align: middle;\n",
       "    }\n",
       "\n",
       "    .dataframe tbody tr th {\n",
       "        vertical-align: top;\n",
       "    }\n",
       "\n",
       "    .dataframe thead th {\n",
       "        text-align: right;\n",
       "    }\n",
       "</style>\n",
       "<table border=\"1\" class=\"dataframe\">\n",
       "  <thead>\n",
       "    <tr style=\"text-align: right;\">\n",
       "      <th></th>\n",
       "      <th>count</th>\n",
       "      <th>mean</th>\n",
       "      <th>std</th>\n",
       "      <th>min</th>\n",
       "      <th>25%</th>\n",
       "      <th>50%</th>\n",
       "      <th>75%</th>\n",
       "      <th>max</th>\n",
       "    </tr>\n",
       "  </thead>\n",
       "  <tbody>\n",
       "    <tr>\n",
       "      <th>ACTION</th>\n",
       "      <td>32768.0</td>\n",
       "      <td>0.942139</td>\n",
       "      <td>0.233485</td>\n",
       "      <td>0.0</td>\n",
       "      <td>1.0</td>\n",
       "      <td>1.0</td>\n",
       "      <td>1.0</td>\n",
       "      <td>1.0</td>\n",
       "    </tr>\n",
       "    <tr>\n",
       "      <th>RESOURCE</th>\n",
       "      <td>32768.0</td>\n",
       "      <td>42922.758484</td>\n",
       "      <td>34173.771580</td>\n",
       "      <td>0.0</td>\n",
       "      <td>20299.0</td>\n",
       "      <td>35376.0</td>\n",
       "      <td>74187.5</td>\n",
       "      <td>312153.0</td>\n",
       "    </tr>\n",
       "    <tr>\n",
       "      <th>MGR_ID</th>\n",
       "      <td>32768.0</td>\n",
       "      <td>25989.506042</td>\n",
       "      <td>35928.442897</td>\n",
       "      <td>25.0</td>\n",
       "      <td>4566.0</td>\n",
       "      <td>13545.0</td>\n",
       "      <td>42034.0</td>\n",
       "      <td>311696.0</td>\n",
       "    </tr>\n",
       "    <tr>\n",
       "      <th>ROLE_ROLLUP_1</th>\n",
       "      <td>32768.0</td>\n",
       "      <td>116952.597015</td>\n",
       "      <td>10875.728116</td>\n",
       "      <td>4292.0</td>\n",
       "      <td>117961.0</td>\n",
       "      <td>117961.0</td>\n",
       "      <td>117961.0</td>\n",
       "      <td>311178.0</td>\n",
       "    </tr>\n",
       "    <tr>\n",
       "      <th>ROLE_ROLLUP_2</th>\n",
       "      <td>32768.0</td>\n",
       "      <td>118296.681274</td>\n",
       "      <td>4455.467035</td>\n",
       "      <td>23779.0</td>\n",
       "      <td>118102.0</td>\n",
       "      <td>118300.0</td>\n",
       "      <td>118386.0</td>\n",
       "      <td>185842.0</td>\n",
       "    </tr>\n",
       "    <tr>\n",
       "      <th>ROLE_DEPTNAME</th>\n",
       "      <td>32768.0</td>\n",
       "      <td>118907.656647</td>\n",
       "      <td>18938.917512</td>\n",
       "      <td>4674.0</td>\n",
       "      <td>118394.0</td>\n",
       "      <td>118921.0</td>\n",
       "      <td>120535.0</td>\n",
       "      <td>277693.0</td>\n",
       "    </tr>\n",
       "    <tr>\n",
       "      <th>ROLE_TITLE</th>\n",
       "      <td>32768.0</td>\n",
       "      <td>125916.397125</td>\n",
       "      <td>31036.907860</td>\n",
       "      <td>117879.0</td>\n",
       "      <td>118274.0</td>\n",
       "      <td>118568.0</td>\n",
       "      <td>120006.0</td>\n",
       "      <td>311867.0</td>\n",
       "    </tr>\n",
       "    <tr>\n",
       "      <th>ROLE_FAMILY_DESC</th>\n",
       "      <td>32768.0</td>\n",
       "      <td>170179.964874</td>\n",
       "      <td>69509.922935</td>\n",
       "      <td>4673.0</td>\n",
       "      <td>117906.0</td>\n",
       "      <td>128696.0</td>\n",
       "      <td>235280.0</td>\n",
       "      <td>311867.0</td>\n",
       "    </tr>\n",
       "    <tr>\n",
       "      <th>ROLE_FAMILY</th>\n",
       "      <td>32768.0</td>\n",
       "      <td>183700.136932</td>\n",
       "      <td>100488.195184</td>\n",
       "      <td>3130.0</td>\n",
       "      <td>118363.0</td>\n",
       "      <td>119006.0</td>\n",
       "      <td>290919.0</td>\n",
       "      <td>308574.0</td>\n",
       "    </tr>\n",
       "    <tr>\n",
       "      <th>ROLE_CODE</th>\n",
       "      <td>32768.0</td>\n",
       "      <td>119789.487549</td>\n",
       "      <td>5784.354440</td>\n",
       "      <td>117880.0</td>\n",
       "      <td>118232.0</td>\n",
       "      <td>118570.0</td>\n",
       "      <td>119348.0</td>\n",
       "      <td>270691.0</td>\n",
       "    </tr>\n",
       "  </tbody>\n",
       "</table>\n",
       "</div>"
      ],
      "text/plain": [
       "                    count           mean            std       min       25%  \\\n",
       "ACTION            32768.0       0.942139       0.233485       0.0       1.0   \n",
       "RESOURCE          32768.0   42922.758484   34173.771580       0.0   20299.0   \n",
       "MGR_ID            32768.0   25989.506042   35928.442897      25.0    4566.0   \n",
       "ROLE_ROLLUP_1     32768.0  116952.597015   10875.728116    4292.0  117961.0   \n",
       "ROLE_ROLLUP_2     32768.0  118296.681274    4455.467035   23779.0  118102.0   \n",
       "ROLE_DEPTNAME     32768.0  118907.656647   18938.917512    4674.0  118394.0   \n",
       "ROLE_TITLE        32768.0  125916.397125   31036.907860  117879.0  118274.0   \n",
       "ROLE_FAMILY_DESC  32768.0  170179.964874   69509.922935    4673.0  117906.0   \n",
       "ROLE_FAMILY       32768.0  183700.136932  100488.195184    3130.0  118363.0   \n",
       "ROLE_CODE         32768.0  119789.487549    5784.354440  117880.0  118232.0   \n",
       "\n",
       "                       50%       75%       max  \n",
       "ACTION                 1.0       1.0       1.0  \n",
       "RESOURCE           35376.0   74187.5  312153.0  \n",
       "MGR_ID             13545.0   42034.0  311696.0  \n",
       "ROLE_ROLLUP_1     117961.0  117961.0  311178.0  \n",
       "ROLE_ROLLUP_2     118300.0  118386.0  185842.0  \n",
       "ROLE_DEPTNAME     118921.0  120535.0  277693.0  \n",
       "ROLE_TITLE        118568.0  120006.0  311867.0  \n",
       "ROLE_FAMILY_DESC  128696.0  235280.0  311867.0  \n",
       "ROLE_FAMILY       119006.0  290919.0  308574.0  \n",
       "ROLE_CODE         118570.0  119348.0  270691.0  "
      ]
     },
     "execution_count": 20,
     "metadata": {},
     "output_type": "execute_result"
    }
   ],
   "source": [
    "train.describe().T"
   ]
  },
  {
   "cell_type": "code",
   "execution_count": 21,
   "metadata": {},
   "outputs": [
    {
     "data": {
      "text/plain": [
       "<AxesSubplot:>"
      ]
     },
     "execution_count": 21,
     "metadata": {},
     "output_type": "execute_result"
    },
    {
     "data": {
      "image/png": "[encoded data removed]",
      "text/plain": [
       "<Figure size 720x576 with 2 Axes>"
      ]
     },
     "metadata": {
      "needs_background": "light"
     },
     "output_type": "display_data"
    }
   ],
   "source": [
    "plt.figure(figsize=(10, 8))\n",
    "sns.heatmap(train.corr(), annot=True)"
   ]
  },
  {
   "cell_type": "markdown",
   "metadata": {},
   "source": [
    "### Resource"
   ]
  },
  {
   "cell_type": "code",
   "execution_count": 22,
   "metadata": {},
   "outputs": [
    {
     "data": {
      "text/plain": [
       "0    39353\n",
       "1    17183\n",
       "2    36724\n",
       "3    36135\n",
       "4    42680\n",
       "5    45333\n",
       "6    25993\n",
       "7    19666\n",
       "8    31246\n",
       "9    78766\n",
       "Name: RESOURCE, dtype: int64"
      ]
     },
     "execution_count": 22,
     "metadata": {},
     "output_type": "execute_result"
    }
   ],
   "source": [
    "train['RESOURCE'][:10]"
   ]
  },
  {
   "cell_type": "code",
   "execution_count": 23,
   "metadata": {},
   "outputs": [
    {
     "data": {
      "text/plain": [
       "<seaborn.axisgrid.FacetGrid at 0x7ff16548ab50>"
      ]
     },
     "execution_count": 23,
     "metadata": {},
     "output_type": "execute_result"
    },
    {
     "data": {
      "text/plain": [
       "<Figure size 648x432 with 0 Axes>"
      ]
     },
     "metadata": {},
     "output_type": "display_data"
    },
    {
     "data": {
      "image/png": "[encoded data removed]",
      "text/plain": [
       "<Figure size 360x360 with 1 Axes>"
      ]
     },
     "metadata": {
      "needs_background": "light"
     },
     "output_type": "display_data"
    }
   ],
   "source": [
    "plt.figure(figsize=(9, 6))\n",
    "sns.catplot('ACTION', 'RESOURCE', data=train)"
   ]
  },
  {
   "cell_type": "markdown",
   "metadata": {},
   "source": [
    "### MGR_ID"
   ]
  },
  {
   "cell_type": "code",
   "execution_count": 24,
   "metadata": {},
   "outputs": [
    {
     "data": {
      "text/plain": [
       "0    85475\n",
       "1     1540\n",
       "2    14457\n",
       "3     5396\n",
       "4     5905\n",
       "5    14561\n",
       "6    17227\n",
       "7     4209\n",
       "8      783\n",
       "9    56683\n",
       "Name: MGR_ID, dtype: int64"
      ]
     },
     "execution_count": 24,
     "metadata": {},
     "output_type": "execute_result"
    }
   ],
   "source": [
    "train['MGR_ID'][:10]"
   ]
  },
  {
   "cell_type": "code",
   "execution_count": 25,
   "metadata": {},
   "outputs": [
    {
     "data": {
      "text/plain": [
       "<seaborn.axisgrid.FacetGrid at 0x7ff165428af0>"
      ]
     },
     "execution_count": 25,
     "metadata": {},
     "output_type": "execute_result"
    },
    {
     "data": {
      "text/plain": [
       "<Figure size 648x432 with 0 Axes>"
      ]
     },
     "metadata": {},
     "output_type": "display_data"
    },
    {
     "data": {
      "image/png": "[encoded data removed]",
      "text/plain": [
       "<Figure size 360x360 with 1 Axes>"
      ]
     },
     "metadata": {
      "needs_background": "light"
     },
     "output_type": "display_data"
    }
   ],
   "source": [
    "plt.figure(figsize=(9, 6))\n",
    "sns.catplot('ACTION', 'MGR_ID', data=train)"
   ]
  },
  {
   "cell_type": "markdown",
   "metadata": {},
   "source": [
    "We could generate a new feature here called 'is_MGR_ID_BiggerThan150000'"
   ]
  },
  {
   "cell_type": "code",
   "execution_count": 26,
   "metadata": {},
   "outputs": [
    {
     "data": {
      "text/html": [
       "<div>\n",
       "<style scoped>\n",
       "    .dataframe tbody tr th:only-of-type {\n",
       "        vertical-align: middle;\n",
       "    }\n",
       "\n",
       "    .dataframe tbody tr th {\n",
       "        vertical-align: top;\n",
       "    }\n",
       "\n",
       "    .dataframe thead th {\n",
       "        text-align: right;\n",
       "    }\n",
       "</style>\n",
       "<table border=\"1\" class=\"dataframe\">\n",
       "  <thead>\n",
       "    <tr style=\"text-align: right;\">\n",
       "      <th></th>\n",
       "      <th>ACTION</th>\n",
       "      <th>RESOURCE</th>\n",
       "      <th>MGR_ID</th>\n",
       "      <th>ROLE_ROLLUP_1</th>\n",
       "      <th>ROLE_ROLLUP_2</th>\n",
       "      <th>ROLE_DEPTNAME</th>\n",
       "      <th>ROLE_TITLE</th>\n",
       "      <th>ROLE_FAMILY_DESC</th>\n",
       "      <th>ROLE_FAMILY</th>\n",
       "      <th>ROLE_CODE</th>\n",
       "      <th>is_MGR_ID_BiggerThan150000</th>\n",
       "    </tr>\n",
       "  </thead>\n",
       "  <tbody>\n",
       "    <tr>\n",
       "      <th>0</th>\n",
       "      <td>1</td>\n",
       "      <td>39353</td>\n",
       "      <td>85475</td>\n",
       "      <td>117961</td>\n",
       "      <td>118300</td>\n",
       "      <td>123472</td>\n",
       "      <td>117905</td>\n",
       "      <td>117906</td>\n",
       "      <td>290919</td>\n",
       "      <td>117908</td>\n",
       "      <td>0.0</td>\n",
       "    </tr>\n",
       "    <tr>\n",
       "      <th>1</th>\n",
       "      <td>1</td>\n",
       "      <td>17183</td>\n",
       "      <td>1540</td>\n",
       "      <td>117961</td>\n",
       "      <td>118343</td>\n",
       "      <td>123125</td>\n",
       "      <td>118536</td>\n",
       "      <td>118536</td>\n",
       "      <td>308574</td>\n",
       "      <td>118539</td>\n",
       "      <td>0.0</td>\n",
       "    </tr>\n",
       "    <tr>\n",
       "      <th>2</th>\n",
       "      <td>1</td>\n",
       "      <td>36724</td>\n",
       "      <td>14457</td>\n",
       "      <td>118219</td>\n",
       "      <td>118220</td>\n",
       "      <td>117884</td>\n",
       "      <td>117879</td>\n",
       "      <td>267952</td>\n",
       "      <td>19721</td>\n",
       "      <td>117880</td>\n",
       "      <td>0.0</td>\n",
       "    </tr>\n",
       "    <tr>\n",
       "      <th>3</th>\n",
       "      <td>1</td>\n",
       "      <td>36135</td>\n",
       "      <td>5396</td>\n",
       "      <td>117961</td>\n",
       "      <td>118343</td>\n",
       "      <td>119993</td>\n",
       "      <td>118321</td>\n",
       "      <td>240983</td>\n",
       "      <td>290919</td>\n",
       "      <td>118322</td>\n",
       "      <td>0.0</td>\n",
       "    </tr>\n",
       "    <tr>\n",
       "      <th>4</th>\n",
       "      <td>1</td>\n",
       "      <td>42680</td>\n",
       "      <td>5905</td>\n",
       "      <td>117929</td>\n",
       "      <td>117930</td>\n",
       "      <td>119569</td>\n",
       "      <td>119323</td>\n",
       "      <td>123932</td>\n",
       "      <td>19793</td>\n",
       "      <td>119325</td>\n",
       "      <td>0.0</td>\n",
       "    </tr>\n",
       "  </tbody>\n",
       "</table>\n",
       "</div>"
      ],
      "text/plain": [
       "   ACTION  RESOURCE  MGR_ID  ROLE_ROLLUP_1  ROLE_ROLLUP_2  ROLE_DEPTNAME  \\\n",
       "0       1     39353   85475         117961         118300         123472   \n",
       "1       1     17183    1540         117961         118343         123125   \n",
       "2       1     36724   14457         118219         118220         117884   \n",
       "3       1     36135    5396         117961         118343         119993   \n",
       "4       1     42680    5905         117929         117930         119569   \n",
       "\n",
       "   ROLE_TITLE  ROLE_FAMILY_DESC  ROLE_FAMILY  ROLE_CODE  \\\n",
       "0      117905            117906       290919     117908   \n",
       "1      118536            118536       308574     118539   \n",
       "2      117879            267952        19721     117880   \n",
       "3      118321            240983       290919     118322   \n",
       "4      119323            123932        19793     119325   \n",
       "\n",
       "   is_MGR_ID_BiggerThan150000  \n",
       "0                         0.0  \n",
       "1                         0.0  \n",
       "2                         0.0  \n",
       "3                         0.0  \n",
       "4                         0.0  "
      ]
     },
     "execution_count": 26,
     "metadata": {},
     "output_type": "execute_result"
    }
   ],
   "source": [
    "temp = pd.DataFrame(columns=['is_MGR_ID_BiggerThan150000'], dtype=np.float32)\n",
    "train = pd.concat([train, temp], axis=1)\n",
    "for i in range(train.shape[0]):\n",
    "    try:\n",
    "        if train['MGR_ID'][i] > 150000:\n",
    "            train['is_MGR_ID_BiggerThan150000'][i] = 1\n",
    "        else:\n",
    "            train['is_MGR_ID_BiggerThan150000'][i] = 0\n",
    "    except Exception:\n",
    "        train['is_MGR_ID_BiggerThan150000'][i] = 0\n",
    "        pass\n",
    "train.head()"
   ]
  },
  {
   "cell_type": "markdown",
   "metadata": {},
   "source": [
    "### ROLE_ROLLUP_1"
   ]
  },
  {
   "cell_type": "code",
   "execution_count": 27,
   "metadata": {},
   "outputs": [
    {
     "data": {
      "text/plain": [
       "0    117961\n",
       "1    117961\n",
       "2    118219\n",
       "3    117961\n",
       "4    117929\n",
       "5    117951\n",
       "6    117961\n",
       "7    117961\n",
       "8    117961\n",
       "9    118079\n",
       "Name: ROLE_ROLLUP_1, dtype: int64"
      ]
     },
     "execution_count": 27,
     "metadata": {},
     "output_type": "execute_result"
    }
   ],
   "source": [
    "train['ROLE_ROLLUP_1'][:10]"
   ]
  },
  {
   "cell_type": "code",
   "execution_count": 28,
   "metadata": {},
   "outputs": [
    {
     "data": {
      "text/plain": [
       "<seaborn.axisgrid.FacetGrid at 0x7ff1652e7e50>"
      ]
     },
     "execution_count": 28,
     "metadata": {},
     "output_type": "execute_result"
    },
    {
     "data": {
      "text/plain": [
       "<Figure size 864x864 with 0 Axes>"
      ]
     },
     "metadata": {},
     "output_type": "display_data"
    },
    {
     "data": {
      "image/png": "[encoded data removed]",
      "text/plain": [
       "<Figure size 360x360 with 1 Axes>"
      ]
     },
     "metadata": {
      "needs_background": "light"
     },
     "output_type": "display_data"
    }
   ],
   "source": [
    "plt.figure(figsize=(12, 12))\n",
    "sns.catplot('ACTION', 'ROLE_ROLLUP_1', data=train)"
   ]
  },
  {
   "cell_type": "markdown",
   "metadata": {},
   "source": [
    "We could generate a new feature here called 'is_ROLE_ROLLUP_1_BiggerThan150000'"
   ]
  },
  {
   "cell_type": "code",
   "execution_count": 30,
   "metadata": {},
   "outputs": [
    {
     "data": {
      "text/html": [
       "<div>\n",
       "<style scoped>\n",
       "    .dataframe tbody tr th:only-of-type {\n",
       "        vertical-align: middle;\n",
       "    }\n",
       "\n",
       "    .dataframe tbody tr th {\n",
       "        vertical-align: top;\n",
       "    }\n",
       "\n",
       "    .dataframe thead th {\n",
       "        text-align: right;\n",
       "    }\n",
       "</style>\n",
       "<table border=\"1\" class=\"dataframe\">\n",
       "  <thead>\n",
       "    <tr style=\"text-align: right;\">\n",
       "      <th></th>\n",
       "      <th>ACTION</th>\n",
       "      <th>RESOURCE</th>\n",
       "      <th>MGR_ID</th>\n",
       "      <th>ROLE_ROLLUP_1</th>\n",
       "      <th>ROLE_ROLLUP_2</th>\n",
       "      <th>ROLE_DEPTNAME</th>\n",
       "      <th>ROLE_TITLE</th>\n",
       "      <th>ROLE_FAMILY_DESC</th>\n",
       "      <th>ROLE_FAMILY</th>\n",
       "      <th>ROLE_CODE</th>\n",
       "      <th>is_MGR_ID_BiggerThan150000</th>\n",
       "      <th>is_ROLE_ROLLUP_1_BiggerThan150000</th>\n",
       "    </tr>\n",
       "  </thead>\n",
       "  <tbody>\n",
       "    <tr>\n",
       "      <th>0</th>\n",
       "      <td>1</td>\n",
       "      <td>39353</td>\n",
       "      <td>85475</td>\n",
       "      <td>117961</td>\n",
       "      <td>118300</td>\n",
       "      <td>123472</td>\n",
       "      <td>117905</td>\n",
       "      <td>117906</td>\n",
       "      <td>290919</td>\n",
       "      <td>117908</td>\n",
       "      <td>0.0</td>\n",
       "      <td>0.0</td>\n",
       "    </tr>\n",
       "    <tr>\n",
       "      <th>1</th>\n",
       "      <td>1</td>\n",
       "      <td>17183</td>\n",
       "      <td>1540</td>\n",
       "      <td>117961</td>\n",
       "      <td>118343</td>\n",
       "      <td>123125</td>\n",
       "      <td>118536</td>\n",
       "      <td>118536</td>\n",
       "      <td>308574</td>\n",
       "      <td>118539</td>\n",
       "      <td>0.0</td>\n",
       "      <td>0.0</td>\n",
       "    </tr>\n",
       "    <tr>\n",
       "      <th>2</th>\n",
       "      <td>1</td>\n",
       "      <td>36724</td>\n",
       "      <td>14457</td>\n",
       "      <td>118219</td>\n",
       "      <td>118220</td>\n",
       "      <td>117884</td>\n",
       "      <td>117879</td>\n",
       "      <td>267952</td>\n",
       "      <td>19721</td>\n",
       "      <td>117880</td>\n",
       "      <td>0.0</td>\n",
       "      <td>0.0</td>\n",
       "    </tr>\n",
       "    <tr>\n",
       "      <th>3</th>\n",
       "      <td>1</td>\n",
       "      <td>36135</td>\n",
       "      <td>5396</td>\n",
       "      <td>117961</td>\n",
       "      <td>118343</td>\n",
       "      <td>119993</td>\n",
       "      <td>118321</td>\n",
       "      <td>240983</td>\n",
       "      <td>290919</td>\n",
       "      <td>118322</td>\n",
       "      <td>0.0</td>\n",
       "      <td>0.0</td>\n",
       "    </tr>\n",
       "    <tr>\n",
       "      <th>4</th>\n",
       "      <td>1</td>\n",
       "      <td>42680</td>\n",
       "      <td>5905</td>\n",
       "      <td>117929</td>\n",
       "      <td>117930</td>\n",
       "      <td>119569</td>\n",
       "      <td>119323</td>\n",
       "      <td>123932</td>\n",
       "      <td>19793</td>\n",
       "      <td>119325</td>\n",
       "      <td>0.0</td>\n",
       "      <td>0.0</td>\n",
       "    </tr>\n",
       "  </tbody>\n",
       "</table>\n",
       "</div>"
      ],
      "text/plain": [
       "   ACTION  RESOURCE  MGR_ID  ROLE_ROLLUP_1  ROLE_ROLLUP_2  ROLE_DEPTNAME  \\\n",
       "0       1     39353   85475         117961         118300         123472   \n",
       "1       1     17183    1540         117961         118343         123125   \n",
       "2       1     36724   14457         118219         118220         117884   \n",
       "3       1     36135    5396         117961         118343         119993   \n",
       "4       1     42680    5905         117929         117930         119569   \n",
       "\n",
       "   ROLE_TITLE  ROLE_FAMILY_DESC  ROLE_FAMILY  ROLE_CODE  \\\n",
       "0      117905            117906       290919     117908   \n",
       "1      118536            118536       308574     118539   \n",
       "2      117879            267952        19721     117880   \n",
       "3      118321            240983       290919     118322   \n",
       "4      119323            123932        19793     119325   \n",
       "\n",
       "   is_MGR_ID_BiggerThan150000  is_ROLE_ROLLUP_1_BiggerThan150000  \n",
       "0                         0.0                                0.0  \n",
       "1                         0.0                                0.0  \n",
       "2                         0.0                                0.0  \n",
       "3                         0.0                                0.0  \n",
       "4                         0.0                                0.0  "
      ]
     },
     "execution_count": 30,
     "metadata": {},
     "output_type": "execute_result"
    }
   ],
   "source": [
    "temp = pd.DataFrame(columns=['is_ROLE_ROLLUP_1_BiggerThan150000'], dtype=np.float32)\n",
    "train = pd.concat([train, temp], axis=1)\n",
    "for i in range(train.shape[0]):\n",
    "    try:\n",
    "        if train['ROLE_ROLLUP_1'][i] > 150000:\n",
    "            train['is_ROLE_ROLLUP_1_BiggerThan150000'][i] = 1\n",
    "        else:\n",
    "            train['is_ROLE_ROLLUP_1_BiggerThan150000'][i] = 0\n",
    "    except Exception:\n",
    "        train['is_ROLE_ROLLUP_1_BiggerThan150000'][i] = 0\n",
    "        pass\n",
    "train.head()"
   ]
  },
  {
   "cell_type": "markdown",
   "metadata": {},
   "source": [
    "### ROLE_ROLLUP_2"
   ]
  },
  {
   "cell_type": "code",
   "execution_count": 31,
   "metadata": {},
   "outputs": [
    {
     "data": {
      "text/plain": [
       "0    118300\n",
       "1    118343\n",
       "2    118220\n",
       "3    118343\n",
       "4    117930\n",
       "5    117952\n",
       "6    118343\n",
       "7    117969\n",
       "8    118413\n",
       "9    118080\n",
       "Name: ROLE_ROLLUP_2, dtype: int64"
      ]
     },
     "execution_count": 31,
     "metadata": {},
     "output_type": "execute_result"
    }
   ],
   "source": [
    "train['ROLE_ROLLUP_2'][:10]"
   ]
  },
  {
   "cell_type": "code",
   "execution_count": 32,
   "metadata": {},
   "outputs": [
    {
     "data": {
      "text/plain": [
       "118300    4424\n",
       "118343    3945\n",
       "118327    2641\n",
       "118225    2547\n",
       "118386    1796\n",
       "          ... \n",
       "118775       1\n",
       "120355       1\n",
       "176316       1\n",
       "141222       1\n",
       "147237       1\n",
       "Name: ROLE_ROLLUP_2, Length: 176, dtype: int64"
      ]
     },
     "execution_count": 32,
     "metadata": {},
     "output_type": "execute_result"
    }
   ],
   "source": [
    "train['ROLE_ROLLUP_2'].value_counts()"
   ]
  },
  {
   "cell_type": "code",
   "execution_count": 33,
   "metadata": {},
   "outputs": [
    {
     "data": {
      "text/plain": [
       "<seaborn.axisgrid.FacetGrid at 0x7ff164553b50>"
      ]
     },
     "execution_count": 33,
     "metadata": {},
     "output_type": "execute_result"
    },
    {
     "data": {
      "image/png": "[encoded data removed]",
      "text/plain": [
       "<Figure size 360x360 with 1 Axes>"
      ]
     },
     "metadata": {
      "needs_background": "light"
     },
     "output_type": "display_data"
    }
   ],
   "source": [
    "sns.catplot('ACTION', 'ROLE_ROLLUP_2', data=train)"
   ]
  },
  {
   "cell_type": "markdown",
   "metadata": {},
   "source": [
    "We could generate a new feature here called 'is_ROLE_ROLLUP_2_BiggerThan140000'"
   ]
  },
  {
   "cell_type": "code",
   "execution_count": 34,
   "metadata": {},
   "outputs": [
    {
     "data": {
      "text/html": [
       "<div>\n",
       "<style scoped>\n",
       "    .dataframe tbody tr th:only-of-type {\n",
       "        vertical-align: middle;\n",
       "    }\n",
       "\n",
       "    .dataframe tbody tr th {\n",
       "        vertical-align: top;\n",
       "    }\n",
       "\n",
       "    .dataframe thead th {\n",
       "        text-align: right;\n",
       "    }\n",
       "</style>\n",
       "<table border=\"1\" class=\"dataframe\">\n",
       "  <thead>\n",
       "    <tr style=\"text-align: right;\">\n",
       "      <th></th>\n",
       "      <th>ACTION</th>\n",
       "      <th>RESOURCE</th>\n",
       "      <th>MGR_ID</th>\n",
       "      <th>ROLE_ROLLUP_1</th>\n",
       "      <th>ROLE_ROLLUP_2</th>\n",
       "      <th>ROLE_DEPTNAME</th>\n",
       "      <th>ROLE_TITLE</th>\n",
       "      <th>ROLE_FAMILY_DESC</th>\n",
       "      <th>ROLE_FAMILY</th>\n",
       "      <th>ROLE_CODE</th>\n",
       "      <th>is_MGR_ID_BiggerThan150000</th>\n",
       "      <th>is_ROLE_ROLLUP_1_BiggerThan150000</th>\n",
       "      <th>is_ROLE_ROLLUP_2_BiggerThan140000</th>\n",
       "    </tr>\n",
       "  </thead>\n",
       "  <tbody>\n",
       "    <tr>\n",
       "      <th>0</th>\n",
       "      <td>1</td>\n",
       "      <td>39353</td>\n",
       "      <td>85475</td>\n",
       "      <td>117961</td>\n",
       "      <td>118300</td>\n",
       "      <td>123472</td>\n",
       "      <td>117905</td>\n",
       "      <td>117906</td>\n",
       "      <td>290919</td>\n",
       "      <td>117908</td>\n",
       "      <td>0.0</td>\n",
       "      <td>0.0</td>\n",
       "      <td>0.0</td>\n",
       "    </tr>\n",
       "    <tr>\n",
       "      <th>1</th>\n",
       "      <td>1</td>\n",
       "      <td>17183</td>\n",
       "      <td>1540</td>\n",
       "      <td>117961</td>\n",
       "      <td>118343</td>\n",
       "      <td>123125</td>\n",
       "      <td>118536</td>\n",
       "      <td>118536</td>\n",
       "      <td>308574</td>\n",
       "      <td>118539</td>\n",
       "      <td>0.0</td>\n",
       "      <td>0.0</td>\n",
       "      <td>0.0</td>\n",
       "    </tr>\n",
       "    <tr>\n",
       "      <th>2</th>\n",
       "      <td>1</td>\n",
       "      <td>36724</td>\n",
       "      <td>14457</td>\n",
       "      <td>118219</td>\n",
       "      <td>118220</td>\n",
       "      <td>117884</td>\n",
       "      <td>117879</td>\n",
       "      <td>267952</td>\n",
       "      <td>19721</td>\n",
       "      <td>117880</td>\n",
       "      <td>0.0</td>\n",
       "      <td>0.0</td>\n",
       "      <td>0.0</td>\n",
       "    </tr>\n",
       "    <tr>\n",
       "      <th>3</th>\n",
       "      <td>1</td>\n",
       "      <td>36135</td>\n",
       "      <td>5396</td>\n",
       "      <td>117961</td>\n",
       "      <td>118343</td>\n",
       "      <td>119993</td>\n",
       "      <td>118321</td>\n",
       "      <td>240983</td>\n",
       "      <td>290919</td>\n",
       "      <td>118322</td>\n",
       "      <td>0.0</td>\n",
       "      <td>0.0</td>\n",
       "      <td>0.0</td>\n",
       "    </tr>\n",
       "    <tr>\n",
       "      <th>4</th>\n",
       "      <td>1</td>\n",
       "      <td>42680</td>\n",
       "      <td>5905</td>\n",
       "      <td>117929</td>\n",
       "      <td>117930</td>\n",
       "      <td>119569</td>\n",
       "      <td>119323</td>\n",
       "      <td>123932</td>\n",
       "      <td>19793</td>\n",
       "      <td>119325</td>\n",
       "      <td>0.0</td>\n",
       "      <td>0.0</td>\n",
       "      <td>0.0</td>\n",
       "    </tr>\n",
       "  </tbody>\n",
       "</table>\n",
       "</div>"
      ],
      "text/plain": [
       "   ACTION  RESOURCE  MGR_ID  ROLE_ROLLUP_1  ROLE_ROLLUP_2  ROLE_DEPTNAME  \\\n",
       "0       1     39353   85475         117961         118300         123472   \n",
       "1       1     17183    1540         117961         118343         123125   \n",
       "2       1     36724   14457         118219         118220         117884   \n",
       "3       1     36135    5396         117961         118343         119993   \n",
       "4       1     42680    5905         117929         117930         119569   \n",
       "\n",
       "   ROLE_TITLE  ROLE_FAMILY_DESC  ROLE_FAMILY  ROLE_CODE  \\\n",
       "0      117905            117906       290919     117908   \n",
       "1      118536            118536       308574     118539   \n",
       "2      117879            267952        19721     117880   \n",
       "3      118321            240983       290919     118322   \n",
       "4      119323            123932        19793     119325   \n",
       "\n",
       "   is_MGR_ID_BiggerThan150000  is_ROLE_ROLLUP_1_BiggerThan150000  \\\n",
       "0                         0.0                                0.0   \n",
       "1                         0.0                                0.0   \n",
       "2                         0.0                                0.0   \n",
       "3                         0.0                                0.0   \n",
       "4                         0.0                                0.0   \n",
       "\n",
       "   is_ROLE_ROLLUP_2_BiggerThan140000  \n",
       "0                                0.0  \n",
       "1                                0.0  \n",
       "2                                0.0  \n",
       "3                                0.0  \n",
       "4                                0.0  "
      ]
     },
     "execution_count": 34,
     "metadata": {},
     "output_type": "execute_result"
    }
   ],
   "source": [
    "temp = pd.DataFrame(columns=['is_ROLE_ROLLUP_2_BiggerThan140000'], dtype=np.float32)\n",
    "train = pd.concat([train, temp], axis=1)\n",
    "for i in range(train.shape[0]):\n",
    "    try:\n",
    "        if train['ROLE_ROLLUP_2'][i] > 140000:\n",
    "            train['is_ROLE_ROLLUP_2_BiggerThan140000'][i] = 1\n",
    "        else:\n",
    "            train['is_ROLE_ROLLUP_2_BiggerThan140000'][i] = 0\n",
    "    except Exception:\n",
    "        train['is_ROLE_ROLLUP_2_BiggerThan140000'][i] = 0\n",
    "        pass\n",
    "train.head()"
   ]
  },
  {
   "cell_type": "markdown",
   "metadata": {},
   "source": [
    "### ROLE_DEPTNAME"
   ]
  },
  {
   "cell_type": "code",
   "execution_count": 35,
   "metadata": {},
   "outputs": [
    {
     "data": {
      "text/plain": [
       "0    123472\n",
       "1    123125\n",
       "2    117884\n",
       "3    119993\n",
       "4    119569\n",
       "5    118008\n",
       "6    123476\n",
       "7    118910\n",
       "8    120584\n",
       "9    117878\n",
       "Name: ROLE_DEPTNAME, dtype: int64"
      ]
     },
     "execution_count": 35,
     "metadata": {},
     "output_type": "execute_result"
    }
   ],
   "source": [
    "train['ROLE_DEPTNAME'][:10]"
   ]
  },
  {
   "cell_type": "code",
   "execution_count": 36,
   "metadata": {},
   "outputs": [
    {
     "data": {
      "text/plain": [
       "117878    1135\n",
       "117941     763\n",
       "117945     659\n",
       "118514     601\n",
       "117920     597\n",
       "          ... \n",
       "134848       1\n",
       "139001       1\n",
       "122963       1\n",
       "121030       1\n",
       "123675       1\n",
       "Name: ROLE_DEPTNAME, Length: 448, dtype: int64"
      ]
     },
     "execution_count": 36,
     "metadata": {},
     "output_type": "execute_result"
    }
   ],
   "source": [
    "train['ROLE_DEPTNAME'].value_counts()"
   ]
  },
  {
   "cell_type": "code",
   "execution_count": 37,
   "metadata": {},
   "outputs": [
    {
     "data": {
      "text/plain": [
       "<seaborn.axisgrid.FacetGrid at 0x7ff1657ce7c0>"
      ]
     },
     "execution_count": 37,
     "metadata": {},
     "output_type": "execute_result"
    },
    {
     "data": {
      "text/plain": [
       "<Figure size 648x432 with 0 Axes>"
      ]
     },
     "metadata": {},
     "output_type": "display_data"
    },
    {
     "data": {
      "image/png": "[encoded data removed]",
      "text/plain": [
       "<Figure size 360x360 with 1 Axes>"
      ]
     },
     "metadata": {
      "needs_background": "light"
     },
     "output_type": "display_data"
    }
   ],
   "source": [
    "plt.figure(figsize=(9, 6))\n",
    "sns.catplot('ACTION', 'ROLE_DEPTNAME', data=train)"
   ]
  },
  {
   "cell_type": "code",
   "execution_count": 38,
   "metadata": {},
   "outputs": [
    {
     "data": {
      "text/plain": [
       "729"
      ]
     },
     "execution_count": 38,
     "metadata": {},
     "output_type": "execute_result"
    }
   ],
   "source": [
    "len(train[train['ROLE_DEPTNAME'] < 100000])"
   ]
  },
  {
   "cell_type": "markdown",
   "metadata": {},
   "source": [
    "Not enough to generate some feature for it"
   ]
  },
  {
   "cell_type": "markdown",
   "metadata": {},
   "source": [
    "### ROLE_TITLE"
   ]
  },
  {
   "cell_type": "code",
   "execution_count": 39,
   "metadata": {},
   "outputs": [
    {
     "data": {
      "text/plain": [
       "0    117905\n",
       "1    118536\n",
       "2    117879\n",
       "3    118321\n",
       "4    119323\n",
       "5    118568\n",
       "6    118980\n",
       "7    126820\n",
       "8    128230\n",
       "9    117879\n",
       "Name: ROLE_TITLE, dtype: int64"
      ]
     },
     "execution_count": 39,
     "metadata": {},
     "output_type": "execute_result"
    }
   ],
   "source": [
    "train['ROLE_TITLE'][:10]"
   ]
  },
  {
   "cell_type": "code",
   "execution_count": 40,
   "metadata": {},
   "outputs": [
    {
     "data": {
      "text/plain": [
       "118321    4649\n",
       "117905    3582\n",
       "118784    1772\n",
       "117879    1256\n",
       "118568    1043\n",
       "          ... \n",
       "122188       1\n",
       "157799       1\n",
       "157359       1\n",
       "166800       1\n",
       "130633       1\n",
       "Name: ROLE_TITLE, Length: 343, dtype: int64"
      ]
     },
     "execution_count": 40,
     "metadata": {},
     "output_type": "execute_result"
    }
   ],
   "source": [
    "train['ROLE_TITLE'].value_counts()"
   ]
  },
  {
   "cell_type": "code",
   "execution_count": 41,
   "metadata": {},
   "outputs": [
    {
     "data": {
      "text/plain": [
       "<seaborn.axisgrid.FacetGrid at 0x7ff16452eb80>"
      ]
     },
     "execution_count": 41,
     "metadata": {},
     "output_type": "execute_result"
    },
    {
     "data": {
      "text/plain": [
       "<Figure size 648x432 with 0 Axes>"
      ]
     },
     "metadata": {},
     "output_type": "display_data"
    },
    {
     "data": {
      "image/png": "[encoded data removed]",
      "text/plain": [
       "<Figure size 360x360 with 1 Axes>"
      ]
     },
     "metadata": {
      "needs_background": "light"
     },
     "output_type": "display_data"
    }
   ],
   "source": [
    "plt.figure(figsize=(9, 6))\n",
    "sns.catplot('ACTION', 'ROLE_TITLE', data=train)"
   ]
  },
  {
   "cell_type": "markdown",
   "metadata": {},
   "source": [
    "### ROLE_FAMILY_DESC"
   ]
  },
  {
   "cell_type": "code",
   "execution_count": 42,
   "metadata": {},
   "outputs": [
    {
     "data": {
      "text/plain": [
       "0    117906\n",
       "1    118536\n",
       "2    267952\n",
       "3    240983\n",
       "4    123932\n",
       "5    118568\n",
       "6    301534\n",
       "7    269034\n",
       "8    302830\n",
       "9    304519\n",
       "Name: ROLE_FAMILY_DESC, dtype: int64"
      ]
     },
     "execution_count": 42,
     "metadata": {},
     "output_type": "execute_result"
    }
   ],
   "source": [
    "train['ROLE_FAMILY_DESC'][:10]"
   ]
  },
  {
   "cell_type": "code",
   "execution_count": 43,
   "metadata": {},
   "outputs": [
    {
     "data": {
      "text/plain": [
       "117906    6895\n",
       "240983    1244\n",
       "117913     670\n",
       "279443     665\n",
       "117886     530\n",
       "          ... \n",
       "151040       1\n",
       "153123       1\n",
       "251257       1\n",
       "306550       1\n",
       "247799       1\n",
       "Name: ROLE_FAMILY_DESC, Length: 2358, dtype: int64"
      ]
     },
     "execution_count": 43,
     "metadata": {},
     "output_type": "execute_result"
    }
   ],
   "source": [
    "train['ROLE_FAMILY_DESC'].value_counts()"
   ]
  },
  {
   "cell_type": "code",
   "execution_count": 44,
   "metadata": {},
   "outputs": [
    {
     "data": {
      "text/plain": [
       "<seaborn.axisgrid.FacetGrid at 0x7ff16453ef70>"
      ]
     },
     "execution_count": 44,
     "metadata": {},
     "output_type": "execute_result"
    },
    {
     "data": {
      "text/plain": [
       "<Figure size 648x504 with 0 Axes>"
      ]
     },
     "metadata": {},
     "output_type": "display_data"
    },
    {
     "data": {
      "image/png": "[encoded data removed]",
      "text/plain": [
       "<Figure size 360x360 with 1 Axes>"
      ]
     },
     "metadata": {
      "needs_background": "light"
     },
     "output_type": "display_data"
    }
   ],
   "source": [
    "plt.figure(figsize=(9, 7))\n",
    "sns.catplot('ACTION', 'ROLE_FAMILY_DESC', data=train)"
   ]
  },
  {
   "cell_type": "markdown",
   "metadata": {},
   "source": [
    "### ROLE_FAMILY"
   ]
  },
  {
   "cell_type": "code",
   "execution_count": 45,
   "metadata": {},
   "outputs": [
    {
     "data": {
      "text/plain": [
       "0    290919\n",
       "1    308574\n",
       "2     19721\n",
       "3    290919\n",
       "4     19793\n",
       "5     19721\n",
       "6    118295\n",
       "7    118638\n",
       "8      4673\n",
       "9     19721\n",
       "Name: ROLE_FAMILY, dtype: int64"
      ]
     },
     "execution_count": 45,
     "metadata": {},
     "output_type": "execute_result"
    }
   ],
   "source": [
    "train['ROLE_FAMILY'][:10]"
   ]
  },
  {
   "cell_type": "code",
   "execution_count": 46,
   "metadata": {},
   "outputs": [
    {
     "data": {
      "text/plain": [
       "290919    10979\n",
       "118424     2690\n",
       "19721      2636\n",
       "117887     2400\n",
       "292795     1318\n",
       "          ...  \n",
       "127957        3\n",
       "136398        3\n",
       "132725        2\n",
       "161100        2\n",
       "149353        2\n",
       "Name: ROLE_FAMILY, Length: 67, dtype: int64"
      ]
     },
     "execution_count": 46,
     "metadata": {},
     "output_type": "execute_result"
    }
   ],
   "source": [
    "train['ROLE_FAMILY'].value_counts()"
   ]
  },
  {
   "cell_type": "code",
   "execution_count": 47,
   "metadata": {},
   "outputs": [
    {
     "data": {
      "text/plain": [
       "<seaborn.axisgrid.FacetGrid at 0x7ff1643697f0>"
      ]
     },
     "execution_count": 47,
     "metadata": {},
     "output_type": "execute_result"
    },
    {
     "data": {
      "text/plain": [
       "<Figure size 648x432 with 0 Axes>"
      ]
     },
     "metadata": {},
     "output_type": "display_data"
    },
    {
     "data": {
      "image/png": "[encoded data removed]",
      "text/plain": [
       "<Figure size 360x360 with 1 Axes>"
      ]
     },
     "metadata": {
      "needs_background": "light"
     },
     "output_type": "display_data"
    }
   ],
   "source": [
    "plt.figure(figsize=(9, 6))\n",
    "sns.catplot('ACTION', 'ROLE_FAMILY', data=train)"
   ]
  },
  {
   "cell_type": "markdown",
   "metadata": {},
   "source": [
    "### ROLE_CODE"
   ]
  },
  {
   "cell_type": "code",
   "execution_count": 48,
   "metadata": {},
   "outputs": [
    {
     "data": {
      "text/plain": [
       "0    117908\n",
       "1    118539\n",
       "2    117880\n",
       "3    118322\n",
       "4    119325\n",
       "5    118570\n",
       "6    118982\n",
       "7    126822\n",
       "8    128231\n",
       "9    117880\n",
       "Name: ROLE_CODE, dtype: int64"
      ]
     },
     "execution_count": 48,
     "metadata": {},
     "output_type": "execute_result"
    }
   ],
   "source": [
    "train['ROLE_CODE'][:10]"
   ]
  },
  {
   "cell_type": "code",
   "execution_count": 49,
   "metadata": {},
   "outputs": [
    {
     "data": {
      "text/plain": [
       "118322    4649\n",
       "117908    3582\n",
       "118786    1772\n",
       "117880    1256\n",
       "118570    1043\n",
       "          ... \n",
       "157361       1\n",
       "119817       1\n",
       "208567       1\n",
       "130365       1\n",
       "123657       1\n",
       "Name: ROLE_CODE, Length: 343, dtype: int64"
      ]
     },
     "execution_count": 49,
     "metadata": {},
     "output_type": "execute_result"
    }
   ],
   "source": [
    "train['ROLE_CODE'].value_counts()"
   ]
  },
  {
   "cell_type": "code",
   "execution_count": 50,
   "metadata": {},
   "outputs": [
    {
     "data": {
      "text/plain": [
       "<seaborn.axisgrid.FacetGrid at 0x7ff16453e910>"
      ]
     },
     "execution_count": 50,
     "metadata": {},
     "output_type": "execute_result"
    },
    {
     "data": {
      "text/plain": [
       "<Figure size 648x432 with 0 Axes>"
      ]
     },
     "metadata": {},
     "output_type": "display_data"
    },
    {
     "data": {
      "image/png": "[encoded data removed]",
      "text/plain": [
       "<Figure size 360x360 with 1 Axes>"
      ]
     },
     "metadata": {
      "needs_background": "light"
     },
     "output_type": "display_data"
    }
   ],
   "source": [
    "plt.figure(figsize=(9, 6))\n",
    "sns.catplot('ACTION', 'ROLE_CODE', data=train)"
   ]
  },
  {
   "cell_type": "markdown",
   "metadata": {},
   "source": [
    "We could generate a new feature here called 'is_ROLE_CODE_BiggerThan200000'"
   ]
  },
  {
   "cell_type": "code",
   "execution_count": 51,
   "metadata": {},
   "outputs": [
    {
     "data": {
      "text/html": [
       "<div>\n",
       "<style scoped>\n",
       "    .dataframe tbody tr th:only-of-type {\n",
       "        vertical-align: middle;\n",
       "    }\n",
       "\n",
       "    .dataframe tbody tr th {\n",
       "        vertical-align: top;\n",
       "    }\n",
       "\n",
       "    .dataframe thead th {\n",
       "        text-align: right;\n",
       "    }\n",
       "</style>\n",
       "<table border=\"1\" class=\"dataframe\">\n",
       "  <thead>\n",
       "    <tr style=\"text-align: right;\">\n",
       "      <th></th>\n",
       "      <th>ACTION</th>\n",
       "      <th>RESOURCE</th>\n",
       "      <th>MGR_ID</th>\n",
       "      <th>ROLE_ROLLUP_1</th>\n",
       "      <th>ROLE_ROLLUP_2</th>\n",
       "      <th>ROLE_DEPTNAME</th>\n",
       "      <th>ROLE_TITLE</th>\n",
       "      <th>ROLE_FAMILY_DESC</th>\n",
       "      <th>ROLE_FAMILY</th>\n",
       "      <th>ROLE_CODE</th>\n",
       "      <th>is_MGR_ID_BiggerThan150000</th>\n",
       "      <th>is_ROLE_ROLLUP_1_BiggerThan150000</th>\n",
       "      <th>is_ROLE_ROLLUP_2_BiggerThan140000</th>\n",
       "      <th>is_ROLE_CODE_BiggerThan200000</th>\n",
       "    </tr>\n",
       "  </thead>\n",
       "  <tbody>\n",
       "    <tr>\n",
       "      <th>0</th>\n",
       "      <td>1</td>\n",
       "      <td>39353</td>\n",
       "      <td>85475</td>\n",
       "      <td>117961</td>\n",
       "      <td>118300</td>\n",
       "      <td>123472</td>\n",
       "      <td>117905</td>\n",
       "      <td>117906</td>\n",
       "      <td>290919</td>\n",
       "      <td>117908</td>\n",
       "      <td>0.0</td>\n",
       "      <td>0.0</td>\n",
       "      <td>0.0</td>\n",
       "      <td>0.0</td>\n",
       "    </tr>\n",
       "    <tr>\n",
       "      <th>1</th>\n",
       "      <td>1</td>\n",
       "      <td>17183</td>\n",
       "      <td>1540</td>\n",
       "      <td>117961</td>\n",
       "      <td>118343</td>\n",
       "      <td>123125</td>\n",
       "      <td>118536</td>\n",
       "      <td>118536</td>\n",
       "      <td>308574</td>\n",
       "      <td>118539</td>\n",
       "      <td>0.0</td>\n",
       "      <td>0.0</td>\n",
       "      <td>0.0</td>\n",
       "      <td>0.0</td>\n",
       "    </tr>\n",
       "    <tr>\n",
       "      <th>2</th>\n",
       "      <td>1</td>\n",
       "      <td>36724</td>\n",
       "      <td>14457</td>\n",
       "      <td>118219</td>\n",
       "      <td>118220</td>\n",
       "      <td>117884</td>\n",
       "      <td>117879</td>\n",
       "      <td>267952</td>\n",
       "      <td>19721</td>\n",
       "      <td>117880</td>\n",
       "      <td>0.0</td>\n",
       "      <td>0.0</td>\n",
       "      <td>0.0</td>\n",
       "      <td>0.0</td>\n",
       "    </tr>\n",
       "    <tr>\n",
       "      <th>3</th>\n",
       "      <td>1</td>\n",
       "      <td>36135</td>\n",
       "      <td>5396</td>\n",
       "      <td>117961</td>\n",
       "      <td>118343</td>\n",
       "      <td>119993</td>\n",
       "      <td>118321</td>\n",
       "      <td>240983</td>\n",
       "      <td>290919</td>\n",
       "      <td>118322</td>\n",
       "      <td>0.0</td>\n",
       "      <td>0.0</td>\n",
       "      <td>0.0</td>\n",
       "      <td>0.0</td>\n",
       "    </tr>\n",
       "    <tr>\n",
       "      <th>4</th>\n",
       "      <td>1</td>\n",
       "      <td>42680</td>\n",
       "      <td>5905</td>\n",
       "      <td>117929</td>\n",
       "      <td>117930</td>\n",
       "      <td>119569</td>\n",
       "      <td>119323</td>\n",
       "      <td>123932</td>\n",
       "      <td>19793</td>\n",
       "      <td>119325</td>\n",
       "      <td>0.0</td>\n",
       "      <td>0.0</td>\n",
       "      <td>0.0</td>\n",
       "      <td>0.0</td>\n",
       "    </tr>\n",
       "  </tbody>\n",
       "</table>\n",
       "</div>"
      ],
      "text/plain": [
       "   ACTION  RESOURCE  MGR_ID  ROLE_ROLLUP_1  ROLE_ROLLUP_2  ROLE_DEPTNAME  \\\n",
       "0       1     39353   85475         117961         118300         123472   \n",
       "1       1     17183    1540         117961         118343         123125   \n",
       "2       1     36724   14457         118219         118220         117884   \n",
       "3       1     36135    5396         117961         118343         119993   \n",
       "4       1     42680    5905         117929         117930         119569   \n",
       "\n",
       "   ROLE_TITLE  ROLE_FAMILY_DESC  ROLE_FAMILY  ROLE_CODE  \\\n",
       "0      117905            117906       290919     117908   \n",
       "1      118536            118536       308574     118539   \n",
       "2      117879            267952        19721     117880   \n",
       "3      118321            240983       290919     118322   \n",
       "4      119323            123932        19793     119325   \n",
       "\n",
       "   is_MGR_ID_BiggerThan150000  is_ROLE_ROLLUP_1_BiggerThan150000  \\\n",
       "0                         0.0                                0.0   \n",
       "1                         0.0                                0.0   \n",
       "2                         0.0                                0.0   \n",
       "3                         0.0                                0.0   \n",
       "4                         0.0                                0.0   \n",
       "\n",
       "   is_ROLE_ROLLUP_2_BiggerThan140000  is_ROLE_CODE_BiggerThan200000  \n",
       "0                                0.0                            0.0  \n",
       "1                                0.0                            0.0  \n",
       "2                                0.0                            0.0  \n",
       "3                                0.0                            0.0  \n",
       "4                                0.0                            0.0  "
      ]
     },
     "execution_count": 51,
     "metadata": {},
     "output_type": "execute_result"
    }
   ],
   "source": [
    "temp = pd.DataFrame(columns=['is_ROLE_CODE_BiggerThan200000'], dtype=np.float32)\n",
    "train = pd.concat([train, temp], axis=1)\n",
    "for i in range(train.shape[0]):\n",
    "    try:\n",
    "        if train['ROLE_CODE'][i] > 140000:\n",
    "            train['is_ROLE_CODE_BiggerThan200000'][i] = 1\n",
    "        else:\n",
    "            train['is_ROLE_CODE_BiggerThan200000'][i] = 0\n",
    "    except Exception:\n",
    "        train['is_ROLE_CODE_BiggerThan200000'][i] = 0\n",
    "        pass\n",
    "train.head()"
   ]
  },
  {
   "cell_type": "code",
   "execution_count": 52,
   "metadata": {},
   "outputs": [
    {
     "data": {
      "text/plain": [
       "0.0    32534\n",
       "1.0      233\n",
       "Name: is_ROLE_CODE_BiggerThan200000, dtype: int64"
      ]
     },
     "execution_count": 52,
     "metadata": {},
     "output_type": "execute_result"
    }
   ],
   "source": [
    "train['is_ROLE_CODE_BiggerThan200000'].value_counts()"
   ]
  },
  {
   "cell_type": "code",
   "execution_count": 53,
   "metadata": {},
   "outputs": [
    {
     "data": {
      "text/plain": [
       "ACTION                               0\n",
       "RESOURCE                             0\n",
       "MGR_ID                               0\n",
       "ROLE_ROLLUP_1                        0\n",
       "ROLE_ROLLUP_2                        0\n",
       "ROLE_DEPTNAME                        0\n",
       "ROLE_TITLE                           0\n",
       "ROLE_FAMILY_DESC                     0\n",
       "ROLE_FAMILY                          0\n",
       "ROLE_CODE                            0\n",
       "is_MGR_ID_BiggerThan150000           1\n",
       "is_ROLE_ROLLUP_1_BiggerThan150000    1\n",
       "is_ROLE_ROLLUP_2_BiggerThan140000    1\n",
       "is_ROLE_CODE_BiggerThan200000        1\n",
       "dtype: int64"
      ]
     },
     "execution_count": 53,
     "metadata": {},
     "output_type": "execute_result"
    }
   ],
   "source": [
    "train.isnull().sum()"
   ]
  },
  {
   "cell_type": "code",
   "execution_count": 54,
   "metadata": {},
   "outputs": [],
   "source": [
    "train[train['is_MGR_ID_BiggerThan150000'].isnull()]\n",
    "train.drop(32768, axis=0, inplace=True)"
   ]
  },
  {
   "cell_type": "markdown",
   "metadata": {},
   "source": [
    "# Modelling"
   ]
  },
  {
   "cell_type": "code",
   "execution_count": 55,
   "metadata": {},
   "outputs": [],
   "source": [
    "y = train['ACTION']\n",
    "train.drop('ACTION', axis=1, inplace=True)\n",
    "test.drop('id', axis=1, inplace=True)"
   ]
  },
  {
   "cell_type": "code",
   "execution_count": 56,
   "metadata": {},
   "outputs": [],
   "source": [
    "train_means = train.mean()\n",
    "train_stds = train.std()\n",
    "train = (train - train_means) / train_stds\n",
    "\n",
    "test_means = test.mean()\n",
    "test_stds = test.std()\n",
    "test = (test - test_means) / test_stds"
   ]
  },
  {
   "cell_type": "code",
   "execution_count": 57,
   "metadata": {},
   "outputs": [],
   "source": [
    "# Split data\n",
    "X_train, X_test, y_train, y_test = train_test_split(train, y, test_size=0.2, random_state=42)"
   ]
  },
  {
   "cell_type": "code",
   "execution_count": 58,
   "metadata": {},
   "outputs": [
    {
     "name": "stdout",
     "output_type": "stream",
     "text": [
      "Accuracy on training set(Logistic Regression): 0.941860908709419\n",
      "F1 score on training set(Logistic Regression): 0.9700601155160897\n",
      "Accuracy on validation set(Logistic Regression): 0.9432407689960329\n",
      "F1 score on validation set(Logistic Regression): 0.9707914572864321\n"
     ]
    }
   ],
   "source": [
    "# Logistic Regression\n",
    "lr = LogisticRegression()\n",
    "# Training\n",
    "lr.fit(X_train, y_train)\n",
    "\n",
    "# Predict training set\n",
    "y_pred_lr_train = lr.predict(X_train)\n",
    "# Metrics on training set\n",
    "print(\"Accuracy on training set(Logistic Regression):\", accuracy_score(y_pred_lr_train, y_train))\n",
    "print(\"F1 score on training set(Logistic Regression):\", f1_score(y_pred_lr_train, y_train))\n",
    "fpr, tpr, thresholds = roc_curve(y_train, y_pred_lr_train, pos_label=1)\n",
    "# print(\"Area under the ROC cure on training set:\", auc(fpr, tpr))\n",
    "\n",
    "# Predict Validation set\n",
    "y_pred_lr_validation = lr.predict(X_test)\n",
    "# Metrics on validation set\n",
    "print(\"Accuracy on validation set(Logistic Regression):\", accuracy_score(y_pred_lr_validation, y_test))\n",
    "print(\"F1 score on validation set(Logistic Regression):\", f1_score(y_pred_lr_validation, y_test))\n",
    "fpr, tpr, thresholds = roc_curve(y_test, y_pred_lr_validation, pos_label=1)\n",
    "# print(\"Area under the ROC cure on validation set:\", auc(fpr, tpr))"
   ]
  },
  {
   "cell_type": "code",
   "execution_count": 59,
   "metadata": {},
   "outputs": [],
   "source": [
    "# Normalized\n",
    "# Accuracy on training set(Logistic Regression): 0.942397192339971\n",
    "# F1 score on training set(Logistic Regression): 0.9703444754310853\n",
    "# Accuracy on validation set(Logistic Regression): 0.9411046689044859\n",
    "# F1 score on validation set(Logistic Regression): 0.9696588586700206\n",
    "\n",
    "# Normalized and generated features\n",
    "# Accuracy on training set(Logistic Regression): 0.941860908709419\n",
    "# F1 score on training set(Logistic Regression): 0.9700601155160897\n",
    "# Accuracy on validation set(Logistic Regression): 0.9432407689960329\n",
    "# F1 score on validation set(Logistic Regression): 0.9707914572864321"
   ]
  },
  {
   "cell_type": "code",
   "execution_count": 60,
   "metadata": {},
   "outputs": [
    {
     "name": "stdout",
     "output_type": "stream",
     "text": [
      "Accuracy on training set(Decision Tree): 0.943272422080647\n",
      "F1 score on training set(Decision Tree): 0.9707369871101053\n",
      "Accuracy on validation set(Decision Tree): 0.94278303326213\n",
      "F1 score on validation set(Decision Tree): 0.9705165500432424\n"
     ]
    }
   ],
   "source": [
    "# Decision Tree\n",
    "dt = DecisionTreeClassifier(criterion='gini', splitter='best', max_depth=5)\n",
    "# Train Decision tree model\n",
    "dt.fit(X_train, y_train)\n",
    "\n",
    "# Predict training set\n",
    "y_pred_dt_train = dt.predict(X_train)\n",
    "# Metrics on training set\n",
    "print(\"Accuracy on training set(Decision Tree):\", accuracy_score(y_pred_dt_train, y_train))\n",
    "print(\"F1 score on training set(Decision Tree):\", f1_score(y_pred_dt_train, y_train))\n",
    "fpr, tpr, thresholds = roc_curve(y_train, y_pred_dt_train, pos_label=1)\n",
    "# print(\"Area under the ROC cure on training set:\", auc(fpr, tpr))\n",
    "\n",
    "# Predict Validation set\n",
    "y_pred_df_validation = dt.predict(X_test)\n",
    "# Metrics on validation set\n",
    "print(\"Accuracy on validation set(Decision Tree):\", accuracy_score(y_pred_df_validation, y_test))\n",
    "print(\"F1 score on validation set(Decision Tree):\", f1_score(y_pred_df_validation, y_test))\n",
    "fpr, tpr, thresholds = roc_curve(y_test, y_pred_df_validation, pos_label=1)\n",
    "# print(\"Area under the ROC cure on validation set:\", auc(fpr, tpr))"
   ]
  },
  {
   "cell_type": "code",
   "execution_count": 61,
   "metadata": {},
   "outputs": [],
   "source": [
    "# Normalized\n",
    "# Accuracy on training set(Decision Tree): 0.9433127336537728\n",
    "# F1 score on training set(Decision Tree): 0.9707514860449553\n",
    "# Accuracy on validation set(Decision Tree): 0.9404943545926152\n",
    "# F1 score on validation set(Decision Tree): 0.9692961738308927\n",
    "\n",
    "# Normalized and generated features\n",
    "# Accuracy on training set(Decision Tree): 0.943272422080647\n",
    "# F1 score on training set(Decision Tree): 0.9707369871101053\n",
    "# Accuracy on validation set(Decision Tree): 0.94278303326213\n",
    "# F1 score on validation set(Decision Tree): 0.9705165500432424"
   ]
  },
  {
   "cell_type": "code",
   "execution_count": 62,
   "metadata": {},
   "outputs": [
    {
     "name": "stdout",
     "output_type": "stream",
     "text": [
      "Accuracy on training set(Random Forest): 0.9451417235722733\n",
      "F1 score on training set(Random Forest): 0.9717018261964735\n",
      "Accuracy on validation set(Random Forest): 0.9436985047299359\n",
      "F1 score on validation set(Random Forest): 0.9710110770681122\n"
     ]
    }
   ],
   "source": [
    "# Random Forest\n",
    "rf = RandomForestClassifier(n_estimators=150, max_depth=10)\n",
    "# Train Decision tree model\n",
    "rf.fit(X_train, y_train)\n",
    "\n",
    "# Predict training set\n",
    "y_pred_rf_train = rf.predict(X_train)\n",
    "# Metrics on training set\n",
    "print(\"Accuracy on training set(Random Forest):\", accuracy_score(y_pred_rf_train, y_train))\n",
    "print(\"F1 score on training set(Random Forest):\", f1_score(y_pred_rf_train, y_train))\n",
    "fpr, tpr, thresholds = roc_curve(y_train, y_pred_rf_train, pos_label=1)\n",
    "# print(\"Area under the ROC cure on training set:\", auc(fpr, tpr))\n",
    "\n",
    "# Predict Validation set\n",
    "y_pred_df_validation = rf.predict(X_test)\n",
    "# Metrics on validation set\n",
    "print(\"Accuracy on validation set(Random Forest):\", accuracy_score(y_pred_df_validation, y_test))\n",
    "print(\"F1 score on validation set(Random Forest):\", f1_score(y_pred_df_validation, y_test))\n",
    "fpr, tpr, thresholds = roc_curve(y_test, y_pred_df_validation, pos_label=1)\n",
    "# print(\"Area under the ROC cure on validation set:\", auc(fpr, tpr))"
   ]
  },
  {
   "cell_type": "code",
   "execution_count": 63,
   "metadata": {},
   "outputs": [],
   "source": [
    "# Normalized\n",
    "# Accuracy on training set(Random Forest): 0.9467841611352712\n",
    "# F1 score on training set(Random Forest): 0.9725388295045179\n",
    "# Accuracy on validation set(Random Forest): 0.9420201403722918\n",
    "# F1 score on validation set(Random Forest): 0.9701022816679781\n",
    "\n",
    "# Normalized and generated features\n",
    "# Accuracy on training set(Random Forest): 0.9447220844619082\n",
    "# F1 score on training set(Random Forest): 0.9714915300922738\n",
    "# Accuracy on validation set(Random Forest): 0.9435459261519683\n",
    "# F1 score on validation set(Random Forest): 0.9709302325581396"
   ]
  },
  {
   "cell_type": "code",
   "execution_count": 70,
   "metadata": {},
   "outputs": [
    {
     "name": "stdout",
     "output_type": "stream",
     "text": [
      "Epoch: 0  ---  Loss: 0.7487847208976746\n",
      "Epoch: 1000  ---  Loss: 0.19132134318351746\n",
      "Epoch: 2000  ---  Loss: 0.1772812306880951\n",
      "Epoch: 3000  ---  Loss: 0.1699577271938324\n",
      "Epoch: 4000  ---  Loss: 0.1650865375995636\n",
      "Epoch: 5000  ---  Loss: 0.16216649115085602\n",
      "Epoch: 6000  ---  Loss: 0.16009220480918884\n",
      "Epoch: 7000  ---  Loss: 0.1588730812072754\n",
      "Epoch: 8000  ---  Loss: 0.15806636214256287\n",
      "Epoch: 9000  ---  Loss: 0.15740707516670227\n"
     ]
    }
   ],
   "source": [
    "# Neural Network\n",
    "\n",
    "# Create Tensors\n",
    "X_train_tensor = torch.tensor(X_train.values, dtype=torch.float32)\n",
    "y_train_tensor = torch.tensor(y_train.values)\n",
    "X_test_tensor = torch.tensor(X_test.values, dtype=torch.float32)\n",
    "y_test_tensor = torch.tensor(y_test.values)\n",
    "\n",
    "\n",
    "# Building the Neural Network\n",
    "class NeuralNetwork(nn.Module):\n",
    "    \n",
    "    def __init__(self, input_dims, output_dims):\n",
    "        super().__init__()\n",
    "        self.fc1 = nn.Linear(input_dims, 15)\n",
    "#         self.relu1 = nn.ReLU()\n",
    "        self.tanh1 = nn.Tanh()\n",
    "        self.fc2 = nn.Linear(15, 20)\n",
    "#         self.relu2 = nn.ReLU()\n",
    "        self.tanh2 = nn.Tanh()\n",
    "        self.fc3 = nn.Linear(20, 10)\n",
    "        self.relu3 = nn.ReLU()\n",
    "        self.fc4 = nn.Linear(10, 2)\n",
    "    \n",
    "    def forward(self, x):\n",
    "        out = self.fc1(x)\n",
    "#         out = self.relu1(out)\n",
    "        out = self.tanh1(out)\n",
    "        out = self.fc2(out)\n",
    "#         out = self.relu2(out)\n",
    "        out = self.tanh2(out)\n",
    "        out = self.fc3(out)\n",
    "        out = self.relu3(out)\n",
    "        out = self.fc4(out)\n",
    "        \n",
    "        return out\n",
    "    \n",
    "    \n",
    "input_dim = 13 # no. of features\n",
    "output_dim = 2 # no. of classes\n",
    "model = NeuralNetwork(input_dim, output_dim)\n",
    "criterion = nn.CrossEntropyLoss()\n",
    "optimizer = torch.optim.Adam(model.parameters(), lr=0.009)\n",
    "\n",
    "# Training\n",
    "for i in range(10000):\n",
    "    output = model(X_train_tensor)\n",
    "    loss = criterion(output, y_train_tensor)\n",
    "    \n",
    "    optimizer.zero_grad()\n",
    "    loss.backward()\n",
    "    optimizer.step()\n",
    "    \n",
    "    if i % 1000 == 0:\n",
    "        print(\"Epoch:\", i, \" ---  Loss:\", str(loss.item()))"
   ]
  },
  {
   "cell_type": "code",
   "execution_count": 71,
   "metadata": {},
   "outputs": [],
   "source": [
    "# Adam, 4Layers (RELU), lr=0.009 --> 0.17\n",
    "# Adam, 4Layers (TANH), lr=0.01 --> 0.150"
   ]
  },
  {
   "cell_type": "code",
   "execution_count": 73,
   "metadata": {},
   "outputs": [
    {
     "name": "stdout",
     "output_type": "stream",
     "text": [
      "\n"
     ]
    }
   ],
   "source": [
    "with torch.no_grad():\n",
    "    y_pred_nn_train = model(X_train_tensor)\n",
    "    print(y_pred_nn_train)\n",
    "    _, preds = torch.max(y_pred_nn_train, 1)\n",
    "    print(preds)"
   ]
  },
  {
   "cell_type": "code",
   "execution_count": null,
   "metadata": {},
   "outputs": [],
   "source": []
  },
  {
   "cell_type": "code",
   "execution_count": null,
   "metadata": {},
   "outputs": [],
   "source": [
    "# LightGBM"
   ]
  },
  {
   "cell_type": "code",
   "execution_count": null,
   "metadata": {},
   "outputs": [],
   "source": [
    "# XGBoost"
   ]
  },
  {
   "cell_type": "code",
   "execution_count": null,
   "metadata": {},
   "outputs": [],
   "source": []
  }
 ],
 "metadata": {
  "kernelspec": {
   "display_name": "Python 3",
   "language": "python",
   "name": "python3"
  },
  "language_info": {
   "codemirror_mode": {
    "name": "ipython",
    "version": 3
   },
   "file_extension": ".py",
   "mimetype": "text/x-python",
   "name": "python",
   "nbconvert_exporter": "python",
   "pygments_lexer": "ipython3",
   "version": "3.8.3"
  }
 },
 "nbformat": 4,
 "nbformat_minor": 4
}
